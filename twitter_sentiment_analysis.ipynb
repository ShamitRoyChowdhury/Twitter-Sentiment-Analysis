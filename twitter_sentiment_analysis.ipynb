{
  "nbformat": 4,
  "nbformat_minor": 0,
  "metadata": {
    "colab": {
      "name": "twitter_sentiment_analysis.ipynb",
      "provenance": [],
      "collapsed_sections": [],
      "include_colab_link": true
    },
    "kernelspec": {
      "name": "python3",
      "display_name": "Python 3"
    },
    "accelerator": "GPU"
  },
  "cells": [
    {
      "cell_type": "markdown",
      "metadata": {
        "id": "view-in-github",
        "colab_type": "text"
      },
      "source": [
        "<a href=\"https://colab.research.google.com/github/ShamitRoyChowdhury/Twitter-Sentiment-Analysis/blob/master/twitter_sentiment_analysis.ipynb\" target=\"_parent\"><img src=\"https://colab.research.google.com/assets/colab-badge.svg\" alt=\"Open In Colab\"/></a>"
      ]
    },
    {
      "cell_type": "code",
      "metadata": {
        "id": "2MGfULizJIkR",
        "colab_type": "code",
        "outputId": "0f9d6d45-794f-4a06-fa9f-779709fdaa5d",
        "colab": {
          "base_uri": "https://localhost:8080/",
          "height": 124
        }
      },
      "source": [
        "from google.colab import drive\n",
        "mounted = drive.mount(\"/content/gdrive\")"
      ],
      "execution_count": 0,
      "outputs": [
        {
          "output_type": "stream",
          "text": [
            "Go to this URL in a browser: https://accounts.google.com/o/oauth2/auth?client_id=947318989803-6bn6qk8qdgf4n4g3pfee6491hc0brc4i.apps.googleusercontent.com&redirect_uri=urn%3aietf%3awg%3aoauth%3a2.0%3aoob&response_type=code&scope=email%20https%3a%2f%2fwww.googleapis.com%2fauth%2fdocs.test%20https%3a%2f%2fwww.googleapis.com%2fauth%2fdrive%20https%3a%2f%2fwww.googleapis.com%2fauth%2fdrive.photos.readonly%20https%3a%2f%2fwww.googleapis.com%2fauth%2fpeopleapi.readonly\n",
            "\n",
            "Enter your authorization code:\n",
            "··········\n",
            "Mounted at /content/gdrive\n"
          ],
          "name": "stdout"
        }
      ]
    },
    {
      "cell_type": "markdown",
      "metadata": {
        "id": "yJO29BN4rl3f",
        "colab_type": "text"
      },
      "source": [
        "# Twitter Sentimental Analysis\n",
        "\n",
        "\n",
        "\n",
        "\n",
        "\n",
        "\n"
      ]
    },
    {
      "cell_type": "code",
      "metadata": {
        "id": "cOXbxX6Hrj-T",
        "colab_type": "code",
        "outputId": "28f40249-d904-4299-dc84-9fe1d4cbee47",
        "colab": {
          "base_uri": "https://localhost:8080/",
          "height": 800
        }
      },
      "source": [
        "get_ipython().system('pip install gensim --upgrade')\n",
        "get_ipython().system('pip install keras --upgrade')\n",
        "get_ipython().system('pip install pandas --upgrade')"
      ],
      "execution_count": 0,
      "outputs": [
        {
          "output_type": "stream",
          "text": [
            "Collecting gensim\n",
            "\u001b[?25l  Downloading https://files.pythonhosted.org/packages/d1/dd/112bd4258cee11e0baaaba064060eb156475a42362e59e3ff28e7ca2d29d/gensim-3.8.1-cp36-cp36m-manylinux1_x86_64.whl (24.2MB)\n",
            "\u001b[K     |████████████████████████████████| 24.2MB 130kB/s \n",
            "\u001b[?25hRequirement already satisfied, skipping upgrade: scipy>=0.18.1 in /usr/local/lib/python3.6/dist-packages (from gensim) (1.4.1)\n",
            "Requirement already satisfied, skipping upgrade: six>=1.5.0 in /usr/local/lib/python3.6/dist-packages (from gensim) (1.12.0)\n",
            "Requirement already satisfied, skipping upgrade: smart-open>=1.8.1 in /usr/local/lib/python3.6/dist-packages (from gensim) (1.9.0)\n",
            "Requirement already satisfied, skipping upgrade: numpy>=1.11.3 in /usr/local/lib/python3.6/dist-packages (from gensim) (1.17.5)\n",
            "Requirement already satisfied, skipping upgrade: boto3 in /usr/local/lib/python3.6/dist-packages (from smart-open>=1.8.1->gensim) (1.10.47)\n",
            "Requirement already satisfied, skipping upgrade: boto>=2.32 in /usr/local/lib/python3.6/dist-packages (from smart-open>=1.8.1->gensim) (2.49.0)\n",
            "Requirement already satisfied, skipping upgrade: requests in /usr/local/lib/python3.6/dist-packages (from smart-open>=1.8.1->gensim) (2.21.0)\n",
            "Requirement already satisfied, skipping upgrade: s3transfer<0.3.0,>=0.2.0 in /usr/local/lib/python3.6/dist-packages (from boto3->smart-open>=1.8.1->gensim) (0.2.1)\n",
            "Requirement already satisfied, skipping upgrade: jmespath<1.0.0,>=0.7.1 in /usr/local/lib/python3.6/dist-packages (from boto3->smart-open>=1.8.1->gensim) (0.9.4)\n",
            "Requirement already satisfied, skipping upgrade: botocore<1.14.0,>=1.13.47 in /usr/local/lib/python3.6/dist-packages (from boto3->smart-open>=1.8.1->gensim) (1.13.47)\n",
            "Requirement already satisfied, skipping upgrade: idna<2.9,>=2.5 in /usr/local/lib/python3.6/dist-packages (from requests->smart-open>=1.8.1->gensim) (2.8)\n",
            "Requirement already satisfied, skipping upgrade: urllib3<1.25,>=1.21.1 in /usr/local/lib/python3.6/dist-packages (from requests->smart-open>=1.8.1->gensim) (1.24.3)\n",
            "Requirement already satisfied, skipping upgrade: certifi>=2017.4.17 in /usr/local/lib/python3.6/dist-packages (from requests->smart-open>=1.8.1->gensim) (2019.11.28)\n",
            "Requirement already satisfied, skipping upgrade: chardet<3.1.0,>=3.0.2 in /usr/local/lib/python3.6/dist-packages (from requests->smart-open>=1.8.1->gensim) (3.0.4)\n",
            "Requirement already satisfied, skipping upgrade: python-dateutil<3.0.0,>=2.1; python_version >= \"2.7\" in /usr/local/lib/python3.6/dist-packages (from botocore<1.14.0,>=1.13.47->boto3->smart-open>=1.8.1->gensim) (2.6.1)\n",
            "Requirement already satisfied, skipping upgrade: docutils<0.16,>=0.10 in /usr/local/lib/python3.6/dist-packages (from botocore<1.14.0,>=1.13.47->boto3->smart-open>=1.8.1->gensim) (0.15.2)\n",
            "Installing collected packages: gensim\n",
            "  Found existing installation: gensim 3.6.0\n",
            "    Uninstalling gensim-3.6.0:\n",
            "      Successfully uninstalled gensim-3.6.0\n",
            "Successfully installed gensim-3.8.1\n",
            "Collecting keras\n",
            "\u001b[?25l  Downloading https://files.pythonhosted.org/packages/ad/fd/6bfe87920d7f4fd475acd28500a42482b6b84479832bdc0fe9e589a60ceb/Keras-2.3.1-py2.py3-none-any.whl (377kB)\n",
            "\u001b[K     |████████████████████████████████| 378kB 3.4MB/s \n",
            "\u001b[?25hRequirement already satisfied, skipping upgrade: keras-applications>=1.0.6 in /usr/local/lib/python3.6/dist-packages (from keras) (1.0.8)\n",
            "Requirement already satisfied, skipping upgrade: six>=1.9.0 in /usr/local/lib/python3.6/dist-packages (from keras) (1.12.0)\n",
            "Requirement already satisfied, skipping upgrade: scipy>=0.14 in /usr/local/lib/python3.6/dist-packages (from keras) (1.4.1)\n",
            "Requirement already satisfied, skipping upgrade: pyyaml in /usr/local/lib/python3.6/dist-packages (from keras) (3.13)\n",
            "Requirement already satisfied, skipping upgrade: numpy>=1.9.1 in /usr/local/lib/python3.6/dist-packages (from keras) (1.17.5)\n",
            "Requirement already satisfied, skipping upgrade: keras-preprocessing>=1.0.5 in /usr/local/lib/python3.6/dist-packages (from keras) (1.1.0)\n",
            "Requirement already satisfied, skipping upgrade: h5py in /usr/local/lib/python3.6/dist-packages (from keras) (2.8.0)\n",
            "Installing collected packages: keras\n",
            "  Found existing installation: Keras 2.2.5\n",
            "    Uninstalling Keras-2.2.5:\n",
            "      Successfully uninstalled Keras-2.2.5\n",
            "Successfully installed keras-2.3.1\n",
            "Requirement already up-to-date: pandas in /usr/local/lib/python3.6/dist-packages (0.25.3)\n",
            "Requirement already satisfied, skipping upgrade: pytz>=2017.2 in /usr/local/lib/python3.6/dist-packages (from pandas) (2018.9)\n",
            "Requirement already satisfied, skipping upgrade: numpy>=1.13.3 in /usr/local/lib/python3.6/dist-packages (from pandas) (1.17.5)\n",
            "Requirement already satisfied, skipping upgrade: python-dateutil>=2.6.1 in /usr/local/lib/python3.6/dist-packages (from pandas) (2.6.1)\n",
            "Requirement already satisfied, skipping upgrade: six>=1.5 in /usr/local/lib/python3.6/dist-packages (from python-dateutil>=2.6.1->pandas) (1.12.0)\n"
          ],
          "name": "stdout"
        }
      ]
    },
    {
      "cell_type": "code",
      "metadata": {
        "id": "-bCY-Z3Xr8R2",
        "colab_type": "code",
        "outputId": "449e3695-72aa-41f3-ecdb-da09289c5ff2",
        "colab": {
          "base_uri": "https://localhost:8080/",
          "height": 81
        }
      },
      "source": [
        "# DataFrame\n",
        "import pandas as pd\n",
        "\n",
        "# Matplot\n",
        "import matplotlib.pyplot as plt\n",
        "get_ipython().run_line_magic('matplotlib', 'inline')\n",
        "\n",
        "# Scikit-learn\n",
        "from sklearn.model_selection import train_test_split\n",
        "from sklearn.preprocessing import LabelEncoder\n",
        "from sklearn.metrics import confusion_matrix, classification_report, accuracy_score\n",
        "from sklearn.manifold import TSNE\n",
        "from sklearn.feature_extraction.text import TfidfVectorizer\n",
        "\n",
        "# Keras\n",
        "from keras.preprocessing.text import Tokenizer\n",
        "from keras.preprocessing.sequence import pad_sequences\n",
        "from keras.models import Sequential,load_model\n",
        "from keras.layers import Activation, Dense, Dropout, Embedding, Flatten, Conv1D, MaxPooling1D, LSTM\n",
        "from keras import utils\n",
        "from keras.callbacks import ReduceLROnPlateau, EarlyStopping\n",
        "\n",
        "# nltk\n",
        "import nltk\n",
        "from nltk.corpus import stopwords\n",
        "from  nltk.stem import SnowballStemmer\n",
        "\n",
        "# Word2vec\n",
        "import gensim\n",
        "\n",
        "# Utility\n",
        "import re\n",
        "import numpy as np\n",
        "import os\n",
        "from collections import Counter\n",
        "import logging\n",
        "import time\n",
        "import pickle\n",
        "import itertools\n",
        "\n",
        "# Set log\n",
        "logging.basicConfig(format='%(asctime)s : %(levelname)s : %(message)s', level=logging.INFO)"
      ],
      "execution_count": 0,
      "outputs": [
        {
          "output_type": "stream",
          "text": [
            "Using TensorFlow backend.\n"
          ],
          "name": "stderr"
        },
        {
          "output_type": "display_data",
          "data": {
            "text/html": [
              "<p style=\"color: red;\">\n",
              "The default version of TensorFlow in Colab will soon switch to TensorFlow 2.x.<br>\n",
              "We recommend you <a href=\"https://www.tensorflow.org/guide/migrate\" target=\"_blank\">upgrade</a> now \n",
              "or ensure your notebook will continue to use TensorFlow 1.x via the <code>%tensorflow_version 1.x</code> magic:\n",
              "<a href=\"https://colab.research.google.com/notebooks/tensorflow_version.ipynb\" target=\"_blank\">more info</a>.</p>\n"
            ],
            "text/plain": [
              "<IPython.core.display.HTML object>"
            ]
          },
          "metadata": {
            "tags": []
          }
        }
      ]
    },
    {
      "cell_type": "code",
      "metadata": {
        "id": "WKTFMQBYsIRH",
        "colab_type": "code",
        "outputId": "37b67949-2c9b-4cbf-da29-6efc25ed5867",
        "colab": {
          "base_uri": "https://localhost:8080/",
          "height": 69
        }
      },
      "source": [
        "nltk.download('stopwords')"
      ],
      "execution_count": 0,
      "outputs": [
        {
          "output_type": "stream",
          "text": [
            "[nltk_data] Downloading package stopwords to /root/nltk_data...\n",
            "[nltk_data]   Unzipping corpora/stopwords.zip.\n"
          ],
          "name": "stdout"
        },
        {
          "output_type": "execute_result",
          "data": {
            "text/plain": [
              "True"
            ]
          },
          "metadata": {
            "tags": []
          },
          "execution_count": 4
        }
      ]
    },
    {
      "cell_type": "markdown",
      "metadata": {
        "id": "WLktvMLJsMkr",
        "colab_type": "text"
      },
      "source": [
        "### Settings"
      ]
    },
    {
      "cell_type": "code",
      "metadata": {
        "id": "5bCUgmCqsQ3f",
        "colab_type": "code",
        "colab": {}
      },
      "source": [
        "# DATASET\n",
        "DATASET_COLUMNS = [\"target\", \"ids\", \"date\", \"flag\", \"user\", \"text\"]\n",
        "DATASET_ENCODING = \"ISO-8859-1\"\n",
        "TRAIN_SIZE = 0.8\n",
        "\n",
        "# TEXT CLENAING\n",
        "TEXT_CLEANING_RE = \"@\\S+|https?:\\S+|http?:\\S|[^A-Za-z0-9]+\"\n",
        "\n",
        "# WORD2VEC \n",
        "W2V_SIZE = 300\n",
        "W2V_WINDOW = 7\n",
        "W2V_EPOCH = 32\n",
        "W2V_MIN_COUNT = 10\n",
        "\n",
        "# KERAS\n",
        "SEQUENCE_LENGTH = 300\n",
        "EPOCHS = 8\n",
        "BATCH_SIZE = 1024\n",
        "\n",
        "# SENTIMENT\n",
        "POSITIVE = \"POSITIVE\"\n",
        "NEGATIVE = \"NEGATIVE\"\n",
        "NEUTRAL = \"NEUTRAL\"\n",
        "SENTIMENT_THRESHOLDS = (0.4, 0.7)\n",
        "\n",
        "# EXPORT\n",
        "KERAS_MODEL = r\"/content/gdrive/My Drive/model.h5\"\n",
        "WORD2VEC_MODEL = \"/content/gdrive/My Drive/model.w2v\"\n",
        "TOKENIZER_MODEL = \"/content/gdrive/My Drive/tokenizer.pkl\"\n",
        "ENCODER_MODEL = \"/content/gdrive/My Drive/encoder.pkl\""
      ],
      "execution_count": 0,
      "outputs": []
    },
    {
      "cell_type": "markdown",
      "metadata": {
        "id": "smKZVVPCsZMk",
        "colab_type": "text"
      },
      "source": [
        "### Read Dataset"
      ]
    },
    {
      "cell_type": "markdown",
      "metadata": {
        "id": "7IgNSnSPsdW9",
        "colab_type": "text"
      },
      "source": [
        "### Dataset details\n",
        "* **target**: the polarity of the tweet (0 = negative, 2 = neutral, 4 = positive)\n",
        "* **ids**: The id of the tweet ( 2087)\n",
        "* **date**: the date of the tweet (Sat May 16 23:58:44 UTC 2009)\n",
        "* **flag**: The query (lyx). If there is no query, then this value is NO_QUERY.\n",
        "* **user**: the user that tweeted (robotickilldozr)\n",
        "* **text**: the text of the tweet (Lyx is cool)"
      ]
    },
    {
      "cell_type": "code",
      "metadata": {
        "id": "gUP7WUtQsoom",
        "colab_type": "code",
        "outputId": "a83f30ff-6e95-4ca0-eb53-88beedb97864",
        "colab": {
          "base_uri": "https://localhost:8080/",
          "height": 35
        }
      },
      "source": [
        "# dataset_filename = os.listdir(\"../input\")[0]\n",
        "dataset_path = r\"/content/gdrive/My Drive/dataset.csv\" # os.path.join(\"..\",\"input\",dataset_filename)\n",
        "print(\"Open file:\", dataset_path)\n",
        "df = pd.read_csv(dataset_path, encoding =DATASET_ENCODING , names=DATASET_COLUMNS)"
      ],
      "execution_count": 0,
      "outputs": [
        {
          "output_type": "stream",
          "text": [
            "Open file: /content/gdrive/My Drive/dataset.csv\n"
          ],
          "name": "stdout"
        }
      ]
    },
    {
      "cell_type": "code",
      "metadata": {
        "id": "rGW-MTFOssqb",
        "colab_type": "code",
        "outputId": "8d13eb95-6c0b-4eb1-e4d0-349a130393dc",
        "colab": {
          "base_uri": "https://localhost:8080/",
          "height": 35
        }
      },
      "source": [
        "print(\"Dataset size:\", len(df))"
      ],
      "execution_count": 0,
      "outputs": [
        {
          "output_type": "stream",
          "text": [
            "Dataset size: 1600000\n"
          ],
          "name": "stdout"
        }
      ]
    },
    {
      "cell_type": "code",
      "metadata": {
        "id": "w5-wFC_7s3pc",
        "colab_type": "code",
        "outputId": "57467f64-c6ec-467f-984d-7f42582cc3b4",
        "colab": {
          "base_uri": "https://localhost:8080/",
          "height": 202
        }
      },
      "source": [
        "df.head(5)"
      ],
      "execution_count": 0,
      "outputs": [
        {
          "output_type": "execute_result",
          "data": {
            "text/html": [
              "<div>\n",
              "<style scoped>\n",
              "    .dataframe tbody tr th:only-of-type {\n",
              "        vertical-align: middle;\n",
              "    }\n",
              "\n",
              "    .dataframe tbody tr th {\n",
              "        vertical-align: top;\n",
              "    }\n",
              "\n",
              "    .dataframe thead th {\n",
              "        text-align: right;\n",
              "    }\n",
              "</style>\n",
              "<table border=\"1\" class=\"dataframe\">\n",
              "  <thead>\n",
              "    <tr style=\"text-align: right;\">\n",
              "      <th></th>\n",
              "      <th>target</th>\n",
              "      <th>ids</th>\n",
              "      <th>date</th>\n",
              "      <th>flag</th>\n",
              "      <th>user</th>\n",
              "      <th>text</th>\n",
              "    </tr>\n",
              "  </thead>\n",
              "  <tbody>\n",
              "    <tr>\n",
              "      <th>0</th>\n",
              "      <td>0</td>\n",
              "      <td>1467810369</td>\n",
              "      <td>Mon Apr 06 22:19:45 PDT 2009</td>\n",
              "      <td>NO_QUERY</td>\n",
              "      <td>_TheSpecialOne_</td>\n",
              "      <td>@switchfoot http://twitpic.com/2y1zl - Awww, t...</td>\n",
              "    </tr>\n",
              "    <tr>\n",
              "      <th>1</th>\n",
              "      <td>0</td>\n",
              "      <td>1467810672</td>\n",
              "      <td>Mon Apr 06 22:19:49 PDT 2009</td>\n",
              "      <td>NO_QUERY</td>\n",
              "      <td>scotthamilton</td>\n",
              "      <td>is upset that he can't update his Facebook by ...</td>\n",
              "    </tr>\n",
              "    <tr>\n",
              "      <th>2</th>\n",
              "      <td>0</td>\n",
              "      <td>1467810917</td>\n",
              "      <td>Mon Apr 06 22:19:53 PDT 2009</td>\n",
              "      <td>NO_QUERY</td>\n",
              "      <td>mattycus</td>\n",
              "      <td>@Kenichan I dived many times for the ball. Man...</td>\n",
              "    </tr>\n",
              "    <tr>\n",
              "      <th>3</th>\n",
              "      <td>0</td>\n",
              "      <td>1467811184</td>\n",
              "      <td>Mon Apr 06 22:19:57 PDT 2009</td>\n",
              "      <td>NO_QUERY</td>\n",
              "      <td>ElleCTF</td>\n",
              "      <td>my whole body feels itchy and like its on fire</td>\n",
              "    </tr>\n",
              "    <tr>\n",
              "      <th>4</th>\n",
              "      <td>0</td>\n",
              "      <td>1467811193</td>\n",
              "      <td>Mon Apr 06 22:19:57 PDT 2009</td>\n",
              "      <td>NO_QUERY</td>\n",
              "      <td>Karoli</td>\n",
              "      <td>@nationwideclass no, it's not behaving at all....</td>\n",
              "    </tr>\n",
              "  </tbody>\n",
              "</table>\n",
              "</div>"
            ],
            "text/plain": [
              "   target  ...                                               text\n",
              "0       0  ...  @switchfoot http://twitpic.com/2y1zl - Awww, t...\n",
              "1       0  ...  is upset that he can't update his Facebook by ...\n",
              "2       0  ...  @Kenichan I dived many times for the ball. Man...\n",
              "3       0  ...    my whole body feels itchy and like its on fire \n",
              "4       0  ...  @nationwideclass no, it's not behaving at all....\n",
              "\n",
              "[5 rows x 6 columns]"
            ]
          },
          "metadata": {
            "tags": []
          },
          "execution_count": 15
        }
      ]
    },
    {
      "cell_type": "markdown",
      "metadata": {
        "id": "VC5gGSvqtCFG",
        "colab_type": "text"
      },
      "source": [
        "### Map target label to String\n",
        "* **0** -> **NEGATIVE**\n",
        "* **2** -> **NEUTRAL**\n",
        "* **4** -> **POSITIVE**"
      ]
    },
    {
      "cell_type": "code",
      "metadata": {
        "id": "FWMTywjGtP73",
        "colab_type": "code",
        "colab": {}
      },
      "source": [
        "\n",
        "decode_map = {0: \"NEGATIVE\", 2: \"NEUTRAL\", 4: \"POSITIVE\"}\n",
        "def decode_sentiment(label):\n",
        "    return decode_map[int(label)]\n"
      ],
      "execution_count": 0,
      "outputs": []
    },
    {
      "cell_type": "code",
      "metadata": {
        "id": "zdmVl9hZtXE-",
        "colab_type": "code",
        "outputId": "a331fa74-4cc5-4bf2-c5d1-434546df943b",
        "colab": {
          "base_uri": "https://localhost:8080/",
          "height": 52
        }
      },
      "source": [
        "get_ipython().run_cell_magic('time', '', 'df.target = df.target.apply(lambda x: decode_sentiment(x))')"
      ],
      "execution_count": 0,
      "outputs": [
        {
          "output_type": "stream",
          "text": [
            "CPU times: user 435 ms, sys: 3.16 ms, total: 438 ms\n",
            "Wall time: 438 ms\n"
          ],
          "name": "stdout"
        }
      ]
    },
    {
      "cell_type": "code",
      "metadata": {
        "id": "oSx8pVcPtaYk",
        "colab_type": "code",
        "outputId": "2afdc176-8564-462c-da4d-cbb7c4a99b98",
        "colab": {
          "base_uri": "https://localhost:8080/",
          "height": 517
        }
      },
      "source": [
        "target_cnt = Counter(df.target)\n",
        "\n",
        "plt.figure(figsize=(16,8))\n",
        "plt.bar(target_cnt.keys(), target_cnt.values())\n",
        "plt.title(\"Dataset labels distribuition\")"
      ],
      "execution_count": 0,
      "outputs": [
        {
          "output_type": "execute_result",
          "data": {
            "text/plain": [
              "Text(0.5, 1.0, 'Dataset labels distribuition')"
            ]
          },
          "metadata": {
            "tags": []
          },
          "execution_count": 18
        },
        {
          "output_type": "display_data",
          "data": {
            "image/png": "[encoded data removed]",
            "text/plain": [
              "<Figure size 1152x576 with 1 Axes>"
            ]
          },
          "metadata": {
            "tags": []
          }
        }
      ]
    },
    {
      "cell_type": "markdown",
      "metadata": {
        "id": "0cv8WhcltfKC",
        "colab_type": "text"
      },
      "source": [
        "### Pre-process dataset"
      ]
    },
    {
      "cell_type": "code",
      "metadata": {
        "id": "VWaXexmwtkPv",
        "colab_type": "code",
        "colab": {}
      },
      "source": [
        "stop_words = stopwords.words(\"english\")\n",
        "stemmer = SnowballStemmer(\"english\")"
      ],
      "execution_count": 0,
      "outputs": []
    },
    {
      "cell_type": "code",
      "metadata": {
        "id": "AkBqFWJvtm-R",
        "colab_type": "code",
        "colab": {}
      },
      "source": [
        "def preprocess(text, stem=False):\n",
        "    # Remove link,user,special characters and stopwords \n",
        "    text = re.sub(TEXT_CLEANING_RE, ' ', str(text).lower()).strip()\n",
        "    tokens = []\n",
        "    for token in text.split():\n",
        "        if token not in stop_words:\n",
        "            if stem:\n",
        "                tokens.append(stemmer.stem(token))\n",
        "            else:\n",
        "                tokens.append(token)\n",
        "    return \" \".join(tokens)"
      ],
      "execution_count": 0,
      "outputs": []
    },
    {
      "cell_type": "code",
      "metadata": {
        "id": "_MfvBMY9trx9",
        "colab_type": "code",
        "outputId": "e658cf90-c7d5-438b-c1a7-be28d3a1f1b6",
        "colab": {
          "base_uri": "https://localhost:8080/",
          "height": 52
        }
      },
      "source": [
        "get_ipython().run_cell_magic('time', '', 'df.text = df.text.apply(lambda x: preprocess(x))')"
      ],
      "execution_count": 0,
      "outputs": [
        {
          "output_type": "stream",
          "text": [
            "CPU times: user 40.3 s, sys: 98.5 ms, total: 40.4 s\n",
            "Wall time: 40.4 s\n"
          ],
          "name": "stdout"
        }
      ]
    },
    {
      "cell_type": "markdown",
      "metadata": {
        "id": "yw7q3b9xtvtx",
        "colab_type": "text"
      },
      "source": [
        "### Split train and test"
      ]
    },
    {
      "cell_type": "code",
      "metadata": {
        "id": "kAELzYmmtznh",
        "colab_type": "code",
        "outputId": "29ab1bf4-e79f-4423-bf5a-f530ff99bbf7",
        "colab": {
          "base_uri": "https://localhost:8080/",
          "height": 52
        }
      },
      "source": [
        "df_train, df_test = train_test_split(df, test_size=1-TRAIN_SIZE, random_state=42)\n",
        "print(\"TRAIN size:\", len(df_train))\n",
        "print(\"TEST size:\", len(df_test))"
      ],
      "execution_count": 0,
      "outputs": [
        {
          "output_type": "stream",
          "text": [
            "TRAIN size: 1280000\n",
            "TEST size: 320000\n"
          ],
          "name": "stdout"
        }
      ]
    },
    {
      "cell_type": "markdown",
      "metadata": {
        "id": "lzpKWcARt4pP",
        "colab_type": "text"
      },
      "source": [
        "### Word2Vec"
      ]
    },
    {
      "cell_type": "code",
      "metadata": {
        "id": "H8Xi7dNwt8vu",
        "colab_type": "code",
        "outputId": "1a5c7b54-c8b7-41c2-c77a-f80242def5cb",
        "colab": {
          "base_uri": "https://localhost:8080/",
          "height": 52
        }
      },
      "source": [
        "get_ipython().run_cell_magic('time', '', 'documents = [_text.split() for _text in df_train.text]')\n"
      ],
      "execution_count": 0,
      "outputs": [
        {
          "output_type": "stream",
          "text": [
            "CPU times: user 2.61 s, sys: 268 ms, total: 2.87 s\n",
            "Wall time: 2.88 s\n"
          ],
          "name": "stdout"
        }
      ]
    },
    {
      "cell_type": "code",
      "metadata": {
        "id": "BWvrII_auAx4",
        "colab_type": "code",
        "colab": {}
      },
      "source": [
        "w2v_model = gensim.models.word2vec.Word2Vec(size=W2V_SIZE, \n",
        "                                            window=W2V_WINDOW, \n",
        "                                            min_count=W2V_MIN_COUNT, \n",
        "                                            workers=8)"
      ],
      "execution_count": 0,
      "outputs": []
    },
    {
      "cell_type": "code",
      "metadata": {
        "id": "F6x2CMI1uDqj",
        "colab_type": "code",
        "outputId": "ff11f699-2761-4b58-ef28-8a1db809eb92",
        "colab": {
          "base_uri": "https://localhost:8080/",
          "height": 1000
        }
      },
      "source": [
        "w2v_model.build_vocab(documents)"
      ],
      "execution_count": 0,
      "outputs": [
        {
          "output_type": "stream",
          "text": [
            "2020-01-17 05:42:05,746 : INFO : collecting all words and their counts\n",
            "2020-01-17 05:42:05,748 : INFO : PROGRESS: at sentence #0, processed 0 words, keeping 0 word types\n",
            "2020-01-17 05:42:05,772 : INFO : PROGRESS: at sentence #10000, processed 72565 words, keeping 14005 word types\n",
            "2020-01-17 05:42:05,794 : INFO : PROGRESS: at sentence #20000, processed 144393 words, keeping 21587 word types\n",
            "2020-01-17 05:42:05,812 : INFO : PROGRESS: at sentence #30000, processed 215826 words, keeping 27541 word types\n",
            "2020-01-17 05:42:05,830 : INFO : PROGRESS: at sentence #40000, processed 288271 words, keeping 32764 word types\n",
            "2020-01-17 05:42:05,848 : INFO : PROGRESS: at sentence #50000, processed 359772 words, keeping 37587 word types\n",
            "2020-01-17 05:42:05,867 : INFO : PROGRESS: at sentence #60000, processed 431431 words, keeping 42198 word types\n",
            "2020-01-17 05:42:05,887 : INFO : PROGRESS: at sentence #70000, processed 503103 words, keeping 46458 word types\n",
            "2020-01-17 05:42:05,906 : INFO : PROGRESS: at sentence #80000, processed 575709 words, keeping 50476 word types\n",
            "2020-01-17 05:42:05,925 : INFO : PROGRESS: at sentence #90000, processed 647100 words, keeping 54140 word types\n",
            "2020-01-17 05:42:05,944 : INFO : PROGRESS: at sentence #100000, processed 718681 words, keeping 57777 word types\n",
            "2020-01-17 05:42:05,963 : INFO : PROGRESS: at sentence #110000, processed 790696 words, keeping 61207 word types\n",
            "2020-01-17 05:42:05,982 : INFO : PROGRESS: at sentence #120000, processed 863134 words, keeping 64583 word types\n",
            "2020-01-17 05:42:06,005 : INFO : PROGRESS: at sentence #130000, processed 935111 words, keeping 67865 word types\n",
            "2020-01-17 05:42:06,028 : INFO : PROGRESS: at sentence #140000, processed 1006668 words, keeping 70966 word types\n",
            "2020-01-17 05:42:06,051 : INFO : PROGRESS: at sentence #150000, processed 1078512 words, keeping 74119 word types\n",
            "2020-01-17 05:42:06,074 : INFO : PROGRESS: at sentence #160000, processed 1149914 words, keeping 77187 word types\n",
            "2020-01-17 05:42:06,093 : INFO : PROGRESS: at sentence #170000, processed 1222145 words, keeping 80267 word types\n",
            "2020-01-17 05:42:06,115 : INFO : PROGRESS: at sentence #180000, processed 1294708 words, keeping 83393 word types\n",
            "2020-01-17 05:42:06,136 : INFO : PROGRESS: at sentence #190000, processed 1367608 words, keeping 86329 word types\n",
            "2020-01-17 05:42:06,158 : INFO : PROGRESS: at sentence #200000, processed 1439469 words, keeping 89103 word types\n",
            "2020-01-17 05:42:06,178 : INFO : PROGRESS: at sentence #210000, processed 1512099 words, keeping 91840 word types\n",
            "2020-01-17 05:42:06,198 : INFO : PROGRESS: at sentence #220000, processed 1584149 words, keeping 94636 word types\n",
            "2020-01-17 05:42:06,217 : INFO : PROGRESS: at sentence #230000, processed 1656354 words, keeping 97353 word types\n",
            "2020-01-17 05:42:06,236 : INFO : PROGRESS: at sentence #240000, processed 1728573 words, keeping 99975 word types\n",
            "2020-01-17 05:42:06,255 : INFO : PROGRESS: at sentence #250000, processed 1801102 words, keeping 102594 word types\n",
            "2020-01-17 05:42:06,275 : INFO : PROGRESS: at sentence #260000, processed 1873103 words, keeping 105162 word types\n",
            "2020-01-17 05:42:06,297 : INFO : PROGRESS: at sentence #270000, processed 1945245 words, keeping 107626 word types\n",
            "2020-01-17 05:42:06,317 : INFO : PROGRESS: at sentence #280000, processed 2017163 words, keeping 110141 word types\n",
            "2020-01-17 05:42:06,336 : INFO : PROGRESS: at sentence #290000, processed 2089574 words, keeping 112539 word types\n",
            "2020-01-17 05:42:06,355 : INFO : PROGRESS: at sentence #300000, processed 2160996 words, keeping 114893 word types\n",
            "2020-01-17 05:42:06,374 : INFO : PROGRESS: at sentence #310000, processed 2232913 words, keeping 117298 word types\n",
            "2020-01-17 05:42:06,393 : INFO : PROGRESS: at sentence #320000, processed 2305039 words, keeping 119693 word types\n",
            "2020-01-17 05:42:06,412 : INFO : PROGRESS: at sentence #330000, processed 2377119 words, keeping 122131 word types\n",
            "2020-01-17 05:42:06,431 : INFO : PROGRESS: at sentence #340000, processed 2449370 words, keeping 124416 word types\n",
            "2020-01-17 05:42:06,452 : INFO : PROGRESS: at sentence #350000, processed 2521564 words, keeping 126669 word types\n",
            "2020-01-17 05:42:06,473 : INFO : PROGRESS: at sentence #360000, processed 2593681 words, keeping 128912 word types\n",
            "2020-01-17 05:42:06,493 : INFO : PROGRESS: at sentence #370000, processed 2665692 words, keeping 131135 word types\n",
            "2020-01-17 05:42:06,512 : INFO : PROGRESS: at sentence #380000, processed 2737859 words, keeping 133403 word types\n",
            "2020-01-17 05:42:06,531 : INFO : PROGRESS: at sentence #390000, processed 2809848 words, keeping 135551 word types\n",
            "2020-01-17 05:42:06,551 : INFO : PROGRESS: at sentence #400000, processed 2882438 words, keeping 137742 word types\n",
            "2020-01-17 05:42:06,570 : INFO : PROGRESS: at sentence #410000, processed 2954075 words, keeping 139909 word types\n",
            "2020-01-17 05:42:06,589 : INFO : PROGRESS: at sentence #420000, processed 3026247 words, keeping 142144 word types\n",
            "2020-01-17 05:42:06,612 : INFO : PROGRESS: at sentence #430000, processed 3098659 words, keeping 144364 word types\n",
            "2020-01-17 05:42:06,632 : INFO : PROGRESS: at sentence #440000, processed 3170663 words, keeping 146439 word types\n",
            "2020-01-17 05:42:06,652 : INFO : PROGRESS: at sentence #450000, processed 3243344 words, keeping 148526 word types\n",
            "2020-01-17 05:42:06,673 : INFO : PROGRESS: at sentence #460000, processed 3315466 words, keeping 150610 word types\n",
            "2020-01-17 05:42:06,693 : INFO : PROGRESS: at sentence #470000, processed 3388295 words, keeping 152737 word types\n",
            "2020-01-17 05:42:06,712 : INFO : PROGRESS: at sentence #480000, processed 3460120 words, keeping 154757 word types\n",
            "2020-01-17 05:42:06,731 : INFO : PROGRESS: at sentence #490000, processed 3531883 words, keeping 156825 word types\n",
            "2020-01-17 05:42:06,751 : INFO : PROGRESS: at sentence #500000, processed 3604217 words, keeping 158859 word types\n",
            "2020-01-17 05:42:06,771 : INFO : PROGRESS: at sentence #510000, processed 3676427 words, keeping 160852 word types\n",
            "2020-01-17 05:42:06,792 : INFO : PROGRESS: at sentence #520000, processed 3749045 words, keeping 162863 word types\n",
            "2020-01-17 05:42:06,815 : INFO : PROGRESS: at sentence #530000, processed 3821622 words, keeping 164929 word types\n",
            "2020-01-17 05:42:06,835 : INFO : PROGRESS: at sentence #540000, processed 3893627 words, keeping 166840 word types\n",
            "2020-01-17 05:42:06,854 : INFO : PROGRESS: at sentence #550000, processed 3965477 words, keeping 168799 word types\n",
            "2020-01-17 05:42:06,874 : INFO : PROGRESS: at sentence #560000, processed 4038050 words, keeping 170802 word types\n",
            "2020-01-17 05:42:06,894 : INFO : PROGRESS: at sentence #570000, processed 4110296 words, keeping 172760 word types\n",
            "2020-01-17 05:42:06,913 : INFO : PROGRESS: at sentence #580000, processed 4182385 words, keeping 174635 word types\n",
            "2020-01-17 05:42:06,939 : INFO : PROGRESS: at sentence #590000, processed 4254632 words, keeping 176470 word types\n",
            "2020-01-17 05:42:06,958 : INFO : PROGRESS: at sentence #600000, processed 4326859 words, keeping 178350 word types\n",
            "2020-01-17 05:42:06,979 : INFO : PROGRESS: at sentence #610000, processed 4399183 words, keeping 180290 word types\n",
            "2020-01-17 05:42:06,998 : INFO : PROGRESS: at sentence #620000, processed 4471343 words, keeping 182129 word types\n",
            "2020-01-17 05:42:07,017 : INFO : PROGRESS: at sentence #630000, processed 4543286 words, keeping 184005 word types\n",
            "2020-01-17 05:42:07,036 : INFO : PROGRESS: at sentence #640000, processed 4615780 words, keeping 185835 word types\n",
            "2020-01-17 05:42:07,057 : INFO : PROGRESS: at sentence #650000, processed 4688481 words, keeping 187705 word types\n",
            "2020-01-17 05:42:07,077 : INFO : PROGRESS: at sentence #660000, processed 4760481 words, keeping 189439 word types\n",
            "2020-01-17 05:42:07,097 : INFO : PROGRESS: at sentence #670000, processed 4833024 words, keeping 191232 word types\n",
            "2020-01-17 05:42:07,116 : INFO : PROGRESS: at sentence #680000, processed 4904516 words, keeping 193177 word types\n",
            "2020-01-17 05:42:07,135 : INFO : PROGRESS: at sentence #690000, processed 4976968 words, keeping 194960 word types\n",
            "2020-01-17 05:42:07,155 : INFO : PROGRESS: at sentence #700000, processed 5049412 words, keeping 196725 word types\n",
            "2020-01-17 05:42:07,174 : INFO : PROGRESS: at sentence #710000, processed 5121976 words, keeping 198516 word types\n",
            "2020-01-17 05:42:07,197 : INFO : PROGRESS: at sentence #720000, processed 5193881 words, keeping 200325 word types\n",
            "2020-01-17 05:42:07,216 : INFO : PROGRESS: at sentence #730000, processed 5265467 words, keeping 202133 word types\n",
            "2020-01-17 05:42:07,236 : INFO : PROGRESS: at sentence #740000, processed 5337518 words, keeping 203818 word types\n",
            "2020-01-17 05:42:07,255 : INFO : PROGRESS: at sentence #750000, processed 5409321 words, keeping 205535 word types\n",
            "2020-01-17 05:42:07,275 : INFO : PROGRESS: at sentence #760000, processed 5481512 words, keeping 207282 word types\n",
            "2020-01-17 05:42:07,295 : INFO : PROGRESS: at sentence #770000, processed 5554093 words, keeping 209076 word types\n",
            "2020-01-17 05:42:07,315 : INFO : PROGRESS: at sentence #780000, processed 5625382 words, keeping 210805 word types\n",
            "2020-01-17 05:42:07,334 : INFO : PROGRESS: at sentence #790000, processed 5698066 words, keeping 212618 word types\n",
            "2020-01-17 05:42:07,353 : INFO : PROGRESS: at sentence #800000, processed 5770880 words, keeping 214374 word types\n",
            "2020-01-17 05:42:07,372 : INFO : PROGRESS: at sentence #810000, processed 5843418 words, keeping 216009 word types\n",
            "2020-01-17 05:42:07,392 : INFO : PROGRESS: at sentence #820000, processed 5915628 words, keeping 217804 word types\n",
            "2020-01-17 05:42:07,411 : INFO : PROGRESS: at sentence #830000, processed 5987499 words, keeping 219585 word types\n",
            "2020-01-17 05:42:07,430 : INFO : PROGRESS: at sentence #840000, processed 6058973 words, keeping 221344 word types\n",
            "2020-01-17 05:42:07,450 : INFO : PROGRESS: at sentence #850000, processed 6131125 words, keeping 223002 word types\n",
            "2020-01-17 05:42:07,469 : INFO : PROGRESS: at sentence #860000, processed 6202951 words, keeping 224643 word types\n",
            "2020-01-17 05:42:07,488 : INFO : PROGRESS: at sentence #870000, processed 6275461 words, keeping 226362 word types\n",
            "2020-01-17 05:42:07,508 : INFO : PROGRESS: at sentence #880000, processed 6347661 words, keeping 227986 word types\n",
            "2020-01-17 05:42:07,527 : INFO : PROGRESS: at sentence #890000, processed 6419806 words, keeping 229634 word types\n",
            "2020-01-17 05:42:07,548 : INFO : PROGRESS: at sentence #900000, processed 6491644 words, keeping 231389 word types\n",
            "2020-01-17 05:42:07,567 : INFO : PROGRESS: at sentence #910000, processed 6564022 words, keeping 233050 word types\n",
            "2020-01-17 05:42:07,587 : INFO : PROGRESS: at sentence #920000, processed 6636228 words, keeping 234686 word types\n",
            "2020-01-17 05:42:07,606 : INFO : PROGRESS: at sentence #930000, processed 6708573 words, keeping 236393 word types\n",
            "2020-01-17 05:42:07,627 : INFO : PROGRESS: at sentence #940000, processed 6779956 words, keeping 238052 word types\n",
            "2020-01-17 05:42:07,646 : INFO : PROGRESS: at sentence #950000, processed 6852599 words, keeping 239716 word types\n",
            "2020-01-17 05:42:07,669 : INFO : PROGRESS: at sentence #960000, processed 6924717 words, keeping 241354 word types\n",
            "2020-01-17 05:42:07,689 : INFO : PROGRESS: at sentence #970000, processed 6996992 words, keeping 242980 word types\n",
            "2020-01-17 05:42:07,709 : INFO : PROGRESS: at sentence #980000, processed 7068402 words, keeping 244646 word types\n",
            "2020-01-17 05:42:07,730 : INFO : PROGRESS: at sentence #990000, processed 7140346 words, keeping 246186 word types\n",
            "2020-01-17 05:42:07,749 : INFO : PROGRESS: at sentence #1000000, processed 7211757 words, keeping 247726 word types\n",
            "2020-01-17 05:42:07,768 : INFO : PROGRESS: at sentence #1010000, processed 7283267 words, keeping 249288 word types\n",
            "2020-01-17 05:42:07,790 : INFO : PROGRESS: at sentence #1020000, processed 7355299 words, keeping 250860 word types\n",
            "2020-01-17 05:42:07,811 : INFO : PROGRESS: at sentence #1030000, processed 7426918 words, keeping 252366 word types\n",
            "2020-01-17 05:42:07,833 : INFO : PROGRESS: at sentence #1040000, processed 7498815 words, keeping 253930 word types\n",
            "2020-01-17 05:42:07,853 : INFO : PROGRESS: at sentence #1050000, processed 7570499 words, keeping 255471 word types\n",
            "2020-01-17 05:42:07,872 : INFO : PROGRESS: at sentence #1060000, processed 7643251 words, keeping 257035 word types\n",
            "2020-01-17 05:42:07,893 : INFO : PROGRESS: at sentence #1070000, processed 7714721 words, keeping 258509 word types\n",
            "2020-01-17 05:42:07,917 : INFO : PROGRESS: at sentence #1080000, processed 7787371 words, keeping 260071 word types\n",
            "2020-01-17 05:42:07,937 : INFO : PROGRESS: at sentence #1090000, processed 7859336 words, keeping 261683 word types\n",
            "2020-01-17 05:42:07,958 : INFO : PROGRESS: at sentence #1100000, processed 7932029 words, keeping 263278 word types\n",
            "2020-01-17 05:42:07,981 : INFO : PROGRESS: at sentence #1110000, processed 8004146 words, keeping 264800 word types\n",
            "2020-01-17 05:42:08,002 : INFO : PROGRESS: at sentence #1120000, processed 8075880 words, keeping 266309 word types\n",
            "2020-01-17 05:42:08,023 : INFO : PROGRESS: at sentence #1130000, processed 8148163 words, keeping 267826 word types\n",
            "2020-01-17 05:42:08,043 : INFO : PROGRESS: at sentence #1140000, processed 8220487 words, keeping 269391 word types\n",
            "2020-01-17 05:42:08,064 : INFO : PROGRESS: at sentence #1150000, processed 8292498 words, keeping 270894 word types\n",
            "2020-01-17 05:42:08,084 : INFO : PROGRESS: at sentence #1160000, processed 8363838 words, keeping 272400 word types\n",
            "2020-01-17 05:42:08,104 : INFO : PROGRESS: at sentence #1170000, processed 8435510 words, keeping 273970 word types\n",
            "2020-01-17 05:42:08,124 : INFO : PROGRESS: at sentence #1180000, processed 8507795 words, keeping 275521 word types\n",
            "2020-01-17 05:42:08,146 : INFO : PROGRESS: at sentence #1190000, processed 8579080 words, keeping 277007 word types\n",
            "2020-01-17 05:42:08,166 : INFO : PROGRESS: at sentence #1200000, processed 8650606 words, keeping 278457 word types\n",
            "2020-01-17 05:42:08,185 : INFO : PROGRESS: at sentence #1210000, processed 8721893 words, keeping 279959 word types\n",
            "2020-01-17 05:42:08,204 : INFO : PROGRESS: at sentence #1220000, processed 8793795 words, keeping 281427 word types\n",
            "2020-01-17 05:42:08,224 : INFO : PROGRESS: at sentence #1230000, processed 8865726 words, keeping 282981 word types\n",
            "2020-01-17 05:42:08,244 : INFO : PROGRESS: at sentence #1240000, processed 8938173 words, keeping 284542 word types\n",
            "2020-01-17 05:42:08,265 : INFO : PROGRESS: at sentence #1250000, processed 9010842 words, keeping 286064 word types\n",
            "2020-01-17 05:42:08,285 : INFO : PROGRESS: at sentence #1260000, processed 9083261 words, keeping 287521 word types\n",
            "2020-01-17 05:42:08,306 : INFO : PROGRESS: at sentence #1270000, processed 9155616 words, keeping 288987 word types\n",
            "2020-01-17 05:42:08,325 : INFO : collected 290418 word types from a corpus of 9227204 raw words and 1280000 sentences\n",
            "2020-01-17 05:42:08,326 : INFO : Loading a fresh vocabulary\n",
            "2020-01-17 05:42:08,463 : INFO : effective_min_count=10 retains 30369 unique words (10% of original 290418, drops 260049)\n",
            "2020-01-17 05:42:08,464 : INFO : effective_min_count=10 leaves 8780739 word corpus (95% of original 9227204, drops 446465)\n",
            "2020-01-17 05:42:08,544 : INFO : deleting the raw counts dictionary of 290418 items\n",
            "2020-01-17 05:42:08,551 : INFO : sample=0.001 downsamples 45 most-common words\n",
            "2020-01-17 05:42:08,552 : INFO : downsampling leaves estimated 8222658 word corpus (93.6% of prior 8780739)\n",
            "2020-01-17 05:42:08,617 : INFO : estimated required memory for 30369 words and 300 dimensions: 88070100 bytes\n",
            "2020-01-17 05:42:08,618 : INFO : resetting layer weights\n"
          ],
          "name": "stderr"
        }
      ]
    },
    {
      "cell_type": "code",
      "metadata": {
        "id": "UmGwj0hIuHOB",
        "colab_type": "code",
        "outputId": "83126b7f-fd32-40ff-d586-ca7c7e6d24b2",
        "colab": {
          "base_uri": "https://localhost:8080/",
          "height": 35
        }
      },
      "source": [
        "words = w2v_model.wv.vocab.keys()\n",
        "vocab_size = len(words)\n",
        "print(\"Vocab size\", vocab_size)"
      ],
      "execution_count": 0,
      "outputs": [
        {
          "output_type": "stream",
          "text": [
            "Vocab size 30369\n"
          ],
          "name": "stdout"
        }
      ]
    },
    {
      "cell_type": "code",
      "metadata": {
        "id": "PkaPdgaWuLRt",
        "colab_type": "code",
        "outputId": "c7bf858c-8e95-4212-f002-6c5d2c4e3f45",
        "colab": {
          "base_uri": "https://localhost:8080/",
          "height": 1000
        }
      },
      "source": [
        "get_ipython().run_cell_magic('time', '', 'w2v_model.train(documents, total_examples=len(documents), epochs=W2V_EPOCH)')"
      ],
      "execution_count": 0,
      "outputs": [
        {
          "output_type": "stream",
          "text": [
            "2020-01-17 05:42:22,712 : INFO : training model with 8 workers on 30369 vocabulary and 300 features, using sg=0 hs=0 sample=0.001 negative=5 window=7\n",
            "2020-01-17 05:42:23,744 : INFO : EPOCH 1 - PROGRESS: at 4.78% examples, 385361 words/s, in_qsize 15, out_qsize 0\n",
            "2020-01-17 05:42:24,793 : INFO : EPOCH 1 - PROGRESS: at 10.20% examples, 405512 words/s, in_qsize 15, out_qsize 0\n",
            "2020-01-17 05:42:25,795 : INFO : EPOCH 1 - PROGRESS: at 16.16% examples, 432658 words/s, in_qsize 16, out_qsize 0\n",
            "2020-01-17 05:42:26,860 : INFO : EPOCH 1 - PROGRESS: at 21.24% examples, 422460 words/s, in_qsize 14, out_qsize 1\n",
            "2020-01-17 05:42:27,917 : INFO : EPOCH 1 - PROGRESS: at 26.88% examples, 425627 words/s, in_qsize 15, out_qsize 4\n",
            "2020-01-17 05:42:29,003 : INFO : EPOCH 1 - PROGRESS: at 32.84% examples, 430043 words/s, in_qsize 16, out_qsize 2\n",
            "2020-01-17 05:42:30,008 : INFO : EPOCH 1 - PROGRESS: at 38.14% examples, 430679 words/s, in_qsize 15, out_qsize 0\n",
            "2020-01-17 05:42:31,065 : INFO : EPOCH 1 - PROGRESS: at 43.32% examples, 427340 words/s, in_qsize 11, out_qsize 4\n",
            "2020-01-17 05:42:32,065 : INFO : EPOCH 1 - PROGRESS: at 48.51% examples, 427372 words/s, in_qsize 12, out_qsize 3\n",
            "2020-01-17 05:42:33,140 : INFO : EPOCH 1 - PROGRESS: at 54.24% examples, 428624 words/s, in_qsize 15, out_qsize 0\n",
            "2020-01-17 05:42:34,142 : INFO : EPOCH 1 - PROGRESS: at 60.08% examples, 433132 words/s, in_qsize 15, out_qsize 0\n",
            "2020-01-17 05:42:35,199 : INFO : EPOCH 1 - PROGRESS: at 65.39% examples, 431424 words/s, in_qsize 15, out_qsize 0\n",
            "2020-01-17 05:42:36,221 : INFO : EPOCH 1 - PROGRESS: at 70.91% examples, 432423 words/s, in_qsize 14, out_qsize 1\n",
            "2020-01-17 05:42:37,242 : INFO : EPOCH 1 - PROGRESS: at 76.00% examples, 430827 words/s, in_qsize 11, out_qsize 4\n",
            "2020-01-17 05:42:38,266 : INFO : EPOCH 1 - PROGRESS: at 81.66% examples, 432232 words/s, in_qsize 15, out_qsize 0\n",
            "2020-01-17 05:42:39,268 : INFO : EPOCH 1 - PROGRESS: at 87.18% examples, 433499 words/s, in_qsize 16, out_qsize 0\n",
            "2020-01-17 05:42:40,289 : INFO : EPOCH 1 - PROGRESS: at 92.72% examples, 434139 words/s, in_qsize 15, out_qsize 0\n",
            "2020-01-17 05:42:41,313 : INFO : EPOCH 1 - PROGRESS: at 98.25% examples, 434645 words/s, in_qsize 14, out_qsize 1\n",
            "2020-01-17 05:42:41,482 : INFO : worker thread finished; awaiting finish of 7 more threads\n",
            "2020-01-17 05:42:41,483 : INFO : worker thread finished; awaiting finish of 6 more threads\n",
            "2020-01-17 05:42:41,525 : INFO : worker thread finished; awaiting finish of 5 more threads\n",
            "2020-01-17 05:42:41,532 : INFO : worker thread finished; awaiting finish of 4 more threads\n",
            "2020-01-17 05:42:41,545 : INFO : worker thread finished; awaiting finish of 3 more threads\n",
            "2020-01-17 05:42:41,546 : INFO : worker thread finished; awaiting finish of 2 more threads\n",
            "2020-01-17 05:42:41,551 : INFO : worker thread finished; awaiting finish of 1 more threads\n",
            "2020-01-17 05:42:41,554 : INFO : worker thread finished; awaiting finish of 0 more threads\n",
            "2020-01-17 05:42:41,555 : INFO : EPOCH - 1 : training on 9227204 raw words (8221493 effective words) took 18.8s, 436678 effective words/s\n",
            "2020-01-17 05:42:42,578 : INFO : EPOCH 2 - PROGRESS: at 5.11% examples, 412791 words/s, in_qsize 16, out_qsize 0\n",
            "2020-01-17 05:42:43,579 : INFO : EPOCH 2 - PROGRESS: at 9.99% examples, 407061 words/s, in_qsize 14, out_qsize 3\n",
            "2020-01-17 05:42:44,628 : INFO : EPOCH 2 - PROGRESS: at 15.84% examples, 424492 words/s, in_qsize 16, out_qsize 0\n",
            "2020-01-17 05:42:45,637 : INFO : EPOCH 2 - PROGRESS: at 21.25% examples, 428769 words/s, in_qsize 15, out_qsize 0\n",
            "2020-01-17 05:42:46,767 : INFO : EPOCH 2 - PROGRESS: at 26.99% examples, 426418 words/s, in_qsize 13, out_qsize 4\n",
            "2020-01-17 05:42:47,792 : INFO : EPOCH 2 - PROGRESS: at 33.16% examples, 437704 words/s, in_qsize 15, out_qsize 0\n",
            "2020-01-17 05:42:48,807 : INFO : EPOCH 2 - PROGRESS: at 38.14% examples, 432978 words/s, in_qsize 13, out_qsize 2\n",
            "2020-01-17 05:42:49,815 : INFO : EPOCH 2 - PROGRESS: at 43.86% examples, 437296 words/s, in_qsize 15, out_qsize 0\n",
            "2020-01-17 05:42:50,820 : INFO : EPOCH 2 - PROGRESS: at 49.16% examples, 436981 words/s, in_qsize 14, out_qsize 1\n",
            "2020-01-17 05:42:51,841 : INFO : EPOCH 2 - PROGRESS: at 54.46% examples, 436065 words/s, in_qsize 15, out_qsize 0\n",
            "2020-01-17 05:42:52,843 : INFO : EPOCH 2 - PROGRESS: at 59.66% examples, 435273 words/s, in_qsize 15, out_qsize 1\n",
            "2020-01-17 05:42:53,866 : INFO : EPOCH 2 - PROGRESS: at 64.95% examples, 434517 words/s, in_qsize 13, out_qsize 2\n",
            "2020-01-17 05:42:54,880 : INFO : EPOCH 2 - PROGRESS: at 70.48% examples, 435562 words/s, in_qsize 14, out_qsize 2\n",
            "2020-01-17 05:42:55,881 : INFO : EPOCH 2 - PROGRESS: at 75.78% examples, 435571 words/s, in_qsize 15, out_qsize 0\n",
            "2020-01-17 05:42:56,904 : INFO : EPOCH 2 - PROGRESS: at 81.01% examples, 434382 words/s, in_qsize 15, out_qsize 0\n",
            "2020-01-17 05:42:57,917 : INFO : EPOCH 2 - PROGRESS: at 86.42% examples, 434712 words/s, in_qsize 11, out_qsize 4\n",
            "2020-01-17 05:42:58,946 : INFO : EPOCH 2 - PROGRESS: at 92.50% examples, 437641 words/s, in_qsize 15, out_qsize 0\n",
            "2020-01-17 05:42:59,971 : INFO : EPOCH 2 - PROGRESS: at 97.82% examples, 436978 words/s, in_qsize 15, out_qsize 0\n",
            "2020-01-17 05:43:00,176 : INFO : worker thread finished; awaiting finish of 7 more threads\n",
            "2020-01-17 05:43:00,185 : INFO : worker thread finished; awaiting finish of 6 more threads\n",
            "2020-01-17 05:43:00,190 : INFO : worker thread finished; awaiting finish of 5 more threads\n",
            "2020-01-17 05:43:00,225 : INFO : worker thread finished; awaiting finish of 4 more threads\n",
            "2020-01-17 05:43:00,229 : INFO : worker thread finished; awaiting finish of 3 more threads\n",
            "2020-01-17 05:43:00,236 : INFO : worker thread finished; awaiting finish of 2 more threads\n",
            "2020-01-17 05:43:00,251 : INFO : worker thread finished; awaiting finish of 1 more threads\n",
            "2020-01-17 05:43:00,255 : INFO : worker thread finished; awaiting finish of 0 more threads\n",
            "2020-01-17 05:43:00,256 : INFO : EPOCH - 2 : training on 9227204 raw words (8222465 effective words) took 18.7s, 439924 effective words/s\n",
            "2020-01-17 05:43:01,275 : INFO : EPOCH 3 - PROGRESS: at 4.89% examples, 397137 words/s, in_qsize 16, out_qsize 0\n",
            "2020-01-17 05:43:02,285 : INFO : EPOCH 3 - PROGRESS: at 10.42% examples, 423658 words/s, in_qsize 16, out_qsize 2\n",
            "2020-01-17 05:43:03,293 : INFO : EPOCH 3 - PROGRESS: at 16.16% examples, 438500 words/s, in_qsize 15, out_qsize 0\n",
            "2020-01-17 05:43:04,295 : INFO : EPOCH 3 - PROGRESS: at 21.46% examples, 437848 words/s, in_qsize 16, out_qsize 0\n",
            "2020-01-17 05:43:05,314 : INFO : EPOCH 3 - PROGRESS: at 26.99% examples, 439456 words/s, in_qsize 15, out_qsize 0\n",
            "2020-01-17 05:43:06,354 : INFO : EPOCH 3 - PROGRESS: at 32.19% examples, 434654 words/s, in_qsize 12, out_qsize 3\n",
            "2020-01-17 05:43:07,394 : INFO : EPOCH 3 - PROGRESS: at 38.13% examples, 439946 words/s, in_qsize 16, out_qsize 0\n",
            "2020-01-17 05:43:08,399 : INFO : EPOCH 3 - PROGRESS: at 43.64% examples, 441417 words/s, in_qsize 15, out_qsize 0\n",
            "2020-01-17 05:43:09,417 : INFO : EPOCH 3 - PROGRESS: at 49.38% examples, 443944 words/s, in_qsize 16, out_qsize 0\n",
            "2020-01-17 05:43:10,448 : INFO : EPOCH 3 - PROGRESS: at 55.10% examples, 445344 words/s, in_qsize 15, out_qsize 0\n",
            "2020-01-17 05:43:11,531 : INFO : EPOCH 3 - PROGRESS: at 60.85% examples, 444456 words/s, in_qsize 15, out_qsize 0\n",
            "2020-01-17 05:43:12,542 : INFO : EPOCH 3 - PROGRESS: at 65.93% examples, 441991 words/s, in_qsize 15, out_qsize 0\n",
            "2020-01-17 05:43:13,558 : INFO : EPOCH 3 - PROGRESS: at 71.35% examples, 441693 words/s, in_qsize 14, out_qsize 0\n",
            "2020-01-17 05:43:14,573 : INFO : EPOCH 3 - PROGRESS: at 76.66% examples, 440837 words/s, in_qsize 15, out_qsize 2\n",
            "2020-01-17 05:43:15,588 : INFO : EPOCH 3 - PROGRESS: at 82.32% examples, 441859 words/s, in_qsize 14, out_qsize 1\n",
            "2020-01-17 05:43:16,608 : INFO : EPOCH 3 - PROGRESS: at 88.26% examples, 444272 words/s, in_qsize 15, out_qsize 0\n",
            "2020-01-17 05:43:17,650 : INFO : EPOCH 3 - PROGRESS: at 93.59% examples, 442707 words/s, in_qsize 14, out_qsize 1\n",
            "2020-01-17 05:43:18,653 : INFO : EPOCH 3 - PROGRESS: at 99.12% examples, 443294 words/s, in_qsize 9, out_qsize 0\n",
            "2020-01-17 05:43:18,660 : INFO : worker thread finished; awaiting finish of 7 more threads\n",
            "2020-01-17 05:43:18,662 : INFO : worker thread finished; awaiting finish of 6 more threads\n",
            "2020-01-17 05:43:18,676 : INFO : worker thread finished; awaiting finish of 5 more threads\n",
            "2020-01-17 05:43:18,680 : INFO : worker thread finished; awaiting finish of 4 more threads\n",
            "2020-01-17 05:43:18,682 : INFO : worker thread finished; awaiting finish of 3 more threads\n",
            "2020-01-17 05:43:18,683 : INFO : worker thread finished; awaiting finish of 2 more threads\n",
            "2020-01-17 05:43:18,698 : INFO : worker thread finished; awaiting finish of 1 more threads\n",
            "2020-01-17 05:43:18,713 : INFO : worker thread finished; awaiting finish of 0 more threads\n",
            "2020-01-17 05:43:18,714 : INFO : EPOCH - 3 : training on 9227204 raw words (8223079 effective words) took 18.4s, 445737 effective words/s\n",
            "2020-01-17 05:43:19,732 : INFO : EPOCH 4 - PROGRESS: at 4.88% examples, 397863 words/s, in_qsize 15, out_qsize 0\n",
            "2020-01-17 05:43:20,759 : INFO : EPOCH 4 - PROGRESS: at 10.21% examples, 411975 words/s, in_qsize 16, out_qsize 6\n",
            "2020-01-17 05:43:21,763 : INFO : EPOCH 4 - PROGRESS: at 16.05% examples, 434055 words/s, in_qsize 16, out_qsize 0\n",
            "2020-01-17 05:43:22,767 : INFO : EPOCH 4 - PROGRESS: at 21.57% examples, 438570 words/s, in_qsize 15, out_qsize 0\n",
            "2020-01-17 05:43:23,786 : INFO : EPOCH 4 - PROGRESS: at 26.88% examples, 436538 words/s, in_qsize 15, out_qsize 0\n",
            "2020-01-17 05:43:24,826 : INFO : EPOCH 4 - PROGRESS: at 32.30% examples, 435160 words/s, in_qsize 16, out_qsize 3\n",
            "2020-01-17 05:43:25,838 : INFO : EPOCH 4 - PROGRESS: at 37.92% examples, 438371 words/s, in_qsize 15, out_qsize 0\n",
            "2020-01-17 05:43:26,861 : INFO : EPOCH 4 - PROGRESS: at 43.10% examples, 436641 words/s, in_qsize 15, out_qsize 1\n",
            "2020-01-17 05:43:27,890 : INFO : EPOCH 4 - PROGRESS: at 48.95% examples, 439420 words/s, in_qsize 15, out_qsize 0\n",
            "2020-01-17 05:43:28,897 : INFO : EPOCH 4 - PROGRESS: at 54.46% examples, 440610 words/s, in_qsize 15, out_qsize 0\n",
            "2020-01-17 05:43:29,903 : INFO : EPOCH 4 - PROGRESS: at 59.55% examples, 438392 words/s, in_qsize 15, out_qsize 0\n",
            "2020-01-17 05:43:30,944 : INFO : EPOCH 4 - PROGRESS: at 64.62% examples, 435295 words/s, in_qsize 16, out_qsize 1\n",
            "2020-01-17 05:43:31,966 : INFO : EPOCH 4 - PROGRESS: at 70.27% examples, 436695 words/s, in_qsize 15, out_qsize 2\n",
            "2020-01-17 05:43:33,013 : INFO : EPOCH 4 - PROGRESS: at 75.67% examples, 435856 words/s, in_qsize 9, out_qsize 6\n",
            "2020-01-17 05:43:34,022 : INFO : EPOCH 4 - PROGRESS: at 81.23% examples, 436791 words/s, in_qsize 13, out_qsize 2\n",
            "2020-01-17 05:43:35,030 : INFO : EPOCH 4 - PROGRESS: at 87.07% examples, 439286 words/s, in_qsize 15, out_qsize 0\n",
            "2020-01-17 05:43:36,066 : INFO : EPOCH 4 - PROGRESS: at 92.39% examples, 438190 words/s, in_qsize 15, out_qsize 0\n",
            "2020-01-17 05:43:37,079 : INFO : EPOCH 4 - PROGRESS: at 97.72% examples, 437765 words/s, in_qsize 16, out_qsize 0\n",
            "2020-01-17 05:43:37,349 : INFO : worker thread finished; awaiting finish of 7 more threads\n",
            "2020-01-17 05:43:37,360 : INFO : worker thread finished; awaiting finish of 6 more threads\n",
            "2020-01-17 05:43:37,366 : INFO : worker thread finished; awaiting finish of 5 more threads\n",
            "2020-01-17 05:43:37,369 : INFO : worker thread finished; awaiting finish of 4 more threads\n",
            "2020-01-17 05:43:37,376 : INFO : worker thread finished; awaiting finish of 3 more threads\n",
            "2020-01-17 05:43:37,386 : INFO : worker thread finished; awaiting finish of 2 more threads\n",
            "2020-01-17 05:43:37,407 : INFO : worker thread finished; awaiting finish of 1 more threads\n",
            "2020-01-17 05:43:37,410 : INFO : worker thread finished; awaiting finish of 0 more threads\n",
            "2020-01-17 05:43:37,411 : INFO : EPOCH - 4 : training on 9227204 raw words (8223198 effective words) took 18.7s, 440060 effective words/s\n",
            "2020-01-17 05:43:38,426 : INFO : EPOCH 5 - PROGRESS: at 5.11% examples, 416568 words/s, in_qsize 16, out_qsize 0\n",
            "2020-01-17 05:43:39,445 : INFO : EPOCH 5 - PROGRESS: at 10.64% examples, 431606 words/s, in_qsize 15, out_qsize 0\n",
            "2020-01-17 05:43:40,475 : INFO : EPOCH 5 - PROGRESS: at 16.16% examples, 434642 words/s, in_qsize 14, out_qsize 1\n",
            "2020-01-17 05:43:41,532 : INFO : EPOCH 5 - PROGRESS: at 22.00% examples, 439917 words/s, in_qsize 15, out_qsize 0\n",
            "2020-01-17 05:43:42,623 : INFO : EPOCH 5 - PROGRESS: at 27.96% examples, 441881 words/s, in_qsize 15, out_qsize 0\n",
            "2020-01-17 05:43:43,644 : INFO : EPOCH 5 - PROGRESS: at 33.48% examples, 442366 words/s, in_qsize 15, out_qsize 0\n",
            "2020-01-17 05:43:44,669 : INFO : EPOCH 5 - PROGRESS: at 38.89% examples, 441309 words/s, in_qsize 15, out_qsize 0\n",
            "2020-01-17 05:43:45,676 : INFO : EPOCH 5 - PROGRESS: at 44.62% examples, 444637 words/s, in_qsize 15, out_qsize 0\n",
            "2020-01-17 05:43:46,696 : INFO : EPOCH 5 - PROGRESS: at 50.13% examples, 444745 words/s, in_qsize 15, out_qsize 0\n",
            "2020-01-17 05:43:47,758 : INFO : EPOCH 5 - PROGRESS: at 55.75% examples, 443910 words/s, in_qsize 15, out_qsize 0\n",
            "2020-01-17 05:43:48,769 : INFO : EPOCH 5 - PROGRESS: at 61.39% examples, 445180 words/s, in_qsize 15, out_qsize 0\n",
            "2020-01-17 05:43:49,795 : INFO : EPOCH 5 - PROGRESS: at 67.02% examples, 445716 words/s, in_qsize 15, out_qsize 5\n",
            "2020-01-17 05:43:50,833 : INFO : EPOCH 5 - PROGRESS: at 72.43% examples, 444445 words/s, in_qsize 14, out_qsize 3\n",
            "2020-01-17 05:43:51,847 : INFO : EPOCH 5 - PROGRESS: at 78.29% examples, 446522 words/s, in_qsize 15, out_qsize 0\n",
            "2020-01-17 05:43:52,901 : INFO : EPOCH 5 - PROGRESS: at 83.72% examples, 444896 words/s, in_qsize 15, out_qsize 3\n",
            "2020-01-17 05:43:53,935 : INFO : EPOCH 5 - PROGRESS: at 89.67% examples, 446683 words/s, in_qsize 15, out_qsize 0\n",
            "2020-01-17 05:43:54,960 : INFO : EPOCH 5 - PROGRESS: at 95.12% examples, 445951 words/s, in_qsize 16, out_qsize 1\n",
            "2020-01-17 05:43:55,741 : INFO : worker thread finished; awaiting finish of 7 more threads\n",
            "2020-01-17 05:43:55,752 : INFO : worker thread finished; awaiting finish of 6 more threads\n",
            "2020-01-17 05:43:55,791 : INFO : worker thread finished; awaiting finish of 5 more threads\n",
            "2020-01-17 05:43:55,796 : INFO : worker thread finished; awaiting finish of 4 more threads\n",
            "2020-01-17 05:43:55,804 : INFO : worker thread finished; awaiting finish of 3 more threads\n",
            "2020-01-17 05:43:55,818 : INFO : worker thread finished; awaiting finish of 2 more threads\n",
            "2020-01-17 05:43:55,823 : INFO : worker thread finished; awaiting finish of 1 more threads\n",
            "2020-01-17 05:43:55,827 : INFO : worker thread finished; awaiting finish of 0 more threads\n",
            "2020-01-17 05:43:55,827 : INFO : EPOCH - 5 : training on 9227204 raw words (8223180 effective words) took 18.4s, 446776 effective words/s\n",
            "2020-01-17 05:43:56,849 : INFO : EPOCH 6 - PROGRESS: at 4.67% examples, 378417 words/s, in_qsize 15, out_qsize 0\n",
            "2020-01-17 05:43:57,864 : INFO : EPOCH 6 - PROGRESS: at 9.88% examples, 399967 words/s, in_qsize 13, out_qsize 2\n",
            "2020-01-17 05:43:58,865 : INFO : EPOCH 6 - PROGRESS: at 15.08% examples, 408988 words/s, in_qsize 14, out_qsize 1\n",
            "2020-01-17 05:43:59,945 : INFO : EPOCH 6 - PROGRESS: at 20.92% examples, 418429 words/s, in_qsize 14, out_qsize 1\n",
            "2020-01-17 05:44:00,961 : INFO : EPOCH 6 - PROGRESS: at 26.45% examples, 424194 words/s, in_qsize 15, out_qsize 0\n",
            "2020-01-17 05:44:02,016 : INFO : EPOCH 6 - PROGRESS: at 32.08% examples, 426755 words/s, in_qsize 15, out_qsize 0\n",
            "2020-01-17 05:44:03,091 : INFO : EPOCH 6 - PROGRESS: at 37.92% examples, 429797 words/s, in_qsize 15, out_qsize 0\n",
            "2020-01-17 05:44:04,115 : INFO : EPOCH 6 - PROGRESS: at 43.86% examples, 435828 words/s, in_qsize 15, out_qsize 0\n",
            "2020-01-17 05:44:05,127 : INFO : EPOCH 6 - PROGRESS: at 49.38% examples, 437230 words/s, in_qsize 12, out_qsize 3\n",
            "2020-01-17 05:44:06,149 : INFO : EPOCH 6 - PROGRESS: at 54.67% examples, 436280 words/s, in_qsize 15, out_qsize 0\n",
            "2020-01-17 05:44:07,166 : INFO : EPOCH 6 - PROGRESS: at 60.63% examples, 440383 words/s, in_qsize 15, out_qsize 1\n",
            "2020-01-17 05:44:08,182 : INFO : EPOCH 6 - PROGRESS: at 66.04% examples, 440168 words/s, in_qsize 15, out_qsize 0\n",
            "2020-01-17 05:44:09,188 : INFO : EPOCH 6 - PROGRESS: at 71.45% examples, 440393 words/s, in_qsize 14, out_qsize 1\n",
            "2020-01-17 05:44:10,206 : INFO : EPOCH 6 - PROGRESS: at 76.88% examples, 440185 words/s, in_qsize 14, out_qsize 1\n",
            "2020-01-17 05:44:11,290 : INFO : EPOCH 6 - PROGRESS: at 82.96% examples, 441574 words/s, in_qsize 15, out_qsize 0\n",
            "2020-01-17 05:44:12,302 : INFO : EPOCH 6 - PROGRESS: at 87.73% examples, 438343 words/s, in_qsize 14, out_qsize 1\n",
            "2020-01-17 05:44:13,322 : INFO : EPOCH 6 - PROGRESS: at 93.27% examples, 438608 words/s, in_qsize 12, out_qsize 3\n",
            "2020-01-17 05:44:14,329 : INFO : EPOCH 6 - PROGRESS: at 99.01% examples, 440236 words/s, in_qsize 10, out_qsize 0\n",
            "2020-01-17 05:44:14,358 : INFO : worker thread finished; awaiting finish of 7 more threads\n",
            "2020-01-17 05:44:14,364 : INFO : worker thread finished; awaiting finish of 6 more threads\n",
            "2020-01-17 05:44:14,385 : INFO : worker thread finished; awaiting finish of 5 more threads\n",
            "2020-01-17 05:44:14,402 : INFO : worker thread finished; awaiting finish of 4 more threads\n",
            "2020-01-17 05:44:14,423 : INFO : worker thread finished; awaiting finish of 3 more threads\n",
            "2020-01-17 05:44:14,425 : INFO : worker thread finished; awaiting finish of 2 more threads\n",
            "2020-01-17 05:44:14,431 : INFO : worker thread finished; awaiting finish of 1 more threads\n",
            "2020-01-17 05:44:14,436 : INFO : worker thread finished; awaiting finish of 0 more threads\n",
            "2020-01-17 05:44:14,436 : INFO : EPOCH - 6 : training on 9227204 raw words (8221960 effective words) took 18.6s, 442065 effective words/s\n",
            "2020-01-17 05:44:15,476 : INFO : EPOCH 7 - PROGRESS: at 5.21% examples, 415524 words/s, in_qsize 15, out_qsize 0\n",
            "2020-01-17 05:44:16,525 : INFO : EPOCH 7 - PROGRESS: at 10.86% examples, 428810 words/s, in_qsize 16, out_qsize 1\n",
            "2020-01-17 05:44:17,530 : INFO : EPOCH 7 - PROGRESS: at 16.59% examples, 442029 words/s, in_qsize 15, out_qsize 0\n",
            "2020-01-17 05:44:18,537 : INFO : EPOCH 7 - PROGRESS: at 22.22% examples, 446565 words/s, in_qsize 16, out_qsize 2\n",
            "2020-01-17 05:44:19,585 : INFO : EPOCH 7 - PROGRESS: at 27.75% examples, 443861 words/s, in_qsize 15, out_qsize 0\n",
            "2020-01-17 05:44:20,592 : INFO : EPOCH 7 - PROGRESS: at 33.48% examples, 447969 words/s, in_qsize 16, out_qsize 0\n",
            "2020-01-17 05:44:21,603 : INFO : EPOCH 7 - PROGRESS: at 38.89% examples, 446891 words/s, in_qsize 16, out_qsize 0\n",
            "2020-01-17 05:44:22,617 : INFO : EPOCH 7 - PROGRESS: at 44.29% examples, 445933 words/s, in_qsize 15, out_qsize 0\n",
            "2020-01-17 05:44:23,668 : INFO : EPOCH 7 - PROGRESS: at 49.59% examples, 442506 words/s, in_qsize 15, out_qsize 3\n",
            "2020-01-17 05:44:24,695 : INFO : EPOCH 7 - PROGRESS: at 55.42% examples, 445143 words/s, in_qsize 15, out_qsize 0\n",
            "2020-01-17 05:44:25,755 : INFO : EPOCH 7 - PROGRESS: at 61.39% examples, 446735 words/s, in_qsize 16, out_qsize 0\n",
            "2020-01-17 05:44:26,766 : INFO : EPOCH 7 - PROGRESS: at 66.91% examples, 446976 words/s, in_qsize 15, out_qsize 0\n",
            "2020-01-17 05:44:27,855 : INFO : EPOCH 7 - PROGRESS: at 72.32% examples, 443887 words/s, in_qsize 11, out_qsize 4\n",
            "2020-01-17 05:44:28,937 : INFO : EPOCH 7 - PROGRESS: at 78.62% examples, 446397 words/s, in_qsize 15, out_qsize 0\n",
            "2020-01-17 05:44:29,998 : INFO : EPOCH 7 - PROGRESS: at 83.94% examples, 444546 words/s, in_qsize 16, out_qsize 1\n",
            "2020-01-17 05:44:31,008 : INFO : EPOCH 7 - PROGRESS: at 89.02% examples, 442171 words/s, in_qsize 15, out_qsize 0\n",
            "2020-01-17 05:44:32,058 : INFO : EPOCH 7 - PROGRESS: at 95.01% examples, 443611 words/s, in_qsize 15, out_qsize 0\n",
            "2020-01-17 05:44:32,791 : INFO : worker thread finished; awaiting finish of 7 more threads\n",
            "2020-01-17 05:44:32,816 : INFO : worker thread finished; awaiting finish of 6 more threads\n",
            "2020-01-17 05:44:32,822 : INFO : worker thread finished; awaiting finish of 5 more threads\n",
            "2020-01-17 05:44:32,845 : INFO : worker thread finished; awaiting finish of 4 more threads\n",
            "2020-01-17 05:44:32,850 : INFO : worker thread finished; awaiting finish of 3 more threads\n",
            "2020-01-17 05:44:32,868 : INFO : worker thread finished; awaiting finish of 2 more threads\n",
            "2020-01-17 05:44:32,871 : INFO : worker thread finished; awaiting finish of 1 more threads\n",
            "2020-01-17 05:44:32,872 : INFO : worker thread finished; awaiting finish of 0 more threads\n",
            "2020-01-17 05:44:32,874 : INFO : EPOCH - 7 : training on 9227204 raw words (8223179 effective words) took 18.4s, 446265 effective words/s\n",
            "2020-01-17 05:44:33,891 : INFO : EPOCH 8 - PROGRESS: at 5.00% examples, 407071 words/s, in_qsize 15, out_qsize 0\n",
            "2020-01-17 05:44:34,990 : INFO : EPOCH 8 - PROGRESS: at 10.97% examples, 427560 words/s, in_qsize 14, out_qsize 1\n",
            "2020-01-17 05:44:35,994 : INFO : EPOCH 8 - PROGRESS: at 16.70% examples, 441223 words/s, in_qsize 15, out_qsize 0\n",
            "2020-01-17 05:44:37,037 : INFO : EPOCH 8 - PROGRESS: at 22.33% examples, 441975 words/s, in_qsize 15, out_qsize 0\n",
            "2020-01-17 05:44:38,047 : INFO : EPOCH 8 - PROGRESS: at 27.86% examples, 443530 words/s, in_qsize 16, out_qsize 1\n",
            "2020-01-17 05:44:39,084 : INFO : EPOCH 8 - PROGRESS: at 33.70% examples, 446912 words/s, in_qsize 15, out_qsize 0\n",
            "2020-01-17 05:44:40,114 : INFO : EPOCH 8 - PROGRESS: at 39.00% examples, 443848 words/s, in_qsize 15, out_qsize 4\n",
            "2020-01-17 05:44:41,130 : INFO : EPOCH 8 - PROGRESS: at 44.29% examples, 441917 words/s, in_qsize 13, out_qsize 2\n",
            "2020-01-17 05:44:42,143 : INFO : EPOCH 8 - PROGRESS: at 49.70% examples, 441678 words/s, in_qsize 15, out_qsize 0\n",
            "2020-01-17 05:44:43,166 : INFO : EPOCH 8 - PROGRESS: at 55.10% examples, 441061 words/s, in_qsize 15, out_qsize 0\n",
            "2020-01-17 05:44:44,197 : INFO : EPOCH 8 - PROGRESS: at 60.41% examples, 439466 words/s, in_qsize 16, out_qsize 3\n",
            "2020-01-17 05:44:45,226 : INFO : EPOCH 8 - PROGRESS: at 66.15% examples, 441085 words/s, in_qsize 15, out_qsize 0\n",
            "2020-01-17 05:44:46,260 : INFO : EPOCH 8 - PROGRESS: at 71.99% examples, 442924 words/s, in_qsize 14, out_qsize 1\n",
            "2020-01-17 05:44:47,266 : INFO : EPOCH 8 - PROGRESS: at 77.63% examples, 444159 words/s, in_qsize 15, out_qsize 0\n",
            "2020-01-17 05:44:48,269 : INFO : EPOCH 8 - PROGRESS: at 82.96% examples, 443568 words/s, in_qsize 16, out_qsize 1\n",
            "2020-01-17 05:44:49,307 : INFO : EPOCH 8 - PROGRESS: at 88.70% examples, 444267 words/s, in_qsize 14, out_qsize 1\n",
            "2020-01-17 05:44:50,330 : INFO : EPOCH 8 - PROGRESS: at 94.46% examples, 445232 words/s, in_qsize 15, out_qsize 0\n",
            "2020-01-17 05:44:51,204 : INFO : worker thread finished; awaiting finish of 7 more threads\n",
            "2020-01-17 05:44:51,219 : INFO : worker thread finished; awaiting finish of 6 more threads\n",
            "2020-01-17 05:44:51,239 : INFO : worker thread finished; awaiting finish of 5 more threads\n",
            "2020-01-17 05:44:51,245 : INFO : worker thread finished; awaiting finish of 4 more threads\n",
            "2020-01-17 05:44:51,251 : INFO : worker thread finished; awaiting finish of 3 more threads\n",
            "2020-01-17 05:44:51,256 : INFO : worker thread finished; awaiting finish of 2 more threads\n",
            "2020-01-17 05:44:51,259 : INFO : worker thread finished; awaiting finish of 1 more threads\n",
            "2020-01-17 05:44:51,264 : INFO : worker thread finished; awaiting finish of 0 more threads\n",
            "2020-01-17 05:44:51,265 : INFO : EPOCH - 8 : training on 9227204 raw words (8222853 effective words) took 18.4s, 447384 effective words/s\n",
            "2020-01-17 05:44:52,287 : INFO : EPOCH 9 - PROGRESS: at 4.56% examples, 369612 words/s, in_qsize 11, out_qsize 4\n",
            "2020-01-17 05:44:53,312 : INFO : EPOCH 9 - PROGRESS: at 10.10% examples, 406715 words/s, in_qsize 15, out_qsize 0\n",
            "2020-01-17 05:44:54,315 : INFO : EPOCH 9 - PROGRESS: at 15.62% examples, 421844 words/s, in_qsize 12, out_qsize 3\n",
            "2020-01-17 05:44:55,318 : INFO : EPOCH 9 - PROGRESS: at 21.68% examples, 440637 words/s, in_qsize 15, out_qsize 0\n",
            "2020-01-17 05:44:56,326 : INFO : EPOCH 9 - PROGRESS: at 26.78% examples, 435533 words/s, in_qsize 15, out_qsize 0\n",
            "2020-01-17 05:44:57,327 : INFO : EPOCH 9 - PROGRESS: at 32.19% examples, 437126 words/s, in_qsize 14, out_qsize 1\n",
            "2020-01-17 05:44:58,364 : INFO : EPOCH 9 - PROGRESS: at 37.59% examples, 435957 words/s, in_qsize 15, out_qsize 0\n",
            "2020-01-17 05:44:59,377 : INFO : EPOCH 9 - PROGRESS: at 42.89% examples, 435355 words/s, in_qsize 14, out_qsize 1\n",
            "2020-01-17 05:45:00,433 : INFO : EPOCH 9 - PROGRESS: at 48.51% examples, 435699 words/s, in_qsize 15, out_qsize 0\n",
            "2020-01-17 05:45:01,461 : INFO : EPOCH 9 - PROGRESS: at 54.13% examples, 437224 words/s, in_qsize 16, out_qsize 2\n",
            "2020-01-17 05:45:02,466 : INFO : EPOCH 9 - PROGRESS: at 59.23% examples, 435407 words/s, in_qsize 12, out_qsize 3\n",
            "2020-01-17 05:45:03,509 : INFO : EPOCH 9 - PROGRESS: at 64.84% examples, 436137 words/s, in_qsize 15, out_qsize 0\n",
            "2020-01-17 05:45:04,534 : INFO : EPOCH 9 - PROGRESS: at 70.48% examples, 437366 words/s, in_qsize 15, out_qsize 0\n",
            "2020-01-17 05:45:05,583 : INFO : EPOCH 9 - PROGRESS: at 76.00% examples, 437071 words/s, in_qsize 15, out_qsize 0\n",
            "2020-01-17 05:45:06,604 : INFO : EPOCH 9 - PROGRESS: at 81.45% examples, 436997 words/s, in_qsize 16, out_qsize 1\n",
            "2020-01-17 05:45:07,611 : INFO : EPOCH 9 - PROGRESS: at 86.96% examples, 437876 words/s, in_qsize 15, out_qsize 0\n",
            "2020-01-17 05:45:08,626 : INFO : EPOCH 9 - PROGRESS: at 92.61% examples, 438933 words/s, in_qsize 15, out_qsize 0\n",
            "2020-01-17 05:45:09,630 : INFO : EPOCH 9 - PROGRESS: at 98.04% examples, 439191 words/s, in_qsize 15, out_qsize 0\n",
            "2020-01-17 05:45:09,810 : INFO : worker thread finished; awaiting finish of 7 more threads\n",
            "2020-01-17 05:45:09,826 : INFO : worker thread finished; awaiting finish of 6 more threads\n",
            "2020-01-17 05:45:09,836 : INFO : worker thread finished; awaiting finish of 5 more threads\n",
            "2020-01-17 05:45:09,837 : INFO : worker thread finished; awaiting finish of 4 more threads\n",
            "2020-01-17 05:45:09,843 : INFO : worker thread finished; awaiting finish of 3 more threads\n",
            "2020-01-17 05:45:09,859 : INFO : worker thread finished; awaiting finish of 2 more threads\n",
            "2020-01-17 05:45:09,872 : INFO : worker thread finished; awaiting finish of 1 more threads\n",
            "2020-01-17 05:45:09,876 : INFO : worker thread finished; awaiting finish of 0 more threads\n",
            "2020-01-17 05:45:09,877 : INFO : EPOCH - 9 : training on 9227204 raw words (8222710 effective words) took 18.6s, 442026 effective words/s\n",
            "2020-01-17 05:45:10,894 : INFO : EPOCH 10 - PROGRESS: at 4.89% examples, 398190 words/s, in_qsize 15, out_qsize 0\n",
            "2020-01-17 05:45:11,939 : INFO : EPOCH 10 - PROGRESS: at 9.77% examples, 390887 words/s, in_qsize 16, out_qsize 2\n",
            "2020-01-17 05:45:12,974 : INFO : EPOCH 10 - PROGRESS: at 15.30% examples, 406934 words/s, in_qsize 15, out_qsize 0\n",
            "2020-01-17 05:45:13,994 : INFO : EPOCH 10 - PROGRESS: at 20.48% examples, 410019 words/s, in_qsize 11, out_qsize 4\n",
            "2020-01-17 05:45:15,022 : INFO : EPOCH 10 - PROGRESS: at 26.23% examples, 419917 words/s, in_qsize 15, out_qsize 0\n",
            "2020-01-17 05:45:16,042 : INFO : EPOCH 10 - PROGRESS: at 31.32% examples, 418347 words/s, in_qsize 14, out_qsize 1\n",
            "2020-01-17 05:45:17,080 : INFO : EPOCH 10 - PROGRESS: at 36.94% examples, 422354 words/s, in_qsize 14, out_qsize 1\n",
            "2020-01-17 05:45:18,164 : INFO : EPOCH 10 - PROGRESS: at 42.57% examples, 423069 words/s, in_qsize 14, out_qsize 2\n",
            "2020-01-17 05:45:19,199 : INFO : EPOCH 10 - PROGRESS: at 48.51% examples, 428685 words/s, in_qsize 15, out_qsize 0\n",
            "2020-01-17 05:45:20,278 : INFO : EPOCH 10 - PROGRESS: at 53.92% examples, 427057 words/s, in_qsize 14, out_qsize 1\n",
            "2020-01-17 05:45:21,295 : INFO : EPOCH 10 - PROGRESS: at 59.23% examples, 427231 words/s, in_qsize 12, out_qsize 3\n",
            "2020-01-17 05:45:22,300 : INFO : EPOCH 10 - PROGRESS: at 64.52% examples, 427814 words/s, in_qsize 15, out_qsize 2\n",
            "2020-01-17 05:45:23,301 : INFO : EPOCH 10 - PROGRESS: at 70.27% examples, 431072 words/s, in_qsize 15, out_qsize 0\n",
            "2020-01-17 05:45:24,323 : INFO : EPOCH 10 - PROGRESS: at 75.35% examples, 429572 words/s, in_qsize 15, out_qsize 0\n",
            "2020-01-17 05:45:25,357 : INFO : EPOCH 10 - PROGRESS: at 81.34% examples, 432517 words/s, in_qsize 14, out_qsize 1\n",
            "2020-01-17 05:45:26,372 : INFO : EPOCH 10 - PROGRESS: at 86.85% examples, 433446 words/s, in_qsize 15, out_qsize 0\n",
            "2020-01-17 05:45:27,372 : INFO : EPOCH 10 - PROGRESS: at 91.74% examples, 431543 words/s, in_qsize 16, out_qsize 2\n",
            "2020-01-17 05:45:28,416 : INFO : EPOCH 10 - PROGRESS: at 97.61% examples, 433187 words/s, in_qsize 15, out_qsize 0\n",
            "2020-01-17 05:45:28,657 : INFO : worker thread finished; awaiting finish of 7 more threads\n",
            "2020-01-17 05:45:28,660 : INFO : worker thread finished; awaiting finish of 6 more threads\n",
            "2020-01-17 05:45:28,684 : INFO : worker thread finished; awaiting finish of 5 more threads\n",
            "2020-01-17 05:45:28,730 : INFO : worker thread finished; awaiting finish of 4 more threads\n",
            "2020-01-17 05:45:28,740 : INFO : worker thread finished; awaiting finish of 3 more threads\n",
            "2020-01-17 05:45:28,750 : INFO : worker thread finished; awaiting finish of 2 more threads\n",
            "2020-01-17 05:45:28,759 : INFO : worker thread finished; awaiting finish of 1 more threads\n",
            "2020-01-17 05:45:28,761 : INFO : worker thread finished; awaiting finish of 0 more threads\n",
            "2020-01-17 05:45:28,762 : INFO : EPOCH - 10 : training on 9227204 raw words (8223052 effective words) took 18.9s, 435688 effective words/s\n",
            "2020-01-17 05:45:29,820 : INFO : EPOCH 11 - PROGRESS: at 4.99% examples, 391289 words/s, in_qsize 15, out_qsize 0\n",
            "2020-01-17 05:45:30,839 : INFO : EPOCH 11 - PROGRESS: at 10.21% examples, 405480 words/s, in_qsize 16, out_qsize 1\n",
            "2020-01-17 05:45:31,860 : INFO : EPOCH 11 - PROGRESS: at 15.95% examples, 424092 words/s, in_qsize 15, out_qsize 0\n",
            "2020-01-17 05:45:32,898 : INFO : EPOCH 11 - PROGRESS: at 21.57% examples, 429693 words/s, in_qsize 15, out_qsize 0\n",
            "2020-01-17 05:45:33,953 : INFO : EPOCH 11 - PROGRESS: at 26.99% examples, 428130 words/s, in_qsize 14, out_qsize 1\n",
            "2020-01-17 05:45:34,979 : INFO : EPOCH 11 - PROGRESS: at 32.73% examples, 433475 words/s, in_qsize 15, out_qsize 0\n",
            "2020-01-17 05:45:36,052 : INFO : EPOCH 11 - PROGRESS: at 38.35% examples, 433256 words/s, in_qsize 8, out_qsize 7\n",
            "2020-01-17 05:45:37,070 : INFO : EPOCH 11 - PROGRESS: at 44.07% examples, 437010 words/s, in_qsize 16, out_qsize 1\n",
            "2020-01-17 05:45:38,109 : INFO : EPOCH 11 - PROGRESS: at 49.59% examples, 437071 words/s, in_qsize 15, out_qsize 0\n",
            "2020-01-17 05:45:39,141 : INFO : EPOCH 11 - PROGRESS: at 55.10% examples, 437432 words/s, in_qsize 15, out_qsize 0\n",
            "2020-01-17 05:45:40,168 : INFO : EPOCH 11 - PROGRESS: at 60.85% examples, 439441 words/s, in_qsize 14, out_qsize 1\n",
            "2020-01-17 05:45:41,172 : INFO : EPOCH 11 - PROGRESS: at 66.25% examples, 439774 words/s, in_qsize 13, out_qsize 2\n",
            "2020-01-17 05:45:42,177 : INFO : EPOCH 11 - PROGRESS: at 72.32% examples, 444014 words/s, in_qsize 16, out_qsize 0\n",
            "2020-01-17 05:45:43,188 : INFO : EPOCH 11 - PROGRESS: at 77.53% examples, 442490 words/s, in_qsize 15, out_qsize 0\n",
            "2020-01-17 05:45:44,221 : INFO : EPOCH 11 - PROGRESS: at 82.96% examples, 441746 words/s, in_qsize 14, out_qsize 1\n",
            "2020-01-17 05:45:45,311 : INFO : EPOCH 11 - PROGRESS: at 88.91% examples, 442228 words/s, in_qsize 16, out_qsize 1\n",
            "2020-01-17 05:45:46,314 : INFO : EPOCH 11 - PROGRESS: at 94.79% examples, 444370 words/s, in_qsize 15, out_qsize 0\n",
            "2020-01-17 05:45:47,124 : INFO : worker thread finished; awaiting finish of 7 more threads\n",
            "2020-01-17 05:45:47,129 : INFO : worker thread finished; awaiting finish of 6 more threads\n",
            "2020-01-17 05:45:47,130 : INFO : worker thread finished; awaiting finish of 5 more threads\n",
            "2020-01-17 05:45:47,134 : INFO : worker thread finished; awaiting finish of 4 more threads\n",
            "2020-01-17 05:45:47,137 : INFO : worker thread finished; awaiting finish of 3 more threads\n",
            "2020-01-17 05:45:47,141 : INFO : worker thread finished; awaiting finish of 2 more threads\n",
            "2020-01-17 05:45:47,145 : INFO : worker thread finished; awaiting finish of 1 more threads\n",
            "2020-01-17 05:45:47,167 : INFO : worker thread finished; awaiting finish of 0 more threads\n",
            "2020-01-17 05:45:47,168 : INFO : EPOCH - 11 : training on 9227204 raw words (8223191 effective words) took 18.4s, 447032 effective words/s\n",
            "2020-01-17 05:45:48,274 : INFO : EPOCH 12 - PROGRESS: at 5.43% examples, 406293 words/s, in_qsize 16, out_qsize 0\n",
            "2020-01-17 05:45:49,278 : INFO : EPOCH 12 - PROGRESS: at 11.08% examples, 433036 words/s, in_qsize 15, out_qsize 0\n",
            "2020-01-17 05:45:50,279 : INFO : EPOCH 12 - PROGRESS: at 16.48% examples, 436640 words/s, in_qsize 15, out_qsize 0\n",
            "2020-01-17 05:45:51,330 : INFO : EPOCH 12 - PROGRESS: at 21.90% examples, 434327 words/s, in_qsize 14, out_qsize 2\n",
            "2020-01-17 05:45:52,326 : INFO : EPOCH 12 - PROGRESS: at 27.64% examples, 441316 words/s, in_qsize 16, out_qsize 0\n",
            "2020-01-17 05:45:53,329 : INFO : EPOCH 12 - PROGRESS: at 33.06% examples, 441721 words/s, in_qsize 15, out_qsize 0\n",
            "2020-01-17 05:45:54,368 : INFO : EPOCH 12 - PROGRESS: at 38.57% examples, 441131 words/s, in_qsize 15, out_qsize 0\n",
            "2020-01-17 05:45:55,437 : INFO : EPOCH 12 - PROGRESS: at 44.29% examples, 441178 words/s, in_qsize 15, out_qsize 0\n",
            "2020-01-17 05:45:56,461 : INFO : EPOCH 12 - PROGRESS: at 49.92% examples, 442417 words/s, in_qsize 15, out_qsize 0\n",
            "2020-01-17 05:45:57,501 : INFO : EPOCH 12 - PROGRESS: at 55.42% examples, 441897 words/s, in_qsize 15, out_qsize 0\n",
            "2020-01-17 05:45:58,533 : INFO : EPOCH 12 - PROGRESS: at 61.39% examples, 444910 words/s, in_qsize 16, out_qsize 0\n",
            "2020-01-17 05:45:59,588 : INFO : EPOCH 12 - PROGRESS: at 66.58% examples, 441564 words/s, in_qsize 15, out_qsize 0\n",
            "2020-01-17 05:46:00,655 : INFO : EPOCH 12 - PROGRESS: at 72.10% examples, 440323 words/s, in_qsize 13, out_qsize 2\n",
            "2020-01-17 05:46:01,675 : INFO : EPOCH 12 - PROGRESS: at 77.63% examples, 440635 words/s, in_qsize 15, out_qsize 0\n",
            "2020-01-17 05:46:02,695 : INFO : EPOCH 12 - PROGRESS: at 83.07% examples, 440379 words/s, in_qsize 14, out_qsize 1\n",
            "2020-01-17 05:46:03,791 : INFO : EPOCH 12 - PROGRESS: at 88.80% examples, 439717 words/s, in_qsize 15, out_qsize 0\n",
            "2020-01-17 05:46:04,795 : INFO : EPOCH 12 - PROGRESS: at 94.25% examples, 439912 words/s, in_qsize 14, out_qsize 1\n",
            "2020-01-17 05:46:05,724 : INFO : worker thread finished; awaiting finish of 7 more threads\n",
            "2020-01-17 05:46:05,728 : INFO : worker thread finished; awaiting finish of 6 more threads\n",
            "2020-01-17 05:46:05,737 : INFO : worker thread finished; awaiting finish of 5 more threads\n",
            "2020-01-17 05:46:05,753 : INFO : worker thread finished; awaiting finish of 4 more threads\n",
            "2020-01-17 05:46:05,760 : INFO : worker thread finished; awaiting finish of 3 more threads\n",
            "2020-01-17 05:46:05,772 : INFO : worker thread finished; awaiting finish of 2 more threads\n",
            "2020-01-17 05:46:05,790 : INFO : worker thread finished; awaiting finish of 1 more threads\n",
            "2020-01-17 05:46:05,797 : INFO : EPOCH 12 - PROGRESS: at 100.00% examples, 441676 words/s, in_qsize 0, out_qsize 1\n",
            "2020-01-17 05:46:05,798 : INFO : worker thread finished; awaiting finish of 0 more threads\n",
            "2020-01-17 05:46:05,799 : INFO : EPOCH - 12 : training on 9227204 raw words (8223136 effective words) took 18.6s, 441626 effective words/s\n",
            "2020-01-17 05:46:06,850 : INFO : EPOCH 13 - PROGRESS: at 4.56% examples, 360749 words/s, in_qsize 14, out_qsize 5\n",
            "2020-01-17 05:46:07,905 : INFO : EPOCH 13 - PROGRESS: at 10.53% examples, 413164 words/s, in_qsize 15, out_qsize 0\n",
            "2020-01-17 05:46:08,909 : INFO : EPOCH 13 - PROGRESS: at 16.48% examples, 437365 words/s, in_qsize 16, out_qsize 0\n",
            "2020-01-17 05:46:09,924 : INFO : EPOCH 13 - PROGRESS: at 21.68% examples, 433459 words/s, in_qsize 15, out_qsize 0\n",
            "2020-01-17 05:46:10,968 : INFO : EPOCH 13 - PROGRESS: at 27.09% examples, 432018 words/s, in_qsize 15, out_qsize 6\n",
            "2020-01-17 05:46:11,974 : INFO : EPOCH 13 - PROGRESS: at 32.19% examples, 429491 words/s, in_qsize 15, out_qsize 0\n",
            "2020-01-17 05:46:12,994 : INFO : EPOCH 13 - PROGRESS: at 37.59% examples, 430910 words/s, in_qsize 16, out_qsize 0\n",
            "2020-01-17 05:46:14,037 : INFO : EPOCH 13 - PROGRESS: at 43.10% examples, 431122 words/s, in_qsize 15, out_qsize 0\n",
            "2020-01-17 05:46:15,088 : INFO : EPOCH 13 - PROGRESS: at 48.84% examples, 433168 words/s, in_qsize 15, out_qsize 0\n",
            "2020-01-17 05:46:16,147 : INFO : EPOCH 13 - PROGRESS: at 54.78% examples, 436224 words/s, in_qsize 15, out_qsize 0\n",
            "2020-01-17 05:46:17,165 : INFO : EPOCH 13 - PROGRESS: at 60.30% examples, 437165 words/s, in_qsize 15, out_qsize 0\n",
            "2020-01-17 05:46:18,173 : INFO : EPOCH 13 - PROGRESS: at 66.25% examples, 441150 words/s, in_qsize 16, out_qsize 0\n",
            "2020-01-17 05:46:19,180 : INFO : EPOCH 13 - PROGRESS: at 71.34% examples, 439223 words/s, in_qsize 16, out_qsize 0\n",
            "2020-01-17 05:46:20,182 : INFO : EPOCH 13 - PROGRESS: at 76.88% examples, 440150 words/s, in_qsize 15, out_qsize 1\n",
            "2020-01-17 05:46:21,246 : INFO : EPOCH 13 - PROGRESS: at 82.42% examples, 439248 words/s, in_qsize 15, out_qsize 0\n",
            "2020-01-17 05:46:22,324 : INFO : EPOCH 13 - PROGRESS: at 88.27% examples, 439697 words/s, in_qsize 13, out_qsize 2\n",
            "2020-01-17 05:46:23,353 : INFO : EPOCH 13 - PROGRESS: at 93.70% examples, 439263 words/s, in_qsize 15, out_qsize 0\n",
            "2020-01-17 05:46:24,266 : INFO : worker thread finished; awaiting finish of 7 more threads\n",
            "2020-01-17 05:46:24,272 : INFO : worker thread finished; awaiting finish of 6 more threads\n",
            "2020-01-17 05:46:24,279 : INFO : worker thread finished; awaiting finish of 5 more threads\n",
            "2020-01-17 05:46:24,292 : INFO : worker thread finished; awaiting finish of 4 more threads\n",
            "2020-01-17 05:46:24,320 : INFO : worker thread finished; awaiting finish of 3 more threads\n",
            "2020-01-17 05:46:24,330 : INFO : worker thread finished; awaiting finish of 2 more threads\n",
            "2020-01-17 05:46:24,344 : INFO : worker thread finished; awaiting finish of 1 more threads\n",
            "2020-01-17 05:46:24,345 : INFO : worker thread finished; awaiting finish of 0 more threads\n",
            "2020-01-17 05:46:24,346 : INFO : EPOCH - 13 : training on 9227204 raw words (8222226 effective words) took 18.5s, 443657 effective words/s\n",
            "2020-01-17 05:46:25,421 : INFO : EPOCH 14 - PROGRESS: at 5.22% examples, 402849 words/s, in_qsize 15, out_qsize 0\n",
            "2020-01-17 05:46:26,560 : INFO : EPOCH 14 - PROGRESS: at 11.08% examples, 418136 words/s, in_qsize 16, out_qsize 5\n",
            "2020-01-17 05:46:27,541 : INFO : EPOCH 14 - PROGRESS: at 16.70% examples, 431049 words/s, in_qsize 15, out_qsize 0\n",
            "2020-01-17 05:46:28,601 : INFO : EPOCH 14 - PROGRESS: at 22.22% examples, 430851 words/s, in_qsize 15, out_qsize 2\n",
            "2020-01-17 05:46:29,647 : INFO : EPOCH 14 - PROGRESS: at 28.18% examples, 437987 words/s, in_qsize 15, out_qsize 0\n",
            "2020-01-17 05:46:30,688 : INFO : EPOCH 14 - PROGRESS: at 33.16% examples, 430696 words/s, in_qsize 14, out_qsize 1\n",
            "2020-01-17 05:46:31,701 : INFO : EPOCH 14 - PROGRESS: at 38.46% examples, 430720 words/s, in_qsize 15, out_qsize 0\n",
            "2020-01-17 05:46:32,796 : INFO : EPOCH 14 - PROGRESS: at 44.29% examples, 431857 words/s, in_qsize 14, out_qsize 1\n",
            "2020-01-17 05:46:33,826 : INFO : EPOCH 14 - PROGRESS: at 49.70% examples, 432839 words/s, in_qsize 15, out_qsize 3\n",
            "2020-01-17 05:46:34,863 : INFO : EPOCH 14 - PROGRESS: at 55.32% examples, 433436 words/s, in_qsize 16, out_qsize 0\n",
            "2020-01-17 05:46:35,906 : INFO : EPOCH 14 - PROGRESS: at 60.85% examples, 434339 words/s, in_qsize 15, out_qsize 0\n",
            "2020-01-17 05:46:36,925 : INFO : EPOCH 14 - PROGRESS: at 66.15% examples, 433234 words/s, in_qsize 16, out_qsize 0\n",
            "2020-01-17 05:46:37,931 : INFO : EPOCH 14 - PROGRESS: at 71.35% examples, 432601 words/s, in_qsize 16, out_qsize 2\n",
            "2020-01-17 05:46:38,946 : INFO : EPOCH 14 - PROGRESS: at 76.77% examples, 433018 words/s, in_qsize 15, out_qsize 0\n",
            "2020-01-17 05:46:39,973 : INFO : EPOCH 14 - PROGRESS: at 82.42% examples, 434196 words/s, in_qsize 12, out_qsize 3\n",
            "2020-01-17 05:46:40,979 : INFO : EPOCH 14 - PROGRESS: at 87.94% examples, 435222 words/s, in_qsize 13, out_qsize 2\n",
            "2020-01-17 05:46:42,037 : INFO : EPOCH 14 - PROGRESS: at 93.81% examples, 436354 words/s, in_qsize 15, out_qsize 0\n",
            "2020-01-17 05:46:43,083 : INFO : EPOCH 14 - PROGRESS: at 99.12% examples, 435306 words/s, in_qsize 9, out_qsize 0\n",
            "2020-01-17 05:46:43,108 : INFO : worker thread finished; awaiting finish of 7 more threads\n",
            "2020-01-17 05:46:43,112 : INFO : worker thread finished; awaiting finish of 6 more threads\n",
            "2020-01-17 05:46:43,128 : INFO : worker thread finished; awaiting finish of 5 more threads\n",
            "2020-01-17 05:46:43,131 : INFO : worker thread finished; awaiting finish of 4 more threads\n",
            "2020-01-17 05:46:43,137 : INFO : worker thread finished; awaiting finish of 3 more threads\n",
            "2020-01-17 05:46:43,141 : INFO : worker thread finished; awaiting finish of 2 more threads\n",
            "2020-01-17 05:46:43,142 : INFO : worker thread finished; awaiting finish of 1 more threads\n",
            "2020-01-17 05:46:43,157 : INFO : worker thread finished; awaiting finish of 0 more threads\n",
            "2020-01-17 05:46:43,158 : INFO : EPOCH - 14 : training on 9227204 raw words (8222752 effective words) took 18.8s, 437421 effective words/s\n",
            "2020-01-17 05:46:44,177 : INFO : EPOCH 15 - PROGRESS: at 4.67% examples, 379666 words/s, in_qsize 15, out_qsize 2\n",
            "2020-01-17 05:46:45,179 : INFO : EPOCH 15 - PROGRESS: at 10.53% examples, 429744 words/s, in_qsize 15, out_qsize 0\n",
            "2020-01-17 05:46:46,270 : INFO : EPOCH 15 - PROGRESS: at 15.84% examples, 422869 words/s, in_qsize 15, out_qsize 1\n",
            "2020-01-17 05:46:47,288 : INFO : EPOCH 15 - PROGRESS: at 21.35% examples, 425902 words/s, in_qsize 15, out_qsize 0\n",
            "2020-01-17 05:46:48,303 : INFO : EPOCH 15 - PROGRESS: at 27.10% examples, 433679 words/s, in_qsize 15, out_qsize 0\n",
            "2020-01-17 05:46:49,327 : INFO : EPOCH 15 - PROGRESS: at 32.52% examples, 433976 words/s, in_qsize 15, out_qsize 0\n",
            "2020-01-17 05:46:50,385 : INFO : EPOCH 15 - PROGRESS: at 38.35% examples, 436935 words/s, in_qsize 16, out_qsize 0\n",
            "2020-01-17 05:46:51,453 : INFO : EPOCH 15 - PROGRESS: at 43.86% examples, 435439 words/s, in_qsize 15, out_qsize 0\n",
            "2020-01-17 05:46:52,469 : INFO : EPOCH 15 - PROGRESS: at 49.92% examples, 441551 words/s, in_qsize 15, out_qsize 0\n",
            "2020-01-17 05:46:53,552 : INFO : EPOCH 15 - PROGRESS: at 55.21% examples, 437604 words/s, in_qsize 13, out_qsize 2\n",
            "2020-01-17 05:46:54,558 : INFO : EPOCH 15 - PROGRESS: at 60.85% examples, 439613 words/s, in_qsize 12, out_qsize 3\n",
            "2020-01-17 05:46:55,566 : INFO : EPOCH 15 - PROGRESS: at 66.69% examples, 442695 words/s, in_qsize 15, out_qsize 0\n",
            "2020-01-17 05:46:56,650 : INFO : EPOCH 15 - PROGRESS: at 72.00% examples, 439498 words/s, in_qsize 16, out_qsize 3\n",
            "2020-01-17 05:46:57,757 : INFO : EPOCH 15 - PROGRESS: at 78.07% examples, 440979 words/s, in_qsize 14, out_qsize 2\n",
            "2020-01-17 05:46:58,737 : INFO : EPOCH 15 - PROGRESS: at 83.94% examples, 443523 words/s, in_qsize 16, out_qsize 0\n",
            "2020-01-17 05:46:59,747 : INFO : EPOCH 15 - PROGRESS: at 89.23% examples, 442816 words/s, in_qsize 16, out_qsize 1\n",
            "2020-01-17 05:47:00,806 : INFO : EPOCH 15 - PROGRESS: at 95.23% examples, 443953 words/s, in_qsize 15, out_qsize 0\n",
            "2020-01-17 05:47:01,482 : INFO : worker thread finished; awaiting finish of 7 more threads\n",
            "2020-01-17 05:47:01,515 : INFO : worker thread finished; awaiting finish of 6 more threads\n",
            "2020-01-17 05:47:01,543 : INFO : worker thread finished; awaiting finish of 5 more threads\n",
            "2020-01-17 05:47:01,548 : INFO : worker thread finished; awaiting finish of 4 more threads\n",
            "2020-01-17 05:47:01,560 : INFO : worker thread finished; awaiting finish of 3 more threads\n",
            "2020-01-17 05:47:01,575 : INFO : worker thread finished; awaiting finish of 2 more threads\n",
            "2020-01-17 05:47:01,575 : INFO : worker thread finished; awaiting finish of 1 more threads\n",
            "2020-01-17 05:47:01,580 : INFO : worker thread finished; awaiting finish of 0 more threads\n",
            "2020-01-17 05:47:01,581 : INFO : EPOCH - 15 : training on 9227204 raw words (8223230 effective words) took 18.4s, 446618 effective words/s\n",
            "2020-01-17 05:47:02,653 : INFO : EPOCH 16 - PROGRESS: at 5.11% examples, 394186 words/s, in_qsize 13, out_qsize 2\n",
            "2020-01-17 05:47:03,698 : INFO : EPOCH 16 - PROGRESS: at 10.75% examples, 418810 words/s, in_qsize 15, out_qsize 1\n",
            "2020-01-17 05:47:04,782 : INFO : EPOCH 16 - PROGRESS: at 16.48% examples, 424389 words/s, in_qsize 16, out_qsize 1\n",
            "2020-01-17 05:47:05,858 : INFO : EPOCH 16 - PROGRESS: at 22.33% examples, 430031 words/s, in_qsize 14, out_qsize 1\n",
            "2020-01-17 05:47:06,869 : INFO : EPOCH 16 - PROGRESS: at 27.96% examples, 435444 words/s, in_qsize 16, out_qsize 1\n",
            "2020-01-17 05:47:07,878 : INFO : EPOCH 16 - PROGRESS: at 32.95% examples, 430749 words/s, in_qsize 12, out_qsize 3\n",
            "2020-01-17 05:47:08,889 : INFO : EPOCH 16 - PROGRESS: at 38.68% examples, 435735 words/s, in_qsize 16, out_qsize 0\n",
            "2020-01-17 05:47:09,928 : INFO : EPOCH 16 - PROGRESS: at 44.29% examples, 436973 words/s, in_qsize 15, out_qsize 1\n",
            "2020-01-17 05:47:10,973 : INFO : EPOCH 16 - PROGRESS: at 50.02% examples, 438623 words/s, in_qsize 14, out_qsize 1\n",
            "2020-01-17 05:47:12,064 : INFO : EPOCH 16 - PROGRESS: at 55.21% examples, 433813 words/s, in_qsize 14, out_qsize 1\n",
            "2020-01-17 05:47:13,078 : INFO : EPOCH 16 - PROGRESS: at 60.74% examples, 435057 words/s, in_qsize 16, out_qsize 3\n",
            "2020-01-17 05:47:14,174 : INFO : EPOCH 16 - PROGRESS: at 66.58% examples, 435404 words/s, in_qsize 14, out_qsize 4\n",
            "2020-01-17 05:47:15,175 : INFO : EPOCH 16 - PROGRESS: at 71.99% examples, 436134 words/s, in_qsize 14, out_qsize 6\n",
            "2020-01-17 05:47:16,240 : INFO : EPOCH 16 - PROGRESS: at 78.29% examples, 439667 words/s, in_qsize 15, out_qsize 0\n",
            "2020-01-17 05:47:17,251 : INFO : EPOCH 16 - PROGRESS: at 84.26% examples, 442575 words/s, in_qsize 15, out_qsize 0\n",
            "2020-01-17 05:47:18,261 : INFO : EPOCH 16 - PROGRESS: at 89.34% examples, 440863 words/s, in_qsize 15, out_qsize 0\n",
            "2020-01-17 05:47:19,264 : INFO : EPOCH 16 - PROGRESS: at 94.79% examples, 441030 words/s, in_qsize 11, out_qsize 4\n",
            "2020-01-17 05:47:20,004 : INFO : worker thread finished; awaiting finish of 7 more threads\n",
            "2020-01-17 05:47:20,031 : INFO : worker thread finished; awaiting finish of 6 more threads\n",
            "2020-01-17 05:47:20,060 : INFO : worker thread finished; awaiting finish of 5 more threads\n",
            "2020-01-17 05:47:20,064 : INFO : worker thread finished; awaiting finish of 4 more threads\n",
            "2020-01-17 05:47:20,070 : INFO : worker thread finished; awaiting finish of 3 more threads\n",
            "2020-01-17 05:47:20,079 : INFO : worker thread finished; awaiting finish of 2 more threads\n",
            "2020-01-17 05:47:20,082 : INFO : worker thread finished; awaiting finish of 1 more threads\n",
            "2020-01-17 05:47:20,087 : INFO : worker thread finished; awaiting finish of 0 more threads\n",
            "2020-01-17 05:47:20,087 : INFO : EPOCH - 16 : training on 9227204 raw words (8222801 effective words) took 18.5s, 444574 effective words/s\n",
            "2020-01-17 05:47:21,102 : INFO : EPOCH 17 - PROGRESS: at 5.10% examples, 416600 words/s, in_qsize 11, out_qsize 1\n",
            "2020-01-17 05:47:22,113 : INFO : EPOCH 17 - PROGRESS: at 10.64% examples, 433270 words/s, in_qsize 15, out_qsize 0\n",
            "2020-01-17 05:47:23,161 : INFO : EPOCH 17 - PROGRESS: at 16.16% examples, 433111 words/s, in_qsize 15, out_qsize 0\n",
            "2020-01-17 05:47:24,165 : INFO : EPOCH 17 - PROGRESS: at 21.46% examples, 433444 words/s, in_qsize 15, out_qsize 0\n",
            "2020-01-17 05:47:25,200 : INFO : EPOCH 17 - PROGRESS: at 27.42% examples, 441624 words/s, in_qsize 15, out_qsize 0\n",
            "2020-01-17 05:47:26,213 : INFO : EPOCH 17 - PROGRESS: at 32.62% examples, 438392 words/s, in_qsize 15, out_qsize 0\n",
            "2020-01-17 05:47:27,213 : INFO : EPOCH 17 - PROGRESS: at 37.92% examples, 438062 words/s, in_qsize 14, out_qsize 1\n",
            "2020-01-17 05:47:28,219 : INFO : EPOCH 17 - PROGRESS: at 43.43% examples, 439722 words/s, in_qsize 16, out_qsize 3\n",
            "2020-01-17 05:47:29,250 : INFO : EPOCH 17 - PROGRESS: at 49.05% examples, 440838 words/s, in_qsize 16, out_qsize 1\n",
            "2020-01-17 05:47:30,256 : INFO : EPOCH 17 - PROGRESS: at 54.14% examples, 438423 words/s, in_qsize 14, out_qsize 1\n",
            "2020-01-17 05:47:31,286 : INFO : EPOCH 17 - PROGRESS: at 59.66% examples, 438948 words/s, in_qsize 15, out_qsize 3\n",
            "2020-01-17 05:47:32,298 : INFO : EPOCH 17 - PROGRESS: at 65.61% examples, 442452 words/s, in_qsize 15, out_qsize 0\n",
            "2020-01-17 05:47:33,388 : INFO : EPOCH 17 - PROGRESS: at 71.24% examples, 440995 words/s, in_qsize 14, out_qsize 1\n",
            "2020-01-17 05:47:34,407 : INFO : EPOCH 17 - PROGRESS: at 76.87% examples, 441958 words/s, in_qsize 14, out_qsize 3\n",
            "2020-01-17 05:47:35,411 : INFO : EPOCH 17 - PROGRESS: at 82.64% examples, 443823 words/s, in_qsize 15, out_qsize 0\n",
            "2020-01-17 05:47:36,523 : INFO : EPOCH 17 - PROGRESS: at 88.16% examples, 441532 words/s, in_qsize 14, out_qsize 2\n",
            "2020-01-17 05:47:37,545 : INFO : EPOCH 17 - PROGRESS: at 94.25% examples, 444122 words/s, in_qsize 15, out_qsize 0\n",
            "2020-01-17 05:47:38,494 : INFO : worker thread finished; awaiting finish of 7 more threads\n",
            "2020-01-17 05:47:38,496 : INFO : worker thread finished; awaiting finish of 6 more threads\n",
            "2020-01-17 05:47:38,507 : INFO : worker thread finished; awaiting finish of 5 more threads\n",
            "2020-01-17 05:47:38,510 : INFO : worker thread finished; awaiting finish of 4 more threads\n",
            "2020-01-17 05:47:38,529 : INFO : worker thread finished; awaiting finish of 3 more threads\n",
            "2020-01-17 05:47:38,541 : INFO : worker thread finished; awaiting finish of 2 more threads\n",
            "2020-01-17 05:47:38,542 : INFO : worker thread finished; awaiting finish of 1 more threads\n",
            "2020-01-17 05:47:38,554 : INFO : EPOCH 17 - PROGRESS: at 100.00% examples, 445468 words/s, in_qsize 0, out_qsize 1\n",
            "2020-01-17 05:47:38,555 : INFO : worker thread finished; awaiting finish of 0 more threads\n",
            "2020-01-17 05:47:38,556 : INFO : EPOCH - 17 : training on 9227204 raw words (8221957 effective words) took 18.5s, 445435 effective words/s\n",
            "2020-01-17 05:47:39,578 : INFO : EPOCH 18 - PROGRESS: at 5.32% examples, 431431 words/s, in_qsize 15, out_qsize 0\n",
            "2020-01-17 05:47:40,603 : INFO : EPOCH 18 - PROGRESS: at 10.75% examples, 433276 words/s, in_qsize 15, out_qsize 0\n",
            "2020-01-17 05:47:41,633 : INFO : EPOCH 18 - PROGRESS: at 16.16% examples, 432820 words/s, in_qsize 14, out_qsize 1\n",
            "2020-01-17 05:47:42,636 : INFO : EPOCH 18 - PROGRESS: at 22.11% examples, 446587 words/s, in_qsize 14, out_qsize 1\n",
            "2020-01-17 05:47:43,672 : INFO : EPOCH 18 - PROGRESS: at 27.21% examples, 438013 words/s, in_qsize 16, out_qsize 1\n",
            "2020-01-17 05:47:44,766 : INFO : EPOCH 18 - PROGRESS: at 33.27% examples, 441195 words/s, in_qsize 15, out_qsize 0\n",
            "2020-01-17 05:47:45,780 : INFO : EPOCH 18 - PROGRESS: at 38.89% examples, 443370 words/s, in_qsize 15, out_qsize 0\n",
            "2020-01-17 05:47:46,791 : INFO : EPOCH 18 - PROGRESS: at 44.51% examples, 445167 words/s, in_qsize 16, out_qsize 0\n",
            "2020-01-17 05:47:47,802 : INFO : EPOCH 18 - PROGRESS: at 50.02% examples, 445681 words/s, in_qsize 14, out_qsize 1\n",
            "2020-01-17 05:47:48,809 : INFO : EPOCH 18 - PROGRESS: at 55.54% examples, 446260 words/s, in_qsize 15, out_qsize 0\n",
            "2020-01-17 05:47:49,857 : INFO : EPOCH 18 - PROGRESS: at 61.50% examples, 448236 words/s, in_qsize 15, out_qsize 0\n",
            "2020-01-17 05:47:50,863 : INFO : EPOCH 18 - PROGRESS: at 66.69% examples, 446308 words/s, in_qsize 14, out_qsize 1\n",
            "2020-01-17 05:47:51,953 : INFO : EPOCH 18 - PROGRESS: at 72.64% examples, 446556 words/s, in_qsize 14, out_qsize 1\n",
            "2020-01-17 05:47:52,969 : INFO : EPOCH 18 - PROGRESS: at 78.62% examples, 449068 words/s, in_qsize 14, out_qsize 1\n",
            "2020-01-17 05:47:53,970 : INFO : EPOCH 18 - PROGRESS: at 83.83% examples, 447631 words/s, in_qsize 15, out_qsize 0\n",
            "2020-01-17 05:47:55,002 : INFO : EPOCH 18 - PROGRESS: at 89.34% examples, 447142 words/s, in_qsize 15, out_qsize 0\n",
            "2020-01-17 05:47:56,009 : INFO : EPOCH 18 - PROGRESS: at 94.69% examples, 446316 words/s, in_qsize 11, out_qsize 4\n",
            "2020-01-17 05:47:56,793 : INFO : worker thread finished; awaiting finish of 7 more threads\n",
            "2020-01-17 05:47:56,798 : INFO : worker thread finished; awaiting finish of 6 more threads\n",
            "2020-01-17 05:47:56,829 : INFO : worker thread finished; awaiting finish of 5 more threads\n",
            "2020-01-17 05:47:56,836 : INFO : worker thread finished; awaiting finish of 4 more threads\n",
            "2020-01-17 05:47:56,850 : INFO : worker thread finished; awaiting finish of 3 more threads\n",
            "2020-01-17 05:47:56,866 : INFO : worker thread finished; awaiting finish of 2 more threads\n",
            "2020-01-17 05:47:56,874 : INFO : worker thread finished; awaiting finish of 1 more threads\n",
            "2020-01-17 05:47:56,878 : INFO : worker thread finished; awaiting finish of 0 more threads\n",
            "2020-01-17 05:47:56,879 : INFO : EPOCH - 18 : training on 9227204 raw words (8221858 effective words) took 18.3s, 448998 effective words/s\n",
            "2020-01-17 05:47:57,900 : INFO : EPOCH 19 - PROGRESS: at 5.21% examples, 422958 words/s, in_qsize 15, out_qsize 0\n",
            "2020-01-17 05:47:58,907 : INFO : EPOCH 19 - PROGRESS: at 10.42% examples, 423916 words/s, in_qsize 16, out_qsize 0\n",
            "2020-01-17 05:48:00,005 : INFO : EPOCH 19 - PROGRESS: at 15.84% examples, 417392 words/s, in_qsize 13, out_qsize 4\n",
            "2020-01-17 05:48:01,012 : INFO : EPOCH 19 - PROGRESS: at 21.57% examples, 429989 words/s, in_qsize 16, out_qsize 2\n",
            "2020-01-17 05:48:02,031 : INFO : EPOCH 19 - PROGRESS: at 27.31% examples, 436580 words/s, in_qsize 16, out_qsize 0\n",
            "2020-01-17 05:48:03,045 : INFO : EPOCH 19 - PROGRESS: at 32.52% examples, 434118 words/s, in_qsize 13, out_qsize 3\n",
            "2020-01-17 05:48:04,053 : INFO : EPOCH 19 - PROGRESS: at 38.35% examples, 440230 words/s, in_qsize 14, out_qsize 1\n",
            "2020-01-17 05:48:05,060 : INFO : EPOCH 19 - PROGRESS: at 43.86% examples, 441575 words/s, in_qsize 16, out_qsize 0\n",
            "2020-01-17 05:48:06,061 : INFO : EPOCH 19 - PROGRESS: at 49.06% examples, 439998 words/s, in_qsize 15, out_qsize 0\n",
            "2020-01-17 05:48:07,094 : INFO : EPOCH 19 - PROGRESS: at 54.89% examples, 442608 words/s, in_qsize 15, out_qsize 0\n",
            "2020-01-17 05:48:08,100 : INFO : EPOCH 19 - PROGRESS: at 60.09% examples, 441064 words/s, in_qsize 14, out_qsize 1\n",
            "2020-01-17 05:48:09,118 : INFO : EPOCH 19 - PROGRESS: at 66.04% examples, 444381 words/s, in_qsize 15, out_qsize 0\n",
            "2020-01-17 05:48:10,157 : INFO : EPOCH 19 - PROGRESS: at 71.35% examples, 442469 words/s, in_qsize 15, out_qsize 0\n",
            "2020-01-17 05:48:11,211 : INFO : EPOCH 19 - PROGRESS: at 77.09% examples, 442893 words/s, in_qsize 15, out_qsize 0\n",
            "2020-01-17 05:48:12,241 : INFO : EPOCH 19 - PROGRESS: at 82.10% examples, 439864 words/s, in_qsize 16, out_qsize 0\n",
            "2020-01-17 05:48:13,311 : INFO : EPOCH 19 - PROGRESS: at 87.83% examples, 439950 words/s, in_qsize 15, out_qsize 0\n",
            "2020-01-17 05:48:14,380 : INFO : EPOCH 19 - PROGRESS: at 93.48% examples, 439506 words/s, in_qsize 16, out_qsize 0\n",
            "2020-01-17 05:48:15,315 : INFO : worker thread finished; awaiting finish of 7 more threads\n",
            "2020-01-17 05:48:15,372 : INFO : worker thread finished; awaiting finish of 6 more threads\n",
            "2020-01-17 05:48:15,393 : INFO : EPOCH 19 - PROGRESS: at 99.45% examples, 441989 words/s, in_qsize 5, out_qsize 1\n",
            "2020-01-17 05:48:15,398 : INFO : worker thread finished; awaiting finish of 5 more threads\n",
            "2020-01-17 05:48:15,399 : INFO : worker thread finished; awaiting finish of 4 more threads\n",
            "2020-01-17 05:48:15,413 : INFO : worker thread finished; awaiting finish of 3 more threads\n",
            "2020-01-17 05:48:15,419 : INFO : worker thread finished; awaiting finish of 2 more threads\n",
            "2020-01-17 05:48:15,421 : INFO : worker thread finished; awaiting finish of 1 more threads\n",
            "2020-01-17 05:48:15,425 : INFO : worker thread finished; awaiting finish of 0 more threads\n",
            "2020-01-17 05:48:15,426 : INFO : EPOCH - 19 : training on 9227204 raw words (8222843 effective words) took 18.5s, 443610 effective words/s\n",
            "2020-01-17 05:48:16,472 : INFO : EPOCH 20 - PROGRESS: at 4.88% examples, 393916 words/s, in_qsize 15, out_qsize 5\n",
            "2020-01-17 05:48:17,474 : INFO : EPOCH 20 - PROGRESS: at 10.53% examples, 425535 words/s, in_qsize 16, out_qsize 4\n",
            "2020-01-17 05:48:18,558 : INFO : EPOCH 20 - PROGRESS: at 16.59% examples, 438007 words/s, in_qsize 15, out_qsize 2\n",
            "2020-01-17 05:48:19,557 : INFO : EPOCH 20 - PROGRESS: at 22.11% examples, 441586 words/s, in_qsize 16, out_qsize 4\n",
            "2020-01-17 05:48:20,558 : INFO : EPOCH 20 - PROGRESS: at 28.07% examples, 450491 words/s, in_qsize 16, out_qsize 0\n",
            "2020-01-17 05:48:21,578 : INFO : EPOCH 20 - PROGRESS: at 33.37% examples, 446758 words/s, in_qsize 15, out_qsize 0\n",
            "2020-01-17 05:48:22,610 : INFO : EPOCH 20 - PROGRESS: at 38.90% examples, 445877 words/s, in_qsize 15, out_qsize 0\n",
            "2020-01-17 05:48:23,632 : INFO : EPOCH 20 - PROGRESS: at 44.51% examples, 446769 words/s, in_qsize 15, out_qsize 0\n",
            "2020-01-17 05:48:24,644 : INFO : EPOCH 20 - PROGRESS: at 49.92% examples, 446080 words/s, in_qsize 12, out_qsize 5\n",
            "2020-01-17 05:48:25,705 : INFO : EPOCH 20 - PROGRESS: at 55.86% examples, 447718 words/s, in_qsize 15, out_qsize 0\n",
            "2020-01-17 05:48:26,764 : INFO : EPOCH 20 - PROGRESS: at 61.39% examples, 445982 words/s, in_qsize 16, out_qsize 2\n",
            "2020-01-17 05:48:27,802 : INFO : EPOCH 20 - PROGRESS: at 67.13% examples, 446722 words/s, in_qsize 15, out_qsize 4\n",
            "2020-01-17 05:48:28,872 : INFO : EPOCH 20 - PROGRESS: at 73.08% examples, 447629 words/s, in_qsize 15, out_qsize 2\n",
            "2020-01-17 05:48:29,892 : INFO : EPOCH 20 - PROGRESS: at 78.84% examples, 448706 words/s, in_qsize 16, out_qsize 0\n",
            "2020-01-17 05:48:30,912 : INFO : EPOCH 20 - PROGRESS: at 83.83% examples, 445625 words/s, in_qsize 15, out_qsize 0\n",
            "2020-01-17 05:48:31,991 : INFO : EPOCH 20 - PROGRESS: at 89.89% examples, 446687 words/s, in_qsize 15, out_qsize 0\n",
            "2020-01-17 05:48:33,052 : INFO : EPOCH 20 - PROGRESS: at 95.66% examples, 446575 words/s, in_qsize 15, out_qsize 0\n",
            "2020-01-17 05:48:33,683 : INFO : worker thread finished; awaiting finish of 7 more threads\n",
            "2020-01-17 05:48:33,686 : INFO : worker thread finished; awaiting finish of 6 more threads\n",
            "2020-01-17 05:48:33,694 : INFO : worker thread finished; awaiting finish of 5 more threads\n",
            "2020-01-17 05:48:33,721 : INFO : worker thread finished; awaiting finish of 4 more threads\n",
            "2020-01-17 05:48:33,739 : INFO : worker thread finished; awaiting finish of 3 more threads\n",
            "2020-01-17 05:48:33,740 : INFO : worker thread finished; awaiting finish of 2 more threads\n",
            "2020-01-17 05:48:33,741 : INFO : worker thread finished; awaiting finish of 1 more threads\n",
            "2020-01-17 05:48:33,749 : INFO : worker thread finished; awaiting finish of 0 more threads\n",
            "2020-01-17 05:48:33,750 : INFO : EPOCH - 20 : training on 9227204 raw words (8223940 effective words) took 18.3s, 449075 effective words/s\n",
            "2020-01-17 05:48:34,763 : INFO : EPOCH 21 - PROGRESS: at 5.21% examples, 426618 words/s, in_qsize 14, out_qsize 1\n",
            "2020-01-17 05:48:35,781 : INFO : EPOCH 21 - PROGRESS: at 10.75% examples, 436616 words/s, in_qsize 15, out_qsize 0\n",
            "2020-01-17 05:48:36,792 : INFO : EPOCH 21 - PROGRESS: at 16.16% examples, 437828 words/s, in_qsize 13, out_qsize 2\n",
            "2020-01-17 05:48:37,805 : INFO : EPOCH 21 - PROGRESS: at 21.79% examples, 442809 words/s, in_qsize 14, out_qsize 1\n",
            "2020-01-17 05:48:38,836 : INFO : EPOCH 21 - PROGRESS: at 27.42% examples, 444119 words/s, in_qsize 15, out_qsize 0\n",
            "2020-01-17 05:48:39,864 : INFO : EPOCH 21 - PROGRESS: at 33.16% examples, 446668 words/s, in_qsize 16, out_qsize 0\n",
            "2020-01-17 05:48:40,867 : INFO : EPOCH 21 - PROGRESS: at 38.78% examples, 448822 words/s, in_qsize 15, out_qsize 0\n",
            "2020-01-17 05:48:41,904 : INFO : EPOCH 21 - PROGRESS: at 44.29% examples, 447467 words/s, in_qsize 15, out_qsize 0\n",
            "2020-01-17 05:48:42,927 : INFO : EPOCH 21 - PROGRESS: at 49.81% examples, 447124 words/s, in_qsize 14, out_qsize 1\n",
            "2020-01-17 05:48:43,964 : INFO : EPOCH 21 - PROGRESS: at 55.32% examples, 447248 words/s, in_qsize 15, out_qsize 1\n",
            "2020-01-17 05:48:44,949 : INFO : EPOCH 21 - PROGRESS: at 60.85% examples, 447586 words/s, in_qsize 16, out_qsize 0\n",
            "2020-01-17 05:48:46,001 : INFO : EPOCH 21 - PROGRESS: at 66.58% examples, 448407 words/s, in_qsize 15, out_qsize 1\n",
            "2020-01-17 05:48:47,002 : INFO : EPOCH 21 - PROGRESS: at 71.99% examples, 447476 words/s, in_qsize 15, out_qsize 0\n",
            "2020-01-17 05:48:48,031 : INFO : EPOCH 21 - PROGRESS: at 78.18% examples, 450800 words/s, in_qsize 15, out_qsize 0\n",
            "2020-01-17 05:48:49,070 : INFO : EPOCH 21 - PROGRESS: at 83.62% examples, 449304 words/s, in_qsize 16, out_qsize 0\n",
            "2020-01-17 05:48:50,148 : INFO : EPOCH 21 - PROGRESS: at 89.45% examples, 449080 words/s, in_qsize 15, out_qsize 0\n",
            "2020-01-17 05:48:51,162 : INFO : EPOCH 21 - PROGRESS: at 95.01% examples, 449006 words/s, in_qsize 15, out_qsize 0\n",
            "2020-01-17 05:48:51,908 : INFO : worker thread finished; awaiting finish of 7 more threads\n",
            "2020-01-17 05:48:51,914 : INFO : worker thread finished; awaiting finish of 6 more threads\n",
            "2020-01-17 05:48:51,919 : INFO : worker thread finished; awaiting finish of 5 more threads\n",
            "2020-01-17 05:48:51,921 : INFO : worker thread finished; awaiting finish of 4 more threads\n",
            "2020-01-17 05:48:51,922 : INFO : worker thread finished; awaiting finish of 3 more threads\n",
            "2020-01-17 05:48:51,941 : INFO : worker thread finished; awaiting finish of 2 more threads\n",
            "2020-01-17 05:48:51,949 : INFO : worker thread finished; awaiting finish of 1 more threads\n",
            "2020-01-17 05:48:51,954 : INFO : worker thread finished; awaiting finish of 0 more threads\n",
            "2020-01-17 05:48:51,955 : INFO : EPOCH - 21 : training on 9227204 raw words (8223851 effective words) took 18.2s, 452012 effective words/s\n",
            "2020-01-17 05:48:53,000 : INFO : EPOCH 22 - PROGRESS: at 4.67% examples, 377544 words/s, in_qsize 16, out_qsize 6\n",
            "2020-01-17 05:48:54,025 : INFO : EPOCH 22 - PROGRESS: at 10.53% examples, 419445 words/s, in_qsize 14, out_qsize 1\n",
            "2020-01-17 05:48:55,039 : INFO : EPOCH 22 - PROGRESS: at 16.16% examples, 431615 words/s, in_qsize 16, out_qsize 0\n",
            "2020-01-17 05:48:56,071 : INFO : EPOCH 22 - PROGRESS: at 22.01% examples, 440227 words/s, in_qsize 15, out_qsize 0\n",
            "2020-01-17 05:48:57,094 : INFO : EPOCH 22 - PROGRESS: at 27.53% examples, 441050 words/s, in_qsize 14, out_qsize 0\n",
            "2020-01-17 05:48:58,121 : INFO : EPOCH 22 - PROGRESS: at 33.27% examples, 444102 words/s, in_qsize 14, out_qsize 0\n",
            "2020-01-17 05:48:59,164 : INFO : EPOCH 22 - PROGRESS: at 38.89% examples, 444168 words/s, in_qsize 15, out_qsize 0\n",
            "2020-01-17 05:49:00,167 : INFO : EPOCH 22 - PROGRESS: at 44.40% examples, 445235 words/s, in_qsize 12, out_qsize 3\n",
            "2020-01-17 05:49:01,252 : INFO : EPOCH 22 - PROGRESS: at 50.45% examples, 447854 words/s, in_qsize 16, out_qsize 0\n",
            "2020-01-17 05:49:02,238 : INFO : EPOCH 22 - PROGRESS: at 55.75% examples, 446569 words/s, in_qsize 15, out_qsize 0\n",
            "2020-01-17 05:49:03,246 : INFO : EPOCH 22 - PROGRESS: at 61.39% examples, 447710 words/s, in_qsize 15, out_qsize 0\n",
            "2020-01-17 05:49:04,325 : INFO : EPOCH 22 - PROGRESS: at 67.34% examples, 448269 words/s, in_qsize 16, out_qsize 0\n",
            "2020-01-17 05:49:05,355 : INFO : EPOCH 22 - PROGRESS: at 72.75% examples, 447045 words/s, in_qsize 10, out_qsize 5\n",
            "2020-01-17 05:49:06,362 : INFO : EPOCH 22 - PROGRESS: at 78.39% examples, 447985 words/s, in_qsize 10, out_qsize 2\n",
            "2020-01-17 05:49:07,440 : INFO : EPOCH 22 - PROGRESS: at 84.16% examples, 448126 words/s, in_qsize 16, out_qsize 1\n",
            "2020-01-17 05:49:08,423 : INFO : EPOCH 22 - PROGRESS: at 89.89% examples, 449211 words/s, in_qsize 15, out_qsize 0\n",
            "2020-01-17 05:49:09,430 : INFO : EPOCH 22 - PROGRESS: at 95.12% examples, 447770 words/s, in_qsize 12, out_qsize 3\n",
            "2020-01-17 05:49:10,139 : INFO : worker thread finished; awaiting finish of 7 more threads\n",
            "2020-01-17 05:49:10,141 : INFO : worker thread finished; awaiting finish of 6 more threads\n",
            "2020-01-17 05:49:10,144 : INFO : worker thread finished; awaiting finish of 5 more threads\n",
            "2020-01-17 05:49:10,146 : INFO : worker thread finished; awaiting finish of 4 more threads\n",
            "2020-01-17 05:49:10,149 : INFO : worker thread finished; awaiting finish of 3 more threads\n",
            "2020-01-17 05:49:10,166 : INFO : worker thread finished; awaiting finish of 2 more threads\n",
            "2020-01-17 05:49:10,192 : INFO : worker thread finished; awaiting finish of 1 more threads\n",
            "2020-01-17 05:49:10,195 : INFO : worker thread finished; awaiting finish of 0 more threads\n",
            "2020-01-17 05:49:10,195 : INFO : EPOCH - 22 : training on 9227204 raw words (8222330 effective words) took 18.2s, 451015 effective words/s\n",
            "2020-01-17 05:49:11,246 : INFO : EPOCH 23 - PROGRESS: at 5.21% examples, 410800 words/s, in_qsize 15, out_qsize 0\n",
            "2020-01-17 05:49:12,356 : INFO : EPOCH 23 - PROGRESS: at 10.20% examples, 389490 words/s, in_qsize 15, out_qsize 0\n",
            "2020-01-17 05:49:13,366 : INFO : EPOCH 23 - PROGRESS: at 15.52% examples, 403095 words/s, in_qsize 13, out_qsize 2\n",
            "2020-01-17 05:49:14,447 : INFO : EPOCH 23 - PROGRESS: at 21.03% examples, 407457 words/s, in_qsize 12, out_qsize 3\n",
            "2020-01-17 05:49:15,486 : INFO : EPOCH 23 - PROGRESS: at 26.66% examples, 414958 words/s, in_qsize 15, out_qsize 0\n",
            "2020-01-17 05:49:16,500 : INFO : EPOCH 23 - PROGRESS: at 32.19% examples, 420332 words/s, in_qsize 16, out_qsize 2\n",
            "2020-01-17 05:49:17,520 : INFO : EPOCH 23 - PROGRESS: at 37.70% examples, 424316 words/s, in_qsize 15, out_qsize 1\n",
            "2020-01-17 05:49:18,541 : INFO : EPOCH 23 - PROGRESS: at 43.54% examples, 429587 words/s, in_qsize 15, out_qsize 0\n",
            "2020-01-17 05:49:19,563 : INFO : EPOCH 23 - PROGRESS: at 48.84% examples, 429356 words/s, in_qsize 16, out_qsize 0\n",
            "2020-01-17 05:49:20,593 : INFO : EPOCH 23 - PROGRESS: at 54.14% examples, 428812 words/s, in_qsize 16, out_qsize 4\n",
            "2020-01-17 05:49:21,603 : INFO : EPOCH 23 - PROGRESS: at 59.87% examples, 432224 words/s, in_qsize 15, out_qsize 1\n",
            "2020-01-17 05:49:22,615 : INFO : EPOCH 23 - PROGRESS: at 65.39% examples, 433575 words/s, in_qsize 15, out_qsize 0\n",
            "2020-01-17 05:49:23,705 : INFO : EPOCH 23 - PROGRESS: at 70.91% examples, 432228 words/s, in_qsize 13, out_qsize 2\n",
            "2020-01-17 05:49:24,726 : INFO : EPOCH 23 - PROGRESS: at 76.88% examples, 435583 words/s, in_qsize 15, out_qsize 0\n",
            "2020-01-17 05:49:25,764 : INFO : EPOCH 23 - PROGRESS: at 82.31% examples, 435144 words/s, in_qsize 14, out_qsize 4\n",
            "2020-01-17 05:49:26,768 : INFO : EPOCH 23 - PROGRESS: at 87.73% examples, 435669 words/s, in_qsize 13, out_qsize 2\n",
            "2020-01-17 05:49:27,870 : INFO : EPOCH 23 - PROGRESS: at 93.48% examples, 435760 words/s, in_qsize 15, out_qsize 6\n",
            "2020-01-17 05:49:28,831 : INFO : worker thread finished; awaiting finish of 7 more threads\n",
            "2020-01-17 05:49:28,840 : INFO : worker thread finished; awaiting finish of 6 more threads\n",
            "2020-01-17 05:49:28,844 : INFO : worker thread finished; awaiting finish of 5 more threads\n",
            "2020-01-17 05:49:28,845 : INFO : worker thread finished; awaiting finish of 4 more threads\n",
            "2020-01-17 05:49:28,848 : INFO : EPOCH 23 - PROGRESS: at 99.77% examples, 440079 words/s, in_qsize 3, out_qsize 1\n",
            "2020-01-17 05:49:28,848 : INFO : worker thread finished; awaiting finish of 3 more threads\n",
            "2020-01-17 05:49:28,853 : INFO : worker thread finished; awaiting finish of 2 more threads\n",
            "2020-01-17 05:49:28,870 : INFO : worker thread finished; awaiting finish of 1 more threads\n",
            "2020-01-17 05:49:28,873 : INFO : worker thread finished; awaiting finish of 0 more threads\n",
            "2020-01-17 05:49:28,874 : INFO : EPOCH - 23 : training on 9227204 raw words (8222675 effective words) took 18.7s, 440455 effective words/s\n",
            "2020-01-17 05:49:29,920 : INFO : EPOCH 24 - PROGRESS: at 4.89% examples, 386757 words/s, in_qsize 15, out_qsize 0\n",
            "2020-01-17 05:49:30,997 : INFO : EPOCH 24 - PROGRESS: at 10.31% examples, 400524 words/s, in_qsize 15, out_qsize 0\n",
            "2020-01-17 05:49:32,011 : INFO : EPOCH 24 - PROGRESS: at 15.73% examples, 413080 words/s, in_qsize 12, out_qsize 3\n",
            "2020-01-17 05:49:33,036 : INFO : EPOCH 24 - PROGRESS: at 21.57% examples, 426927 words/s, in_qsize 15, out_qsize 1\n",
            "2020-01-17 05:49:34,038 : INFO : EPOCH 24 - PROGRESS: at 27.10% examples, 432153 words/s, in_qsize 15, out_qsize 0\n",
            "2020-01-17 05:49:35,101 : INFO : EPOCH 24 - PROGRESS: at 33.06% examples, 437019 words/s, in_qsize 15, out_qsize 0\n",
            "2020-01-17 05:49:36,133 : INFO : EPOCH 24 - PROGRESS: at 39.00% examples, 442357 words/s, in_qsize 16, out_qsize 0\n",
            "2020-01-17 05:49:37,140 : INFO : EPOCH 24 - PROGRESS: at 44.29% examples, 441291 words/s, in_qsize 15, out_qsize 0\n",
            "2020-01-17 05:49:38,191 : INFO : EPOCH 24 - PROGRESS: at 49.70% examples, 439321 words/s, in_qsize 15, out_qsize 0\n",
            "2020-01-17 05:49:39,260 : INFO : EPOCH 24 - PROGRESS: at 55.86% examples, 443061 words/s, in_qsize 15, out_qsize 0\n",
            "2020-01-17 05:49:40,286 : INFO : EPOCH 24 - PROGRESS: at 61.50% examples, 444710 words/s, in_qsize 15, out_qsize 2\n",
            "2020-01-17 05:49:41,268 : INFO : EPOCH 24 - PROGRESS: at 67.34% examples, 447421 words/s, in_qsize 15, out_qsize 0\n",
            "2020-01-17 05:49:42,276 : INFO : EPOCH 24 - PROGRESS: at 72.75% examples, 447014 words/s, in_qsize 16, out_qsize 0\n",
            "2020-01-17 05:49:43,281 : INFO : EPOCH 24 - PROGRESS: at 77.85% examples, 444884 words/s, in_qsize 15, out_qsize 0\n",
            "2020-01-17 05:49:44,291 : INFO : EPOCH 24 - PROGRESS: at 83.40% examples, 445198 words/s, in_qsize 15, out_qsize 0\n",
            "2020-01-17 05:49:45,336 : INFO : EPOCH 24 - PROGRESS: at 88.70% examples, 443471 words/s, in_qsize 15, out_qsize 0\n",
            "2020-01-17 05:49:46,357 : INFO : EPOCH 24 - PROGRESS: at 94.14% examples, 443013 words/s, in_qsize 15, out_qsize 3\n",
            "2020-01-17 05:49:47,253 : INFO : worker thread finished; awaiting finish of 7 more threads\n",
            "2020-01-17 05:49:47,257 : INFO : worker thread finished; awaiting finish of 6 more threads\n",
            "2020-01-17 05:49:47,263 : INFO : worker thread finished; awaiting finish of 5 more threads\n",
            "2020-01-17 05:49:47,267 : INFO : worker thread finished; awaiting finish of 4 more threads\n",
            "2020-01-17 05:49:47,270 : INFO : worker thread finished; awaiting finish of 3 more threads\n",
            "2020-01-17 05:49:47,275 : INFO : worker thread finished; awaiting finish of 2 more threads\n",
            "2020-01-17 05:49:47,276 : INFO : worker thread finished; awaiting finish of 1 more threads\n",
            "2020-01-17 05:49:47,299 : INFO : worker thread finished; awaiting finish of 0 more threads\n",
            "2020-01-17 05:49:47,300 : INFO : EPOCH - 24 : training on 9227204 raw words (8222612 effective words) took 18.4s, 446489 effective words/s\n",
            "2020-01-17 05:49:48,319 : INFO : EPOCH 25 - PROGRESS: at 5.11% examples, 414948 words/s, in_qsize 16, out_qsize 0\n",
            "2020-01-17 05:49:49,328 : INFO : EPOCH 25 - PROGRESS: at 10.53% examples, 428583 words/s, in_qsize 15, out_qsize 0\n",
            "2020-01-17 05:49:50,374 : INFO : EPOCH 25 - PROGRESS: at 16.05% examples, 430444 words/s, in_qsize 16, out_qsize 1\n",
            "2020-01-17 05:49:51,529 : INFO : EPOCH 25 - PROGRESS: at 21.89% examples, 430575 words/s, in_qsize 15, out_qsize 7\n",
            "2020-01-17 05:49:52,550 : INFO : EPOCH 25 - PROGRESS: at 27.86% examples, 436931 words/s, in_qsize 16, out_qsize 1\n",
            "2020-01-17 05:49:53,570 : INFO : EPOCH 25 - PROGRESS: at 33.59% examples, 441164 words/s, in_qsize 15, out_qsize 0\n",
            "2020-01-17 05:49:54,587 : INFO : EPOCH 25 - PROGRESS: at 39.22% examples, 443222 words/s, in_qsize 15, out_qsize 0\n",
            "2020-01-17 05:49:55,589 : INFO : EPOCH 25 - PROGRESS: at 44.94% examples, 446583 words/s, in_qsize 15, out_qsize 0\n",
            "2020-01-17 05:49:56,591 : INFO : EPOCH 25 - PROGRESS: at 50.35% examples, 446372 words/s, in_qsize 16, out_qsize 0\n",
            "2020-01-17 05:49:57,613 : INFO : EPOCH 25 - PROGRESS: at 55.53% examples, 443653 words/s, in_qsize 15, out_qsize 2\n",
            "2020-01-17 05:49:58,635 : INFO : EPOCH 25 - PROGRESS: at 61.28% examples, 445296 words/s, in_qsize 16, out_qsize 0\n",
            "2020-01-17 05:49:59,696 : INFO : EPOCH 25 - PROGRESS: at 66.80% examples, 443822 words/s, in_qsize 15, out_qsize 0\n",
            "2020-01-17 05:50:00,708 : INFO : EPOCH 25 - PROGRESS: at 72.21% examples, 443545 words/s, in_qsize 12, out_qsize 3\n",
            "2020-01-17 05:50:01,721 : INFO : EPOCH 25 - PROGRESS: at 77.64% examples, 443272 words/s, in_qsize 11, out_qsize 4\n",
            "2020-01-17 05:50:02,756 : INFO : EPOCH 25 - PROGRESS: at 83.50% examples, 444715 words/s, in_qsize 15, out_qsize 0\n",
            "2020-01-17 05:50:03,803 : INFO : EPOCH 25 - PROGRESS: at 89.13% examples, 444542 words/s, in_qsize 13, out_qsize 2\n",
            "2020-01-17 05:50:04,830 : INFO : EPOCH 25 - PROGRESS: at 94.91% examples, 445411 words/s, in_qsize 15, out_qsize 0\n",
            "2020-01-17 05:50:05,555 : INFO : worker thread finished; awaiting finish of 7 more threads\n",
            "2020-01-17 05:50:05,571 : INFO : worker thread finished; awaiting finish of 6 more threads\n",
            "2020-01-17 05:50:05,598 : INFO : worker thread finished; awaiting finish of 5 more threads\n",
            "2020-01-17 05:50:05,602 : INFO : worker thread finished; awaiting finish of 4 more threads\n",
            "2020-01-17 05:50:05,632 : INFO : worker thread finished; awaiting finish of 3 more threads\n",
            "2020-01-17 05:50:05,642 : INFO : worker thread finished; awaiting finish of 2 more threads\n",
            "2020-01-17 05:50:05,647 : INFO : worker thread finished; awaiting finish of 1 more threads\n",
            "2020-01-17 05:50:05,649 : INFO : worker thread finished; awaiting finish of 0 more threads\n",
            "2020-01-17 05:50:05,650 : INFO : EPOCH - 25 : training on 9227204 raw words (8223045 effective words) took 18.3s, 448398 effective words/s\n",
            "2020-01-17 05:50:06,691 : INFO : EPOCH 26 - PROGRESS: at 4.67% examples, 372196 words/s, in_qsize 13, out_qsize 3\n",
            "2020-01-17 05:50:07,725 : INFO : EPOCH 26 - PROGRESS: at 10.64% examples, 423452 words/s, in_qsize 15, out_qsize 0\n",
            "2020-01-17 05:50:08,735 : INFO : EPOCH 26 - PROGRESS: at 16.59% examples, 443463 words/s, in_qsize 14, out_qsize 0\n",
            "2020-01-17 05:50:09,786 : INFO : EPOCH 26 - PROGRESS: at 21.89% examples, 436309 words/s, in_qsize 15, out_qsize 0\n",
            "2020-01-17 05:50:10,787 : INFO : EPOCH 26 - PROGRESS: at 27.53% examples, 441499 words/s, in_qsize 14, out_qsize 3\n",
            "2020-01-17 05:50:11,834 : INFO : EPOCH 26 - PROGRESS: at 32.84% examples, 437361 words/s, in_qsize 16, out_qsize 0\n",
            "2020-01-17 05:50:12,861 : INFO : EPOCH 26 - PROGRESS: at 37.81% examples, 431879 words/s, in_qsize 11, out_qsize 4\n",
            "2020-01-17 05:50:13,861 : INFO : EPOCH 26 - PROGRESS: at 43.00% examples, 431313 words/s, in_qsize 12, out_qsize 3\n",
            "2020-01-17 05:50:14,865 : INFO : EPOCH 26 - PROGRESS: at 48.84% examples, 436559 words/s, in_qsize 15, out_qsize 0\n",
            "2020-01-17 05:50:15,866 : INFO : EPOCH 26 - PROGRESS: at 54.03% examples, 435683 words/s, in_qsize 13, out_qsize 1\n",
            "2020-01-17 05:50:16,891 : INFO : EPOCH 26 - PROGRESS: at 59.44% examples, 435613 words/s, in_qsize 15, out_qsize 0\n",
            "2020-01-17 05:50:17,892 : INFO : EPOCH 26 - PROGRESS: at 65.06% examples, 437823 words/s, in_qsize 15, out_qsize 0\n",
            "2020-01-17 05:50:18,913 : INFO : EPOCH 26 - PROGRESS: at 70.48% examples, 437986 words/s, in_qsize 15, out_qsize 1\n",
            "2020-01-17 05:50:19,950 : INFO : EPOCH 26 - PROGRESS: at 76.44% examples, 440190 words/s, in_qsize 15, out_qsize 0\n",
            "2020-01-17 05:50:20,954 : INFO : EPOCH 26 - PROGRESS: at 81.55% examples, 438664 words/s, in_qsize 16, out_qsize 2\n",
            "2020-01-17 05:50:21,977 : INFO : EPOCH 26 - PROGRESS: at 87.40% examples, 440628 words/s, in_qsize 15, out_qsize 0\n",
            "2020-01-17 05:50:23,041 : INFO : EPOCH 26 - PROGRESS: at 93.37% examples, 441817 words/s, in_qsize 16, out_qsize 0\n",
            "2020-01-17 05:50:24,090 : INFO : EPOCH 26 - PROGRESS: at 99.01% examples, 441798 words/s, in_qsize 10, out_qsize 0\n",
            "2020-01-17 05:50:24,132 : INFO : worker thread finished; awaiting finish of 7 more threads\n",
            "2020-01-17 05:50:24,143 : INFO : worker thread finished; awaiting finish of 6 more threads\n",
            "2020-01-17 05:50:24,154 : INFO : worker thread finished; awaiting finish of 5 more threads\n",
            "2020-01-17 05:50:24,157 : INFO : worker thread finished; awaiting finish of 4 more threads\n",
            "2020-01-17 05:50:24,162 : INFO : worker thread finished; awaiting finish of 3 more threads\n",
            "2020-01-17 05:50:24,172 : INFO : worker thread finished; awaiting finish of 2 more threads\n",
            "2020-01-17 05:50:24,176 : INFO : worker thread finished; awaiting finish of 1 more threads\n",
            "2020-01-17 05:50:24,188 : INFO : worker thread finished; awaiting finish of 0 more threads\n",
            "2020-01-17 05:50:24,188 : INFO : EPOCH - 26 : training on 9227204 raw words (8222559 effective words) took 18.5s, 443841 effective words/s\n",
            "2020-01-17 05:50:25,204 : INFO : EPOCH 27 - PROGRESS: at 5.21% examples, 425329 words/s, in_qsize 14, out_qsize 1\n",
            "2020-01-17 05:50:26,242 : INFO : EPOCH 27 - PROGRESS: at 10.64% examples, 427418 words/s, in_qsize 16, out_qsize 3\n",
            "2020-01-17 05:50:27,261 : INFO : EPOCH 27 - PROGRESS: at 16.27% examples, 436456 words/s, in_qsize 14, out_qsize 1\n",
            "2020-01-17 05:50:28,298 : INFO : EPOCH 27 - PROGRESS: at 21.78% examples, 436873 words/s, in_qsize 14, out_qsize 1\n",
            "2020-01-17 05:50:29,350 : INFO : EPOCH 27 - PROGRESS: at 27.85% examples, 444536 words/s, in_qsize 16, out_qsize 0\n",
            "2020-01-17 05:50:30,357 : INFO : EPOCH 27 - PROGRESS: at 32.95% examples, 439824 words/s, in_qsize 15, out_qsize 0\n",
            "2020-01-17 05:50:31,389 : INFO : EPOCH 27 - PROGRESS: at 38.03% examples, 434963 words/s, in_qsize 11, out_qsize 4\n",
            "2020-01-17 05:50:32,481 : INFO : EPOCH 27 - PROGRESS: at 44.08% examples, 438386 words/s, in_qsize 15, out_qsize 2\n",
            "2020-01-17 05:50:33,487 : INFO : EPOCH 27 - PROGRESS: at 49.81% examples, 441298 words/s, in_qsize 15, out_qsize 0\n",
            "2020-01-17 05:50:34,516 : INFO : EPOCH 27 - PROGRESS: at 55.32% examples, 441403 words/s, in_qsize 15, out_qsize 0\n",
            "2020-01-17 05:50:35,518 : INFO : EPOCH 27 - PROGRESS: at 60.74% examples, 441665 words/s, in_qsize 15, out_qsize 0\n",
            "2020-01-17 05:50:36,539 : INFO : EPOCH 27 - PROGRESS: at 66.47% examples, 443378 words/s, in_qsize 14, out_qsize 1\n",
            "2020-01-17 05:50:37,570 : INFO : EPOCH 27 - PROGRESS: at 71.88% examples, 442497 words/s, in_qsize 15, out_qsize 0\n",
            "2020-01-17 05:50:38,610 : INFO : EPOCH 27 - PROGRESS: at 77.74% examples, 443941 words/s, in_qsize 15, out_qsize 0\n",
            "2020-01-17 05:50:39,613 : INFO : EPOCH 27 - PROGRESS: at 82.96% examples, 442799 words/s, in_qsize 16, out_qsize 0\n",
            "2020-01-17 05:50:40,613 : INFO : EPOCH 27 - PROGRESS: at 88.37% examples, 442929 words/s, in_qsize 14, out_qsize 1\n",
            "2020-01-17 05:50:41,616 : INFO : EPOCH 27 - PROGRESS: at 94.03% examples, 443989 words/s, in_qsize 15, out_qsize 0\n",
            "2020-01-17 05:50:42,578 : INFO : worker thread finished; awaiting finish of 7 more threads\n",
            "2020-01-17 05:50:42,583 : INFO : worker thread finished; awaiting finish of 6 more threads\n",
            "2020-01-17 05:50:42,622 : INFO : EPOCH 27 - PROGRESS: at 99.45% examples, 443972 words/s, in_qsize 5, out_qsize 1\n",
            "2020-01-17 05:50:42,625 : INFO : worker thread finished; awaiting finish of 5 more threads\n",
            "2020-01-17 05:50:42,630 : INFO : worker thread finished; awaiting finish of 4 more threads\n",
            "2020-01-17 05:50:42,633 : INFO : worker thread finished; awaiting finish of 3 more threads\n",
            "2020-01-17 05:50:42,658 : INFO : worker thread finished; awaiting finish of 2 more threads\n",
            "2020-01-17 05:50:42,670 : INFO : worker thread finished; awaiting finish of 1 more threads\n",
            "2020-01-17 05:50:42,672 : INFO : worker thread finished; awaiting finish of 0 more threads\n",
            "2020-01-17 05:50:42,673 : INFO : EPOCH - 27 : training on 9227204 raw words (8223932 effective words) took 18.5s, 445153 effective words/s\n",
            "2020-01-17 05:50:43,692 : INFO : EPOCH 28 - PROGRESS: at 4.78% examples, 388474 words/s, in_qsize 14, out_qsize 1\n",
            "2020-01-17 05:50:44,811 : INFO : EPOCH 28 - PROGRESS: at 10.75% examples, 414660 words/s, in_qsize 16, out_qsize 1\n",
            "2020-01-17 05:50:45,825 : INFO : EPOCH 28 - PROGRESS: at 16.27% examples, 425405 words/s, in_qsize 12, out_qsize 3\n",
            "2020-01-17 05:50:46,958 : INFO : EPOCH 28 - PROGRESS: at 22.44% examples, 433376 words/s, in_qsize 16, out_qsize 2\n",
            "2020-01-17 05:50:48,070 : INFO : EPOCH 28 - PROGRESS: at 28.50% examples, 434996 words/s, in_qsize 15, out_qsize 0\n",
            "2020-01-17 05:50:49,160 : INFO : EPOCH 28 - PROGRESS: at 34.57% examples, 438832 words/s, in_qsize 15, out_qsize 0\n",
            "2020-01-17 05:50:50,172 : INFO : EPOCH 28 - PROGRESS: at 39.97% examples, 439048 words/s, in_qsize 12, out_qsize 3\n",
            "2020-01-17 05:50:51,180 : INFO : EPOCH 28 - PROGRESS: at 45.70% examples, 442489 words/s, in_qsize 14, out_qsize 1\n",
            "2020-01-17 05:50:52,206 : INFO : EPOCH 28 - PROGRESS: at 51.10% examples, 441574 words/s, in_qsize 15, out_qsize 0\n",
            "2020-01-17 05:50:53,207 : INFO : EPOCH 28 - PROGRESS: at 56.51% examples, 441950 words/s, in_qsize 15, out_qsize 0\n",
            "2020-01-17 05:50:54,246 : INFO : EPOCH 28 - PROGRESS: at 61.93% examples, 440737 words/s, in_qsize 15, out_qsize 0\n",
            "2020-01-17 05:50:55,266 : INFO : EPOCH 28 - PROGRESS: at 67.88% examples, 444612 words/s, in_qsize 15, out_qsize 0\n",
            "2020-01-17 05:50:56,285 : INFO : EPOCH 28 - PROGRESS: at 73.08% examples, 442131 words/s, in_qsize 15, out_qsize 3\n",
            "2020-01-17 05:50:57,332 : INFO : EPOCH 28 - PROGRESS: at 79.05% examples, 443937 words/s, in_qsize 15, out_qsize 0\n",
            "2020-01-17 05:50:58,342 : INFO : EPOCH 28 - PROGRESS: at 85.02% examples, 446617 words/s, in_qsize 15, out_qsize 0\n",
            "2020-01-17 05:50:59,385 : INFO : EPOCH 28 - PROGRESS: at 90.43% examples, 445357 words/s, in_qsize 15, out_qsize 0\n",
            "2020-01-17 05:51:00,393 : INFO : EPOCH 28 - PROGRESS: at 96.42% examples, 447650 words/s, in_qsize 16, out_qsize 1\n",
            "2020-01-17 05:51:00,881 : INFO : worker thread finished; awaiting finish of 7 more threads\n",
            "2020-01-17 05:51:00,905 : INFO : worker thread finished; awaiting finish of 6 more threads\n",
            "2020-01-17 05:51:00,910 : INFO : worker thread finished; awaiting finish of 5 more threads\n",
            "2020-01-17 05:51:00,955 : INFO : worker thread finished; awaiting finish of 4 more threads\n",
            "2020-01-17 05:51:00,974 : INFO : worker thread finished; awaiting finish of 3 more threads\n",
            "2020-01-17 05:51:00,979 : INFO : worker thread finished; awaiting finish of 2 more threads\n",
            "2020-01-17 05:51:00,984 : INFO : worker thread finished; awaiting finish of 1 more threads\n",
            "2020-01-17 05:51:00,987 : INFO : worker thread finished; awaiting finish of 0 more threads\n",
            "2020-01-17 05:51:00,988 : INFO : EPOCH - 28 : training on 9227204 raw words (8222772 effective words) took 18.3s, 449215 effective words/s\n",
            "2020-01-17 05:51:02,011 : INFO : EPOCH 29 - PROGRESS: at 5.00% examples, 406397 words/s, in_qsize 15, out_qsize 2\n",
            "2020-01-17 05:51:03,014 : INFO : EPOCH 29 - PROGRESS: at 10.53% examples, 429901 words/s, in_qsize 14, out_qsize 2\n",
            "2020-01-17 05:51:04,093 : INFO : EPOCH 29 - PROGRESS: at 16.27% examples, 432386 words/s, in_qsize 13, out_qsize 2\n",
            "2020-01-17 05:51:05,097 : INFO : EPOCH 29 - PROGRESS: at 22.11% examples, 443830 words/s, in_qsize 14, out_qsize 1\n",
            "2020-01-17 05:51:06,105 : INFO : EPOCH 29 - PROGRESS: at 27.20% examples, 438242 words/s, in_qsize 15, out_qsize 0\n",
            "2020-01-17 05:51:07,135 : INFO : EPOCH 29 - PROGRESS: at 32.73% examples, 439333 words/s, in_qsize 16, out_qsize 2\n",
            "2020-01-17 05:51:08,150 : INFO : EPOCH 29 - PROGRESS: at 38.57% examples, 443670 words/s, in_qsize 15, out_qsize 0\n",
            "2020-01-17 05:51:09,193 : INFO : EPOCH 29 - PROGRESS: at 44.07% examples, 442610 words/s, in_qsize 16, out_qsize 0\n",
            "2020-01-17 05:51:10,280 : INFO : EPOCH 29 - PROGRESS: at 50.13% examples, 444546 words/s, in_qsize 15, out_qsize 0\n",
            "2020-01-17 05:51:11,332 : INFO : EPOCH 29 - PROGRESS: at 55.75% examples, 444156 words/s, in_qsize 11, out_qsize 4\n",
            "2020-01-17 05:51:12,376 : INFO : EPOCH 29 - PROGRESS: at 60.74% examples, 439437 words/s, in_qsize 15, out_qsize 0\n",
            "2020-01-17 05:51:13,406 : INFO : EPOCH 29 - PROGRESS: at 66.26% examples, 439546 words/s, in_qsize 15, out_qsize 0\n",
            "2020-01-17 05:51:14,477 : INFO : EPOCH 29 - PROGRESS: at 71.99% examples, 439784 words/s, in_qsize 15, out_qsize 1\n",
            "2020-01-17 05:51:15,531 : INFO : EPOCH 29 - PROGRESS: at 77.86% examples, 440839 words/s, in_qsize 15, out_qsize 0\n",
            "2020-01-17 05:51:16,589 : INFO : EPOCH 29 - PROGRESS: at 83.29% examples, 439665 words/s, in_qsize 15, out_qsize 4\n",
            "2020-01-17 05:51:17,600 : INFO : EPOCH 29 - PROGRESS: at 88.59% examples, 439043 words/s, in_qsize 14, out_qsize 1\n",
            "2020-01-17 05:51:18,602 : INFO : EPOCH 29 - PROGRESS: at 93.92% examples, 438822 words/s, in_qsize 15, out_qsize 1\n",
            "2020-01-17 05:51:19,494 : INFO : worker thread finished; awaiting finish of 7 more threads\n",
            "2020-01-17 05:51:19,517 : INFO : worker thread finished; awaiting finish of 6 more threads\n",
            "2020-01-17 05:51:19,546 : INFO : worker thread finished; awaiting finish of 5 more threads\n",
            "2020-01-17 05:51:19,581 : INFO : worker thread finished; awaiting finish of 4 more threads\n",
            "2020-01-17 05:51:19,584 : INFO : worker thread finished; awaiting finish of 3 more threads\n",
            "2020-01-17 05:51:19,591 : INFO : worker thread finished; awaiting finish of 2 more threads\n",
            "2020-01-17 05:51:19,592 : INFO : worker thread finished; awaiting finish of 1 more threads\n",
            "2020-01-17 05:51:19,593 : INFO : worker thread finished; awaiting finish of 0 more threads\n",
            "2020-01-17 05:51:19,595 : INFO : EPOCH - 29 : training on 9227204 raw words (8222189 effective words) took 18.6s, 442255 effective words/s\n",
            "2020-01-17 05:51:20,648 : INFO : EPOCH 30 - PROGRESS: at 4.56% examples, 359083 words/s, in_qsize 8, out_qsize 7\n",
            "2020-01-17 05:51:21,663 : INFO : EPOCH 30 - PROGRESS: at 10.42% examples, 415898 words/s, in_qsize 15, out_qsize 0\n",
            "2020-01-17 05:51:22,735 : INFO : EPOCH 30 - PROGRESS: at 16.16% examples, 424220 words/s, in_qsize 15, out_qsize 2\n",
            "2020-01-17 05:51:23,743 : INFO : EPOCH 30 - PROGRESS: at 21.68% examples, 430644 words/s, in_qsize 15, out_qsize 0\n",
            "2020-01-17 05:51:24,746 : INFO : EPOCH 30 - PROGRESS: at 27.42% examples, 438501 words/s, in_qsize 15, out_qsize 0\n",
            "2020-01-17 05:51:25,756 : INFO : EPOCH 30 - PROGRESS: at 32.62% examples, 435990 words/s, in_qsize 14, out_qsize 2\n",
            "2020-01-17 05:51:26,809 : INFO : EPOCH 30 - PROGRESS: at 38.35% examples, 437804 words/s, in_qsize 15, out_qsize 0\n",
            "2020-01-17 05:51:27,814 : INFO : EPOCH 30 - PROGRESS: at 43.75% examples, 438460 words/s, in_qsize 14, out_qsize 1\n",
            "2020-01-17 05:51:28,833 : INFO : EPOCH 30 - PROGRESS: at 49.16% examples, 438376 words/s, in_qsize 12, out_qsize 3\n",
            "2020-01-17 05:51:29,883 : INFO : EPOCH 30 - PROGRESS: at 54.78% examples, 438661 words/s, in_qsize 15, out_qsize 0\n",
            "2020-01-17 05:51:30,887 : INFO : EPOCH 30 - PROGRESS: at 59.66% examples, 435168 words/s, in_qsize 15, out_qsize 0\n",
            "2020-01-17 05:51:31,888 : INFO : EPOCH 30 - PROGRESS: at 65.61% examples, 439607 words/s, in_qsize 13, out_qsize 1\n",
            "2020-01-17 05:51:32,952 : INFO : EPOCH 30 - PROGRESS: at 70.91% examples, 437250 words/s, in_qsize 16, out_qsize 4\n",
            "2020-01-17 05:51:33,975 : INFO : EPOCH 30 - PROGRESS: at 76.77% examples, 439592 words/s, in_qsize 15, out_qsize 0\n",
            "2020-01-17 05:51:34,985 : INFO : EPOCH 30 - PROGRESS: at 82.32% examples, 440275 words/s, in_qsize 12, out_qsize 3\n",
            "2020-01-17 05:51:36,001 : INFO : EPOCH 30 - PROGRESS: at 87.73% examples, 440173 words/s, in_qsize 11, out_qsize 4\n",
            "2020-01-17 05:51:37,025 : INFO : EPOCH 30 - PROGRESS: at 93.48% examples, 441362 words/s, in_qsize 15, out_qsize 0\n",
            "2020-01-17 05:51:38,033 : INFO : EPOCH 30 - PROGRESS: at 99.00% examples, 441882 words/s, in_qsize 8, out_qsize 2\n",
            "2020-01-17 05:51:38,042 : INFO : worker thread finished; awaiting finish of 7 more threads\n",
            "2020-01-17 05:51:38,045 : INFO : worker thread finished; awaiting finish of 6 more threads\n",
            "2020-01-17 05:51:38,052 : INFO : worker thread finished; awaiting finish of 5 more threads\n",
            "2020-01-17 05:51:38,070 : INFO : worker thread finished; awaiting finish of 4 more threads\n",
            "2020-01-17 05:51:38,087 : INFO : worker thread finished; awaiting finish of 3 more threads\n",
            "2020-01-17 05:51:38,108 : INFO : worker thread finished; awaiting finish of 2 more threads\n",
            "2020-01-17 05:51:38,114 : INFO : worker thread finished; awaiting finish of 1 more threads\n",
            "2020-01-17 05:51:38,119 : INFO : worker thread finished; awaiting finish of 0 more threads\n",
            "2020-01-17 05:51:38,119 : INFO : EPOCH - 30 : training on 9227204 raw words (8223327 effective words) took 18.5s, 444198 effective words/s\n",
            "2020-01-17 05:51:39,138 : INFO : EPOCH 31 - PROGRESS: at 4.89% examples, 397609 words/s, in_qsize 15, out_qsize 0\n",
            "2020-01-17 05:51:40,155 : INFO : EPOCH 31 - PROGRESS: at 10.42% examples, 422370 words/s, in_qsize 14, out_qsize 2\n",
            "2020-01-17 05:51:41,225 : INFO : EPOCH 31 - PROGRESS: at 16.70% examples, 443131 words/s, in_qsize 15, out_qsize 0\n",
            "2020-01-17 05:51:42,298 : INFO : EPOCH 31 - PROGRESS: at 22.66% examples, 446568 words/s, in_qsize 15, out_qsize 0\n",
            "2020-01-17 05:51:43,340 : INFO : EPOCH 31 - PROGRESS: at 27.96% examples, 441105 words/s, in_qsize 13, out_qsize 4\n",
            "2020-01-17 05:51:44,410 : INFO : EPOCH 31 - PROGRESS: at 33.70% examples, 441109 words/s, in_qsize 15, out_qsize 0\n",
            "2020-01-17 05:51:45,541 : INFO : EPOCH 31 - PROGRESS: at 39.86% examples, 442293 words/s, in_qsize 14, out_qsize 4\n",
            "2020-01-17 05:51:46,554 : INFO : EPOCH 31 - PROGRESS: at 45.59% examples, 445205 words/s, in_qsize 15, out_qsize 0\n",
            "2020-01-17 05:51:47,559 : INFO : EPOCH 31 - PROGRESS: at 51.21% examples, 446907 words/s, in_qsize 15, out_qsize 0\n",
            "2020-01-17 05:51:48,562 : INFO : EPOCH 31 - PROGRESS: at 56.51% examples, 445818 words/s, in_qsize 15, out_qsize 0\n",
            "2020-01-17 05:51:49,608 : INFO : EPOCH 31 - PROGRESS: at 61.82% examples, 443208 words/s, in_qsize 15, out_qsize 0\n",
            "2020-01-17 05:51:50,609 : INFO : EPOCH 31 - PROGRESS: at 67.02% examples, 441905 words/s, in_qsize 15, out_qsize 0\n",
            "2020-01-17 05:51:51,660 : INFO : EPOCH 31 - PROGRESS: at 72.54% examples, 441671 words/s, in_qsize 15, out_qsize 0\n",
            "2020-01-17 05:51:52,681 : INFO : EPOCH 31 - PROGRESS: at 77.86% examples, 440189 words/s, in_qsize 14, out_qsize 1\n",
            "2020-01-17 05:51:53,693 : INFO : EPOCH 31 - PROGRESS: at 83.18% examples, 439627 words/s, in_qsize 15, out_qsize 2\n",
            "2020-01-17 05:51:54,812 : INFO : EPOCH 31 - PROGRESS: at 89.02% examples, 438952 words/s, in_qsize 14, out_qsize 1\n",
            "2020-01-17 05:51:55,827 : INFO : EPOCH 31 - PROGRESS: at 94.47% examples, 438915 words/s, in_qsize 14, out_qsize 1\n",
            "2020-01-17 05:51:56,685 : INFO : worker thread finished; awaiting finish of 7 more threads\n",
            "2020-01-17 05:51:56,697 : INFO : worker thread finished; awaiting finish of 6 more threads\n",
            "2020-01-17 05:51:56,729 : INFO : worker thread finished; awaiting finish of 5 more threads\n",
            "2020-01-17 05:51:56,733 : INFO : worker thread finished; awaiting finish of 4 more threads\n",
            "2020-01-17 05:51:56,737 : INFO : worker thread finished; awaiting finish of 3 more threads\n",
            "2020-01-17 05:51:56,744 : INFO : worker thread finished; awaiting finish of 2 more threads\n",
            "2020-01-17 05:51:56,750 : INFO : worker thread finished; awaiting finish of 1 more threads\n",
            "2020-01-17 05:51:56,761 : INFO : worker thread finished; awaiting finish of 0 more threads\n",
            "2020-01-17 05:51:56,762 : INFO : EPOCH - 31 : training on 9227204 raw words (8222690 effective words) took 18.6s, 441315 effective words/s\n",
            "2020-01-17 05:51:57,801 : INFO : EPOCH 32 - PROGRESS: at 4.56% examples, 363403 words/s, in_qsize 13, out_qsize 2\n",
            "2020-01-17 05:51:58,814 : INFO : EPOCH 32 - PROGRESS: at 10.42% examples, 418673 words/s, in_qsize 15, out_qsize 0\n",
            "2020-01-17 05:51:59,818 : INFO : EPOCH 32 - PROGRESS: at 15.52% examples, 417999 words/s, in_qsize 15, out_qsize 1\n",
            "2020-01-17 05:52:00,840 : INFO : EPOCH 32 - PROGRESS: at 21.14% examples, 426839 words/s, in_qsize 15, out_qsize 0\n",
            "2020-01-17 05:52:01,848 : INFO : EPOCH 32 - PROGRESS: at 26.34% examples, 426324 words/s, in_qsize 14, out_qsize 1\n",
            "2020-01-17 05:52:02,851 : INFO : EPOCH 32 - PROGRESS: at 31.64% examples, 427822 words/s, in_qsize 14, out_qsize 5\n",
            "2020-01-17 05:52:03,888 : INFO : EPOCH 32 - PROGRESS: at 37.37% examples, 431808 words/s, in_qsize 16, out_qsize 0\n",
            "2020-01-17 05:52:04,922 : INFO : EPOCH 32 - PROGRESS: at 43.00% examples, 433856 words/s, in_qsize 14, out_qsize 1\n",
            "2020-01-17 05:52:05,923 : INFO : EPOCH 32 - PROGRESS: at 48.73% examples, 437990 words/s, in_qsize 16, out_qsize 0\n",
            "2020-01-17 05:52:06,930 : INFO : EPOCH 32 - PROGRESS: at 54.03% examples, 437595 words/s, in_qsize 15, out_qsize 0\n",
            "2020-01-17 05:52:08,030 : INFO : EPOCH 32 - PROGRESS: at 59.77% examples, 436811 words/s, in_qsize 14, out_qsize 1\n",
            "2020-01-17 05:52:09,082 : INFO : EPOCH 32 - PROGRESS: at 65.61% examples, 438517 words/s, in_qsize 15, out_qsize 0\n",
            "2020-01-17 05:52:10,089 : INFO : EPOCH 32 - PROGRESS: at 71.35% examples, 440836 words/s, in_qsize 16, out_qsize 1\n",
            "2020-01-17 05:52:11,137 : INFO : EPOCH 32 - PROGRESS: at 77.09% examples, 441547 words/s, in_qsize 15, out_qsize 0\n",
            "2020-01-17 05:52:12,144 : INFO : EPOCH 32 - PROGRESS: at 81.99% examples, 438684 words/s, in_qsize 13, out_qsize 2\n",
            "2020-01-17 05:52:13,154 : INFO : EPOCH 32 - PROGRESS: at 87.18% examples, 437745 words/s, in_qsize 16, out_qsize 1\n",
            "2020-01-17 05:52:14,173 : INFO : EPOCH 32 - PROGRESS: at 92.83% examples, 438706 words/s, in_qsize 15, out_qsize 0\n",
            "2020-01-17 05:52:15,210 : INFO : EPOCH 32 - PROGRESS: at 98.25% examples, 438173 words/s, in_qsize 16, out_qsize 1\n",
            "2020-01-17 05:52:15,361 : INFO : worker thread finished; awaiting finish of 7 more threads\n",
            "2020-01-17 05:52:15,364 : INFO : worker thread finished; awaiting finish of 6 more threads\n",
            "2020-01-17 05:52:15,368 : INFO : worker thread finished; awaiting finish of 5 more threads\n",
            "2020-01-17 05:52:15,372 : INFO : worker thread finished; awaiting finish of 4 more threads\n",
            "2020-01-17 05:52:15,376 : INFO : worker thread finished; awaiting finish of 3 more threads\n",
            "2020-01-17 05:52:15,385 : INFO : worker thread finished; awaiting finish of 2 more threads\n",
            "2020-01-17 05:52:15,391 : INFO : worker thread finished; awaiting finish of 1 more threads\n",
            "2020-01-17 05:52:15,403 : INFO : worker thread finished; awaiting finish of 0 more threads\n",
            "2020-01-17 05:52:15,404 : INFO : EPOCH - 32 : training on 9227204 raw words (8222702 effective words) took 18.6s, 441326 effective words/s\n",
            "2020-01-17 05:52:15,405 : INFO : training on a 295270528 raw words (263129787 effective words) took 592.7s, 443957 effective words/s\n"
          ],
          "name": "stderr"
        },
        {
          "output_type": "stream",
          "text": [
            "CPU times: user 19min 14s, sys: 4.63 s, total: 19min 18s\n",
            "Wall time: 9min 52s\n"
          ],
          "name": "stdout"
        },
        {
          "output_type": "execute_result",
          "data": {
            "text/plain": [
              "(263129787, 295270528)"
            ]
          },
          "metadata": {
            "tags": []
          },
          "execution_count": 27
        }
      ]
    },
    {
      "cell_type": "code",
      "metadata": {
        "id": "DmAchMDguORS",
        "colab_type": "code",
        "outputId": "da976552-8edb-4664-f893-350fd32128e6",
        "colab": {
          "base_uri": "https://localhost:8080/",
          "height": 263
        }
      },
      "source": [
        "w2v_model.most_similar(\"love\")"
      ],
      "execution_count": 0,
      "outputs": [
        {
          "output_type": "stream",
          "text": [
            "/usr/local/lib/python3.6/dist-packages/ipykernel_launcher.py:1: DeprecationWarning: Call to deprecated `most_similar` (Method will be removed in 4.0.0, use self.wv.most_similar() instead).\n",
            "  \"\"\"Entry point for launching an IPython kernel.\n",
            "2020-01-17 05:53:05,512 : INFO : precomputing L2-norms of word weight vectors\n"
          ],
          "name": "stderr"
        },
        {
          "output_type": "execute_result",
          "data": {
            "text/plain": [
              "[('luv', 0.570814847946167),\n",
              " ('loves', 0.5598657131195068),\n",
              " ('loved', 0.5442669987678528),\n",
              " ('adore', 0.527519702911377),\n",
              " ('looove', 0.5096513628959656),\n",
              " ('amazing', 0.5040900111198425),\n",
              " ('awesome', 0.4626478850841522),\n",
              " ('loveee', 0.4624171555042267),\n",
              " ('lovee', 0.457017719745636),\n",
              " ('loooove', 0.4519737660884857)]"
            ]
          },
          "metadata": {
            "tags": []
          },
          "execution_count": 28
        }
      ]
    },
    {
      "cell_type": "markdown",
      "metadata": {
        "id": "i39FWi-fuSb_",
        "colab_type": "text"
      },
      "source": [
        "### Tokenize Text"
      ]
    },
    {
      "cell_type": "code",
      "metadata": {
        "id": "AEPf0XoYuXIL",
        "colab_type": "code",
        "outputId": "222b612a-ef96-49ea-8baa-359b81406445",
        "colab": {
          "base_uri": "https://localhost:8080/",
          "height": 69
        }
      },
      "source": [
        "get_ipython().run_cell_magic('time', '', 'tokenizer = Tokenizer()\\ntokenizer.fit_on_texts(df_train.text)\\n\\nvocab_size = len(tokenizer.word_index) + 1\\nprint(\"Total words\", vocab_size)')"
      ],
      "execution_count": 0,
      "outputs": [
        {
          "output_type": "stream",
          "text": [
            "Total words 290419\n",
            "CPU times: user 17.1 s, sys: 69 ms, total: 17.2 s\n",
            "Wall time: 17.2 s\n"
          ],
          "name": "stdout"
        }
      ]
    },
    {
      "cell_type": "code",
      "metadata": {
        "id": "00-FvCM9uZZk",
        "colab_type": "code",
        "outputId": "fe093544-b54c-4223-b451-303951c26013",
        "colab": {
          "base_uri": "https://localhost:8080/",
          "height": 52
        }
      },
      "source": [
        "get_ipython().run_cell_magic('time', '', 'x_train = pad_sequences(tokenizer.texts_to_sequences(df_train.text), maxlen=SEQUENCE_LENGTH)\\nx_test = pad_sequences(tokenizer.texts_to_sequences(df_test.text), maxlen=SEQUENCE_LENGTH)')"
      ],
      "execution_count": 0,
      "outputs": [
        {
          "output_type": "stream",
          "text": [
            "CPU times: user 24.1 s, sys: 460 ms, total: 24.6 s\n",
            "Wall time: 24.6 s\n"
          ],
          "name": "stdout"
        }
      ]
    },
    {
      "cell_type": "markdown",
      "metadata": {
        "id": "vA_UnvdKucNi",
        "colab_type": "text"
      },
      "source": [
        "### Label Encoder\n",
        "\n"
      ]
    },
    {
      "cell_type": "code",
      "metadata": {
        "id": "gRM3wRvFumXj",
        "colab_type": "code",
        "outputId": "c62cda9f-b9e5-459a-f4a8-d3f8253bbb28",
        "colab": {
          "base_uri": "https://localhost:8080/",
          "height": 35
        }
      },
      "source": [
        "labels = df_train.target.unique().tolist()\n",
        "labels.append(NEUTRAL)\n",
        "labels"
      ],
      "execution_count": 0,
      "outputs": [
        {
          "output_type": "execute_result",
          "data": {
            "text/plain": [
              "['POSITIVE', 'NEGATIVE', 'NEUTRAL']"
            ]
          },
          "metadata": {
            "tags": []
          },
          "execution_count": 32
        }
      ]
    },
    {
      "cell_type": "code",
      "metadata": {
        "id": "G6HsObSHupu0",
        "colab_type": "code",
        "outputId": "5c00f0a4-cd0c-4f38-f8c6-d5d31377f1a5",
        "colab": {
          "base_uri": "https://localhost:8080/",
          "height": 52
        }
      },
      "source": [
        "encoder = LabelEncoder()\n",
        "encoder.fit(df_train.target.tolist())\n",
        "\n",
        "y_train = encoder.transform(df_train.target.tolist())\n",
        "y_test = encoder.transform(df_test.target.tolist())\n",
        "\n",
        "y_train = y_train.reshape(-1,1)\n",
        "y_test = y_test.reshape(-1,1)\n",
        "\n",
        "print(\"y_train\",y_train.shape)\n",
        "print(\"y_test\",y_test.shape)"
      ],
      "execution_count": 0,
      "outputs": [
        {
          "output_type": "stream",
          "text": [
            "y_train (1280000, 1)\n",
            "y_test (320000, 1)\n"
          ],
          "name": "stdout"
        }
      ]
    },
    {
      "cell_type": "code",
      "metadata": {
        "id": "XAXO4XnVuseK",
        "colab_type": "code",
        "outputId": "18bca262-ae2b-44e3-bf4f-0134615798b8",
        "colab": {
          "base_uri": "https://localhost:8080/",
          "height": 104
        }
      },
      "source": [
        "print(\"x_train\", x_train.shape)\n",
        "print(\"y_train\", y_train.shape)\n",
        "print()\n",
        "print(\"x_test\", x_test.shape)\n",
        "print(\"y_test\", y_test.shape)"
      ],
      "execution_count": 0,
      "outputs": [
        {
          "output_type": "stream",
          "text": [
            "x_train (1280000, 300)\n",
            "y_train (1280000, 1)\n",
            "\n",
            "x_test (320000, 300)\n",
            "y_test (320000, 1)\n"
          ],
          "name": "stdout"
        }
      ]
    },
    {
      "cell_type": "code",
      "metadata": {
        "id": "g0AyBSlbuwK5",
        "colab_type": "code",
        "outputId": "95fced28-266d-4632-a005-a79a9b58d221",
        "colab": {
          "base_uri": "https://localhost:8080/",
          "height": 191
        }
      },
      "source": [
        "y_train[:10]"
      ],
      "execution_count": 0,
      "outputs": [
        {
          "output_type": "execute_result",
          "data": {
            "text/plain": [
              "array([[1],\n",
              "       [1],\n",
              "       [1],\n",
              "       [0],\n",
              "       [1],\n",
              "       [1],\n",
              "       [1],\n",
              "       [1],\n",
              "       [1],\n",
              "       [1]])"
            ]
          },
          "metadata": {
            "tags": []
          },
          "execution_count": 35
        }
      ]
    },
    {
      "cell_type": "markdown",
      "metadata": {
        "id": "nrbjJdXxuy2T",
        "colab_type": "text"
      },
      "source": [
        "### Embedding Layer"
      ]
    },
    {
      "cell_type": "code",
      "metadata": {
        "id": "1Iy67kf7u6hv",
        "colab_type": "code",
        "outputId": "da83d127-370b-4d14-ab4f-634956a27596",
        "colab": {
          "base_uri": "https://localhost:8080/",
          "height": 35
        }
      },
      "source": [
        "embedding_matrix = np.zeros((vocab_size, W2V_SIZE))\n",
        "for word, i in tokenizer.word_index.items():\n",
        "  if word in w2v_model.wv:\n",
        "    embedding_matrix[i] = w2v_model.wv[word]\n",
        "print(embedding_matrix.shape)\n"
      ],
      "execution_count": 0,
      "outputs": [
        {
          "output_type": "stream",
          "text": [
            "(290419, 300)\n"
          ],
          "name": "stdout"
        }
      ]
    },
    {
      "cell_type": "code",
      "metadata": {
        "id": "A4HPBgmPu8E9",
        "colab_type": "code",
        "colab": {}
      },
      "source": [
        "embedding_layer = Embedding(vocab_size, W2V_SIZE, weights=[embedding_matrix], input_length=SEQUENCE_LENGTH, trainable=False)"
      ],
      "execution_count": 0,
      "outputs": []
    },
    {
      "cell_type": "markdown",
      "metadata": {
        "id": "n3yWiIRXvAsz",
        "colab_type": "text"
      },
      "source": [
        "### Building the Model"
      ]
    },
    {
      "cell_type": "code",
      "metadata": {
        "id": "_APYP0V1u_u_",
        "colab_type": "code",
        "outputId": "7e320763-2e81-42cb-eebf-bd5e4dcaee37",
        "colab": {
          "base_uri": "https://localhost:8080/",
          "height": 419
        }
      },
      "source": [
        "model = Sequential()\n",
        "model.add(embedding_layer)\n",
        "model.add(Dropout(0.5))\n",
        "model.add(LSTM(100, dropout=0.2, recurrent_dropout=0.2))\n",
        "model.add(Dense(1, activation='sigmoid'))\n",
        "\n",
        "model.summary()"
      ],
      "execution_count": 0,
      "outputs": [
        {
          "output_type": "stream",
          "text": [
            "WARNING:tensorflow:From /usr/local/lib/python3.6/dist-packages/tensorflow_core/python/ops/resource_variable_ops.py:1630: calling BaseResourceVariable.__init__ (from tensorflow.python.ops.resource_variable_ops) with constraint is deprecated and will be removed in a future version.\n",
            "Instructions for updating:\n",
            "If using Keras pass *_constraint arguments to layers.\n"
          ],
          "name": "stdout"
        },
        {
          "output_type": "stream",
          "text": [
            "2020-01-17 05:55:22,788 : WARNING : From /usr/local/lib/python3.6/dist-packages/tensorflow_core/python/ops/resource_variable_ops.py:1630: calling BaseResourceVariable.__init__ (from tensorflow.python.ops.resource_variable_ops) with constraint is deprecated and will be removed in a future version.\n",
            "Instructions for updating:\n",
            "If using Keras pass *_constraint arguments to layers.\n"
          ],
          "name": "stderr"
        },
        {
          "output_type": "stream",
          "text": [
            "Model: \"sequential_1\"\n",
            "_________________________________________________________________\n",
            "Layer (type)                 Output Shape              Param #   \n",
            "=================================================================\n",
            "embedding_1 (Embedding)      (None, 300, 300)          87125700  \n",
            "_________________________________________________________________\n",
            "dropout_1 (Dropout)          (None, 300, 300)          0         \n",
            "_________________________________________________________________\n",
            "lstm_1 (LSTM)                (None, 100)               160400    \n",
            "_________________________________________________________________\n",
            "dense_1 (Dense)              (None, 1)                 101       \n",
            "=================================================================\n",
            "Total params: 87,286,201\n",
            "Trainable params: 160,501\n",
            "Non-trainable params: 87,125,700\n",
            "_________________________________________________________________\n"
          ],
          "name": "stdout"
        }
      ]
    },
    {
      "cell_type": "code",
      "metadata": {
        "id": "IFQ-aihAvI9H",
        "colab_type": "code",
        "outputId": "3a1e2a9f-0161-42e8-d82e-8b7f196d2fd8",
        "colab": {
          "base_uri": "https://localhost:8080/",
          "height": 141
        }
      },
      "source": [
        "model.compile(loss='binary_crossentropy',\n",
        "              optimizer=\"adam\",\n",
        "              metrics=['accuracy'])"
      ],
      "execution_count": 0,
      "outputs": [
        {
          "output_type": "stream",
          "text": [
            "WARNING:tensorflow:From /usr/local/lib/python3.6/dist-packages/tensorflow_core/python/ops/nn_impl.py:183: where (from tensorflow.python.ops.array_ops) is deprecated and will be removed in a future version.\n",
            "Instructions for updating:\n",
            "Use tf.where in 2.0, which has the same broadcast rule as np.where\n"
          ],
          "name": "stdout"
        },
        {
          "output_type": "stream",
          "text": [
            "2020-01-17 05:55:38,465 : WARNING : From /usr/local/lib/python3.6/dist-packages/tensorflow_core/python/ops/nn_impl.py:183: where (from tensorflow.python.ops.array_ops) is deprecated and will be removed in a future version.\n",
            "Instructions for updating:\n",
            "Use tf.where in 2.0, which has the same broadcast rule as np.where\n"
          ],
          "name": "stderr"
        }
      ]
    },
    {
      "cell_type": "markdown",
      "metadata": {
        "id": "LulPdjiLvLNZ",
        "colab_type": "text"
      },
      "source": [
        "### Callbacks"
      ]
    },
    {
      "cell_type": "code",
      "metadata": {
        "id": "PWx_3UuJvd3d",
        "colab_type": "code",
        "colab": {}
      },
      "source": [
        "callbacks = [ ReduceLROnPlateau(monitor='val_loss', patience=5, cooldown=0),\n",
        "              EarlyStopping(monitor='val_acc', min_delta=1e-4, patience=5)]"
      ],
      "execution_count": 0,
      "outputs": []
    },
    {
      "cell_type": "markdown",
      "metadata": {
        "id": "3jnWCZukviqk",
        "colab_type": "text"
      },
      "source": [
        "### Train"
      ]
    },
    {
      "cell_type": "code",
      "metadata": {
        "id": "cZeRxwUfvl6w",
        "colab_type": "code",
        "outputId": "5c2137d9-9454-4759-b39d-e0b39977bcf3",
        "colab": {
          "base_uri": "https://localhost:8080/",
          "height": 471
        }
      },
      "source": [
        "get_ipython().run_cell_magic('time', '', 'history = model.fit(x_train, y_train,\\n                    batch_size=BATCH_SIZE,\\n                    epochs=EPOCHS,\\n                    validation_split=0.1,\\n                    verbose=1,\\n                    callbacks=callbacks)')"
      ],
      "execution_count": 0,
      "outputs": [
        {
          "output_type": "stream",
          "text": [
            "WARNING:tensorflow:From /usr/local/lib/python3.6/dist-packages/keras/backend/tensorflow_backend.py:422: The name tf.global_variables is deprecated. Please use tf.compat.v1.global_variables instead.\n",
            "\n"
          ],
          "name": "stdout"
        },
        {
          "output_type": "stream",
          "text": [
            "2020-01-17 05:55:56,319 : WARNING : From /usr/local/lib/python3.6/dist-packages/keras/backend/tensorflow_backend.py:422: The name tf.global_variables is deprecated. Please use tf.compat.v1.global_variables instead.\n",
            "\n"
          ],
          "name": "stderr"
        },
        {
          "output_type": "stream",
          "text": [
            "Train on 1152000 samples, validate on 128000 samples\n",
            "Epoch 1/8\n",
            "1152000/1152000 [==============================] - 351s 304us/step - loss: 0.5070 - accuracy: 0.7482 - val_loss: 0.4626 - val_accuracy: 0.7793\n",
            "Epoch 2/8\n"
          ],
          "name": "stdout"
        },
        {
          "output_type": "stream",
          "text": [
            "/usr/local/lib/python3.6/dist-packages/keras/callbacks/callbacks.py:846: RuntimeWarning: Early stopping conditioned on metric `val_acc` which is not available. Available metrics are: val_loss,val_accuracy,loss,accuracy,lr\n",
            "  (self.monitor, ','.join(list(logs.keys()))), RuntimeWarning\n"
          ],
          "name": "stderr"
        },
        {
          "output_type": "stream",
          "text": [
            "1152000/1152000 [==============================] - 352s 305us/step - loss: 0.4826 - accuracy: 0.7648 - val_loss: 0.4574 - val_accuracy: 0.7842\n",
            "Epoch 3/8\n",
            "1152000/1152000 [==============================] - 348s 302us/step - loss: 0.4755 - accuracy: 0.7693 - val_loss: 0.4518 - val_accuracy: 0.7864\n",
            "Epoch 4/8\n",
            "1152000/1152000 [==============================] - 355s 308us/step - loss: 0.4717 - accuracy: 0.7720 - val_loss: 0.4511 - val_accuracy: 0.7878\n",
            "Epoch 5/8\n",
            "1152000/1152000 [==============================] - 359s 312us/step - loss: 0.4691 - accuracy: 0.7737 - val_loss: 0.4493 - val_accuracy: 0.7883\n",
            "Epoch 6/8\n",
            "1152000/1152000 [==============================] - 358s 311us/step - loss: 0.4744 - accuracy: 0.7707 - val_loss: 0.4609 - val_accuracy: 0.7812\n",
            "Epoch 7/8\n",
            "1152000/1152000 [==============================] - 356s 309us/step - loss: 0.4812 - accuracy: 0.7665 - val_loss: 0.4537 - val_accuracy: 0.7845\n",
            "Epoch 8/8\n",
            "1152000/1152000 [==============================] - 356s 309us/step - loss: 0.4761 - accuracy: 0.7697 - val_loss: 0.4510 - val_accuracy: 0.7866\n",
            "CPU times: user 1h 1min, sys: 3min 36s, total: 1h 4min 37s\n",
            "Wall time: 47min 13s\n"
          ],
          "name": "stdout"
        }
      ]
    },
    {
      "cell_type": "markdown",
      "metadata": {
        "id": "G4QIU0A-vrYr",
        "colab_type": "text"
      },
      "source": [
        "### Evaluate"
      ]
    },
    {
      "cell_type": "code",
      "metadata": {
        "id": "2LqazdbVvvJf",
        "colab_type": "code",
        "outputId": "5c759226-7954-463a-8a76-e4bc950df447",
        "colab": {
          "base_uri": "https://localhost:8080/",
          "height": 121
        }
      },
      "source": [
        "get_ipython().run_cell_magic('time', '', 'score = model.evaluate(x_test, y_test, batch_size=BATCH_SIZE)\\nprint()\\nprint(\"ACCURACY:\",score[1])\\nprint(\"LOSS:\",score[0])')"
      ],
      "execution_count": 0,
      "outputs": [
        {
          "output_type": "stream",
          "text": [
            "320000/320000 [==============================] - 42s 131us/step\n",
            "\n",
            "ACCURACY: 0.7871906161308289\n",
            "LOSS: 0.44952336411476135\n",
            "CPU times: user 57.9 s, sys: 4.15 s, total: 1min 2s\n",
            "Wall time: 41.9 s\n"
          ],
          "name": "stdout"
        }
      ]
    },
    {
      "cell_type": "code",
      "metadata": {
        "id": "Po3sSqgkvyU1",
        "colab_type": "code",
        "outputId": "d70dc606-aad5-4d93-84a1-5a817351df25",
        "colab": {
          "base_uri": "https://localhost:8080/",
          "height": 545
        }
      },
      "source": [
        "acc = history.history['accuracy']\n",
        "val_acc = history.history['val_accuracy']\n",
        "loss = history.history['loss']\n",
        "val_loss = history.history['val_loss']\n",
        " \n",
        "epochs = range(len(acc))\n",
        " \n",
        "# plt.plot(epochs, acc, 'b', label='Training acc')\n",
        "plt.plot(epochs, val_acc, 'r', label='Validation acc')\n",
        "plt.title('Training and validation accuracy')\n",
        "plt.legend()\n",
        " \n",
        "plt.figure()\n",
        " \n",
        "plt.plot(epochs, loss, 'b', label='Training loss')\n",
        "plt.plot(epochs, val_loss, 'r', label='Validation loss')\n",
        "plt.title('Training and validation loss')\n",
        "plt.legend()\n",
        " \n",
        "plt.show()"
      ],
      "execution_count": 0,
      "outputs": [
        {
          "output_type": "display_data",
          "data": {
            "image/png": "[encoded data removed]",
            "text/plain": [
              "<Figure size 432x288 with 1 Axes>"
            ]
          },
          "metadata": {
            "tags": []
          }
        },
        {
          "output_type": "display_data",
          "data": {
            "image/png": "[encoded data removed]",
            "text/plain": [
              "<Figure size 432x288 with 1 Axes>"
            ]
          },
          "metadata": {
            "tags": []
          }
        }
      ]
    },
    {
      "cell_type": "markdown",
      "metadata": {
        "id": "t1f3Ph1cv15K",
        "colab_type": "text"
      },
      "source": [
        "### Predict"
      ]
    },
    {
      "cell_type": "code",
      "metadata": {
        "id": "jZPuszIlv4dd",
        "colab_type": "code",
        "colab": {}
      },
      "source": [
        "def decode_sentiment(score, include_neutral=True):\n",
        "    if include_neutral:        \n",
        "        label = NEUTRAL\n",
        "        if score <= SENTIMENT_THRESHOLDS[0]:\n",
        "            label = NEGATIVE\n",
        "        elif score >= SENTIMENT_THRESHOLDS[1]:\n",
        "            label = POSITIVE\n",
        "\n",
        "        return label\n",
        "    else:\n",
        "        return NEGATIVE if score < 0.5 else POSITIVE"
      ],
      "execution_count": 0,
      "outputs": []
    },
    {
      "cell_type": "code",
      "metadata": {
        "id": "O50ouNETv7cK",
        "colab_type": "code",
        "colab": {}
      },
      "source": [
        "def predict(text, include_neutral=True):\n",
        "    start_at = time.time()\n",
        "    # Tokenize text\n",
        "    x_test = pad_sequences(tokenizer.texts_to_sequences([text]), maxlen=SEQUENCE_LENGTH)\n",
        "    # Predict\n",
        "    score = model.predict([x_test])[0]\n",
        "    # Decode sentiment\n",
        "    label = decode_sentiment(score, include_neutral=include_neutral)\n",
        "\n",
        "    return {\"label\": label, \"score\": float(score),\n",
        "       \"elapsed_time\": time.time()-start_at}"
      ],
      "execution_count": 0,
      "outputs": []
    },
    {
      "cell_type": "code",
      "metadata": {
        "id": "3DBSBOuqv-oz",
        "colab_type": "code",
        "outputId": "1ad7feec-b67a-46eb-df18-f51f7abc52cb",
        "colab": {
          "base_uri": "https://localhost:8080/",
          "height": 69
        }
      },
      "source": [
        "predict(\"woah! worst day of my life!!\")"
      ],
      "execution_count": 0,
      "outputs": [
        {
          "output_type": "execute_result",
          "data": {
            "text/plain": [
              "{'elapsed_time': 1.7333588600158691,\n",
              " 'label': 'NEGATIVE',\n",
              " 'score': 0.027576861903071404}"
            ]
          },
          "metadata": {
            "tags": []
          },
          "execution_count": 9
        }
      ]
    },
    {
      "cell_type": "markdown",
      "metadata": {
        "id": "pYAqE1u5wGLh",
        "colab_type": "text"
      },
      "source": [
        "### Confusion Matrix"
      ]
    },
    {
      "cell_type": "code",
      "metadata": {
        "id": "8AjWHPsXwJCS",
        "colab_type": "code",
        "outputId": "4a9514ed-142f-4b59-d1ff-a61f8ce53315",
        "colab": {
          "base_uri": "https://localhost:8080/",
          "height": 69
        }
      },
      "source": [
        "get_ipython().run_cell_magic('time', '', 'y_pred_1d = []\\ny_test_1d = list(df_test.target)\\nscores = model.predict(x_test, verbose=1, batch_size=8000)\\ny_pred_1d = [decode_sentiment(score, include_neutral=False) for score in scores]')\n"
      ],
      "execution_count": 0,
      "outputs": [
        {
          "output_type": "stream",
          "text": [
            "320000/320000 [==============================] - 24s 75us/step\n",
            "CPU times: user 11.3 s, sys: 1.67 s, total: 13 s\n",
            "Wall time: 24.5 s\n"
          ],
          "name": "stdout"
        }
      ]
    },
    {
      "cell_type": "code",
      "metadata": {
        "id": "q1AK1ckGwLLi",
        "colab_type": "code",
        "colab": {}
      },
      "source": [
        "def plot_confusion_matrix(cm, classes,\n",
        "                          title='Confusion matrix',\n",
        "                          cmap=plt.cm.Blues):\n",
        "    \"\"\"\n",
        "    This function prints and plots the confusion matrix.\n",
        "    Normalization can be applied by setting `normalize=True`.\n",
        "    \"\"\"\n",
        "\n",
        "    cm = cm.astype('float') / cm.sum(axis=1)[:, np.newaxis]\n",
        "\n",
        "    plt.imshow(cm, interpolation='nearest', cmap=cmap)\n",
        "    plt.title(title, fontsize=30)\n",
        "    plt.colorbar()\n",
        "    tick_marks = np.arange(len(classes))\n",
        "    plt.xticks(tick_marks, classes, rotation=90, fontsize=22)\n",
        "    plt.yticks(tick_marks, classes, fontsize=22)\n",
        "\n",
        "    fmt = '.2f'\n",
        "    thresh = cm.max() / 2.\n",
        "    for i, j in itertools.product(range(cm.shape[0]), range(cm.shape[1])):\n",
        "        plt.text(j, i, format(cm[i, j], fmt),\n",
        "                 horizontalalignment=\"center\",\n",
        "                 color=\"white\" if cm[i, j] > thresh else \"black\")\n",
        "\n",
        "    plt.ylabel('True label', fontsize=25)\n",
        "    plt.xlabel('Predicted label', fontsize=25)\n"
      ],
      "execution_count": 0,
      "outputs": []
    },
    {
      "cell_type": "code",
      "metadata": {
        "id": "esOZzhwxwO93",
        "colab_type": "code",
        "outputId": "e0620e4d-85b4-41db-ace5-60632d679b97",
        "colab": {
          "base_uri": "https://localhost:8080/",
          "height": 806
        }
      },
      "source": [
        "get_ipython().run_cell_magic('time', '', '\\ncnf_matrix = confusion_matrix(y_test_1d, y_pred_1d)\\nplt.figure(figsize=(12,12))\\nplot_confusion_matrix(cnf_matrix, classes=df_train.target.unique(), title=\"Confusion matrix\")\\nplt.show()')\n"
      ],
      "execution_count": 0,
      "outputs": [
        {
          "output_type": "display_data",
          "data": {
            "image/png": "[encoded data removed]",
            "text/plain": [
              "<Figure size 864x864 with 2 Axes>"
            ]
          },
          "metadata": {
            "tags": []
          }
        },
        {
          "output_type": "stream",
          "text": [
            "CPU times: user 1.08 s, sys: 27.3 ms, total: 1.1 s\n",
            "Wall time: 1.12 s\n"
          ],
          "name": "stdout"
        }
      ]
    },
    {
      "cell_type": "markdown",
      "metadata": {
        "id": "2uAk3Qg7wQcd",
        "colab_type": "text"
      },
      "source": [
        "### Classification Report"
      ]
    },
    {
      "cell_type": "code",
      "metadata": {
        "id": "U_ShQru2wW0U",
        "colab_type": "code",
        "outputId": "c192deb7-f86b-4312-8632-2ea50e150901",
        "colab": {
          "base_uri": "https://localhost:8080/",
          "height": 173
        }
      },
      "source": [
        "print(classification_report(y_test_1d, y_pred_1d))"
      ],
      "execution_count": 0,
      "outputs": [
        {
          "output_type": "stream",
          "text": [
            "              precision    recall  f1-score   support\n",
            "\n",
            "    NEGATIVE       0.80      0.77      0.78    159494\n",
            "    POSITIVE       0.78      0.80      0.79    160506\n",
            "\n",
            "    accuracy                           0.79    320000\n",
            "   macro avg       0.79      0.79      0.79    320000\n",
            "weighted avg       0.79      0.79      0.79    320000\n",
            "\n"
          ],
          "name": "stdout"
        }
      ]
    },
    {
      "cell_type": "markdown",
      "metadata": {
        "id": "YCPqQnoCwZHi",
        "colab_type": "text"
      },
      "source": [
        "### Accuracy Score"
      ]
    },
    {
      "cell_type": "code",
      "metadata": {
        "id": "v4bCSV75wcR9",
        "colab_type": "code",
        "outputId": "20b97339-3ee3-4df4-d25b-bc88e47b025e",
        "colab": {
          "base_uri": "https://localhost:8080/",
          "height": 35
        }
      },
      "source": [
        "accuracy_score(y_test_1d, y_pred_1d)\n"
      ],
      "execution_count": 0,
      "outputs": [
        {
          "output_type": "execute_result",
          "data": {
            "text/plain": [
              "0.787190625"
            ]
          },
          "metadata": {
            "tags": []
          },
          "execution_count": 57
        }
      ]
    },
    {
      "cell_type": "markdown",
      "metadata": {
        "id": "yk8XUMYLwfvy",
        "colab_type": "text"
      },
      "source": [
        "### Save Model"
      ]
    },
    {
      "cell_type": "code",
      "metadata": {
        "id": "ohuYAToHwho4",
        "colab_type": "code",
        "outputId": "46e2b32f-e6b0-449a-db3b-ffcacd49c3cc",
        "colab": {
          "base_uri": "https://localhost:8080/",
          "height": 87
        }
      },
      "source": [
        "model.save(KERAS_MODEL)\n",
        "w2v_model.save(WORD2VEC_MODEL)\n",
        "pickle.dump(tokenizer, open(TOKENIZER_MODEL, \"wb\"), protocol=0)\n",
        "pickle.dump(encoder, open(ENCODER_MODEL, \"wb\"), protocol=0)"
      ],
      "execution_count": 0,
      "outputs": [
        {
          "output_type": "stream",
          "text": [
            "2020-01-17 07:21:20,500 : INFO : saving Word2Vec object under /content/gdrive/My Drive/model.w2v, separately None\n",
            "2020-01-17 07:21:20,502 : INFO : not storing attribute vectors_norm\n",
            "2020-01-17 07:21:20,504 : INFO : not storing attribute cum_table\n",
            "2020-01-17 07:21:21,660 : INFO : saved /content/gdrive/My Drive/model.w2v\n"
          ],
          "name": "stderr"
        }
      ]
    },
    {
      "cell_type": "markdown",
      "metadata": {
        "id": "drnjdtw6Kmp6",
        "colab_type": "text"
      },
      "source": [
        "### Load Model\n"
      ]
    },
    {
      "cell_type": "code",
      "metadata": {
        "id": "ltbc9EYXKl8_",
        "colab_type": "code",
        "outputId": "cbb45f4e-7bea-4df3-dcec-b6a4728d7811",
        "colab": {
          "base_uri": "https://localhost:8080/",
          "height": 315
        }
      },
      "source": [
        "model = load_model(KERAS_MODEL)\n",
        "with open(TOKENIZER_MODEL, 'rb') as handle:\n",
        "    tokenizer = pickle.load(handle)"
      ],
      "execution_count": 0,
      "outputs": [
        {
          "output_type": "stream",
          "text": [
            "WARNING:tensorflow:From /usr/local/lib/python3.6/dist-packages/tensorflow_core/python/ops/resource_variable_ops.py:1630: calling BaseResourceVariable.__init__ (from tensorflow.python.ops.resource_variable_ops) with constraint is deprecated and will be removed in a future version.\n",
            "Instructions for updating:\n",
            "If using Keras pass *_constraint arguments to layers.\n"
          ],
          "name": "stdout"
        },
        {
          "output_type": "stream",
          "text": [
            "2020-01-19 05:40:49,448 : WARNING : From /usr/local/lib/python3.6/dist-packages/tensorflow_core/python/ops/resource_variable_ops.py:1630: calling BaseResourceVariable.__init__ (from tensorflow.python.ops.resource_variable_ops) with constraint is deprecated and will be removed in a future version.\n",
            "Instructions for updating:\n",
            "If using Keras pass *_constraint arguments to layers.\n"
          ],
          "name": "stderr"
        },
        {
          "output_type": "stream",
          "text": [
            "WARNING:tensorflow:From /usr/local/lib/python3.6/dist-packages/tensorflow_core/python/ops/nn_impl.py:183: where (from tensorflow.python.ops.array_ops) is deprecated and will be removed in a future version.\n",
            "Instructions for updating:\n",
            "Use tf.where in 2.0, which has the same broadcast rule as np.where\n"
          ],
          "name": "stdout"
        },
        {
          "output_type": "stream",
          "text": [
            "2020-01-19 05:40:58,904 : WARNING : From /usr/local/lib/python3.6/dist-packages/tensorflow_core/python/ops/nn_impl.py:183: where (from tensorflow.python.ops.array_ops) is deprecated and will be removed in a future version.\n",
            "Instructions for updating:\n",
            "Use tf.where in 2.0, which has the same broadcast rule as np.where\n"
          ],
          "name": "stderr"
        },
        {
          "output_type": "stream",
          "text": [
            "WARNING:tensorflow:From /usr/local/lib/python3.6/dist-packages/keras/backend/tensorflow_backend.py:422: The name tf.global_variables is deprecated. Please use tf.compat.v1.global_variables instead.\n",
            "\n"
          ],
          "name": "stdout"
        },
        {
          "output_type": "stream",
          "text": [
            "2020-01-19 05:40:59,577 : WARNING : From /usr/local/lib/python3.6/dist-packages/keras/backend/tensorflow_backend.py:422: The name tf.global_variables is deprecated. Please use tf.compat.v1.global_variables instead.\n",
            "\n"
          ],
          "name": "stderr"
        }
      ]
    }
  ]
}